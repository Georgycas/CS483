{
 "cells": [
  {
   "cell_type": "markdown",
   "id": "284336d5-f4da-4eb2-8eeb-751404033fcf",
   "metadata": {},
   "source": [
    "Length Function\n",
    "\n",
    "Suppose we had a string like `my_str = \"Wednesday\"` and \\\n",
    "we wanted to know how many characters are in the string.\\\n",
    "We can use a built-in function called `len()` to find\\\n",
    "the length of a string (and many other data types as we will see)."
   ]
  },
  {
   "cell_type": "code",
   "execution_count": 2,
   "id": "d54c9b9a-f423-4401-a618-e0d477a7f3d4",
   "metadata": {
    "tags": []
   },
   "outputs": [
    {
     "name": "stdout",
     "output_type": "stream",
     "text": [
      "9\n"
     ]
    }
   ],
   "source": [
    "my_str = \"Wednesday\"\n",
    "print(len(my_str))  # Output: 9\n"
   ]
  },
  {
   "cell_type": "markdown",
   "id": "28c7f776-3be8-4fb8-9377-8519ba153bc3",
   "metadata": {},
   "source": [
    "The function `len()` returns the number of characters\\\n",
    "in the string. In this case, the string\\\n",
    "\"Wednesday\" has 9 characters."
   ]
  },
  {
   "cell_type": "markdown",
   "id": "90e6f8d0-4eb0-4ac4-934d-f3ec98d08ab6",
   "metadata": {},
   "source": [
    "String Indexing\n",
    "\n",
    "Suppose we want to access individual characters\\\n",
    "from a string. We can do this by indexing the string."
   ]
  },
  {
   "cell_type": "code",
   "execution_count": 3,
   "id": "cb7d38e9-db97-4645-930a-aa9a4f2db0af",
   "metadata": {
    "tags": []
   },
   "outputs": [
    {
     "name": "stdout",
     "output_type": "stream",
     "text": [
      "H\n",
      "e\n",
      "l\n",
      "l\n",
      "o\n"
     ]
    }
   ],
   "source": [
    "my_str = \"Hello\"\n",
    "print(my_str[0])  # Output: H\n",
    "print(my_str[1])  # Output: e\n",
    "print(my_str[2])  # Output: l\n",
    "print(my_str[3])  # Output: l\n",
    "print(my_str[4])  # Output: o\n"
   ]
  },
  {
   "cell_type": "markdown",
   "id": "8ae481ae-b57b-44aa-b54c-884e4720e825",
   "metadata": {},
   "source": [
    "Notice that we place square brackets after the variable\\\n",
    "name and inside the brackets, we put the `index` of the\\\n",
    "character we want to access."
   ]
  },
  {
   "cell_type": "markdown",
   "id": "8b651464-88db-4848-87c0-a71800ac7702",
   "metadata": {},
   "source": [
    "The above string is of length `5`. To access the first character\\\n",
    "of the string, we use the index `0`, for the second we use index `1`,\\\n",
    "for the third we use index `2`, and so on. The last index of the\\\n",
    "word is therefore not `5`, but `4`.\n",
    "\n",
    "This is confusing for beginners to programming, but it is a common\\\n",
    "practice in most programming languages. It is called zero-based indexing.\n",
    "\n",
    "The following code will cause an error:"
   ]
  },
  {
   "cell_type": "code",
   "execution_count": 4,
   "id": "81e5cde3-00a5-4a63-b9f7-6ba0f3fd38aa",
   "metadata": {
    "tags": []
   },
   "outputs": [
    {
     "ename": "IndexError",
     "evalue": "string index out of range",
     "output_type": "error",
     "traceback": [
      "\u001b[0;31m---------------------------------------------------------------------------\u001b[0m",
      "\u001b[0;31mIndexError\u001b[0m                                Traceback (most recent call last)",
      "Cell \u001b[0;32mIn[4], line 3\u001b[0m\n\u001b[1;32m      1\u001b[0m my_str \u001b[38;5;241m=\u001b[39m \u001b[38;5;124m\"\u001b[39m\u001b[38;5;124mHello\u001b[39m\u001b[38;5;124m\"\u001b[39m\n\u001b[0;32m----> 3\u001b[0m \u001b[38;5;28mprint\u001b[39m(my_str[\u001b[38;5;241m5\u001b[39m])  \u001b[38;5;66;03m# IndexError: string index out of range\u001b[39;00m\n\u001b[1;32m      5\u001b[0m length \u001b[38;5;241m=\u001b[39m \u001b[38;5;28mlen\u001b[39m(my_str)   \u001b[38;5;66;03m# length = 5\u001b[39;00m\n\u001b[1;32m      6\u001b[0m \u001b[38;5;28mprint\u001b[39m(my_str[length])\n",
      "\u001b[0;31mIndexError\u001b[0m: string index out of range"
     ]
    }
   ],
   "source": [
    "my_str = \"Hello\"\n",
    "\n",
    "print(my_str[5])  # IndexError: string index out of range\n",
    "\n",
    "length = len(my_str)   # length = 5\n",
    "print(my_str[length])  # IndexError: string index out of range\n"
   ]
  },
  {
   "cell_type": "markdown",
   "id": "fcca929e-d9e8-43d9-89bb-0d37b674db3c",
   "metadata": {},
   "source": [
    "String Looping\n",
    "\n",
    "What if we want to access each character in a string\\\n",
    "separately? With our knowledge of loops, indexing and\\\n",
    "the `len()` function we can now accomplish this."
   ]
  },
  {
   "cell_type": "code",
   "execution_count": 5,
   "id": "dbc5b842-a974-4c4a-a6e1-c52ffa3ec8fe",
   "metadata": {
    "tags": []
   },
   "outputs": [
    {
     "name": "stdout",
     "output_type": "stream",
     "text": [
      "H\n",
      "e\n",
      "l\n",
      "l\n",
      "o\n",
      ",\n",
      " \n",
      "W\n",
      "o\n",
      "r\n",
      "l\n",
      "d\n",
      "!\n"
     ]
    }
   ],
   "source": [
    "my_string = \"Hello, World!\"\n",
    "\n",
    "length = len(my_string) # 13\n",
    "\n",
    "for i in range(length):\n",
    "    print(my_string[i])"
   ]
  },
  {
   "cell_type": "markdown",
   "id": "a81d51f0-7b17-4b99-b976-b1e4b3251b9c",
   "metadata": {},
   "source": [
    "- Remember that the range(13) function will generate a\\\n",
    "  sequence of numbers from 0 to 12, not including 13.\n",
    "- This is perfect, the first character of our string\\\n",
    "  is at index 0, and the last character of our string is at index 12.\n",
    "- We can now use the index i to access and print each\\\n",
    "  character of the string."
   ]
  },
  {
   "cell_type": "markdown",
   "id": "c9968ab7-519c-4e02-a64c-c508910876a2",
   "metadata": {},
   "source": [
    "String Looping Shorthand\n",
    "\n",
    "Consider the following code:"
   ]
  },
  {
   "cell_type": "code",
   "execution_count": 6,
   "id": "6477d688-6788-44e0-94cd-e23d0aebd1da",
   "metadata": {
    "tags": []
   },
   "outputs": [
    {
     "name": "stdout",
     "output_type": "stream",
     "text": [
      "0 H\n",
      "1 e\n",
      "2 l\n",
      "3 l\n",
      "4 o\n"
     ]
    }
   ],
   "source": [
    "my_string = \"Hello\"\n",
    "\n",
    "for i in range(len(my_string)):\n",
    "    print(i, my_string[i])"
   ]
  },
  {
   "cell_type": "markdown",
   "id": "40758341-1859-4385-831e-65307ee96c45",
   "metadata": {},
   "source": [
    "It prints the index of each character in the string\\\n",
    "along with the character itself.\n",
    "\n",
    "But if we don't explicitly need the index, we can\\\n",
    "use a shorthand to loop through each character in the string:"
   ]
  },
  {
   "cell_type": "code",
   "execution_count": 7,
   "id": "3acd5064-3e8c-4149-87c5-cc2661377907",
   "metadata": {
    "tags": []
   },
   "outputs": [
    {
     "name": "stdout",
     "output_type": "stream",
     "text": [
      "H\n",
      "e\n",
      "l\n",
      "l\n",
      "o\n"
     ]
    }
   ],
   "source": [
    "my_string = \"Hello\"\n",
    "\n",
    "for char in my_string:\n",
    "    print(char)\n"
   ]
  },
  {
   "cell_type": "markdown",
   "id": "fabe772c-3c38-4735-ad56-4e88423e47b4",
   "metadata": {},
   "source": [
    "Directly using the `in` keyword allows us to iterate through\\\n",
    "each character of the string without needing to use the index.\\\n",
    "We used the name `char` for readability, but you can use any\\\n",
    "name you want, like `c` or `i`."
   ]
  },
  {
   "cell_type": "code",
   "execution_count": null,
   "id": "e08a4a87-56c2-4962-9621-1dd290d37951",
   "metadata": {},
   "outputs": [],
   "source": []
  },
  {
   "cell_type": "markdown",
   "id": "b097e2d1-e2ee-4a84-ab7a-2e17d536b6d9",
   "metadata": {},
   "source": [
    "String Concatenation\n",
    "\n",
    "In Python, `concatenation` is the process of combining two or\\\n",
    "more strings into a single string. Python provides the `+` operator\\\n",
    "for concatenating strings. When you use the `+` operator with two strings,\\\n",
    "Python joins them together to create a new string."
   ]
  },
  {
   "cell_type": "code",
   "execution_count": 5,
   "id": "ef000f8c-1692-4b9e-a4fe-4508ce1d48b2",
   "metadata": {
    "tags": []
   },
   "outputs": [
    {
     "name": "stdout",
     "output_type": "stream",
     "text": [
      "Hello, world!\n"
     ]
    }
   ],
   "source": [
    "str1 = \"Hello, \"\n",
    "str2 = \"world!\"\n",
    "print(str1 + str2) # Output: Hello, world!"
   ]
  },
  {
   "cell_type": "markdown",
   "id": "b98817b4-db82-42e7-ae3c-0b9564850367",
   "metadata": {},
   "source": [
    "In this example, `str1` and `str2` are concatenated together\\\n",
    "using the `+` operator, resulting in the string \"Hello, world!\"."
   ]
  },
  {
   "cell_type": "markdown",
   "id": "a756c0d5-411f-4567-9d5b-5f52830736d3",
   "metadata": {},
   "source": [
    "String Slicing\n",
    "\n",
    "If we only want to access a portion of a string\\\n",
    "we can use slicing. Slicing allows us to extract\\\n",
    "a substring from a string, by specifying a range of indices."
   ]
  },
  {
   "cell_type": "code",
   "execution_count": 8,
   "id": "6e2b37bc-6e38-46f0-85bf-5a8ed93bff3f",
   "metadata": {
    "tags": []
   },
   "outputs": [
    {
     "name": "stdout",
     "output_type": "stream",
     "text": [
      "ello\n"
     ]
    }
   ],
   "source": [
    "my_string = \"Hello, World!\"\n",
    "\n",
    "start, end = 1, 5\n",
    "\n",
    "print(my_string[start:end])  # Output: ello\n"
   ]
  },
  {
   "cell_type": "markdown",
   "id": "f6e349cc-bcf3-4a8f-b1a8-5c6f4261143d",
   "metadata": {},
   "source": [
    "In this example, we are extracting the substring from\\\n",
    "index 1 to 5 (not including 5) from the string \"Hello, World!\"."
   ]
  },
  {
   "cell_type": "markdown",
   "id": "a6f177fe-8987-4e26-92e4-07a7330c60b5",
   "metadata": {},
   "source": [
    "With string slicing we are actually not required to\\\n",
    "specify either the start or the end index.\n",
    "\n",
    "If we don't specify the start, it's equivalent to starting\\\n",
    "from the beginning of the string."
   ]
  },
  {
   "cell_type": "code",
   "execution_count": 9,
   "id": "21f87e30-bba7-4227-af05-12001a0ed6a0",
   "metadata": {
    "tags": []
   },
   "outputs": [
    {
     "name": "stdout",
     "output_type": "stream",
     "text": [
      "Wed\n",
      "Wed\n"
     ]
    }
   ],
   "source": [
    "my_string = \"Wednesday\"\n",
    "\n",
    "print(my_string[:3])  # Output: Wed\n",
    "\n",
    "print(my_string[0:3]) # Output: Wed\n"
   ]
  },
  {
   "cell_type": "markdown",
   "id": "30e53d8f-21a1-4501-bf4b-6807517a9bed",
   "metadata": {},
   "source": [
    "If we don't specify the end, it's equivalent to ending at\\\n",
    "the end of the string."
   ]
  },
  {
   "cell_type": "code",
   "execution_count": 11,
   "id": "c18aeac1-5ddf-4b82-9636-c12f24e7b012",
   "metadata": {
    "tags": []
   },
   "outputs": [
    {
     "name": "stdout",
     "output_type": "stream",
     "text": [
      "esday\n",
      "esda\n"
     ]
    }
   ],
   "source": [
    "my_string = \"Wednesday\"\n",
    "\n",
    "print(my_string[4:])  # Output: esday\n",
    "\n",
    "print(my_string[4:8]) # Output: esda\n"
   ]
  },
  {
   "cell_type": "markdown",
   "id": "f8f36582-b214-4ce5-9e4e-5a86a08eb074",
   "metadata": {},
   "source": [
    "If we don't specify either, we get the entire string."
   ]
  },
  {
   "cell_type": "code",
   "execution_count": 13,
   "id": "11cf53b7-18c3-415c-9c6b-744b8a2043a0",
   "metadata": {
    "tags": []
   },
   "outputs": [
    {
     "name": "stdout",
     "output_type": "stream",
     "text": [
      "Wednesday\n",
      "Wednesday\n"
     ]
    }
   ],
   "source": [
    "my_string = \"Wednesday\"\n",
    "\n",
    "print(my_string[:])  # Output: Wednesday\n",
    "print(my_string)     # Output: Wednesday\n"
   ]
  },
  {
   "cell_type": "markdown",
   "id": "029abaa8-7b75-4060-8d36-1e69f3dc08f9",
   "metadata": {},
   "source": [
    "Reversing a String\n",
    "\n",
    "We can also use slicing to reverse a string.\\\n",
    "By not specifying the starting index or the ending\\\n",
    "index, and setting the step to -1, the string \\\n",
    "will be reversed.\n",
    "\n",
    "Take a look at the example below:"
   ]
  },
  {
   "cell_type": "code",
   "execution_count": 14,
   "id": "3c0ea3e4-b734-4558-a350-b3b24f654289",
   "metadata": {
    "tags": []
   },
   "outputs": [
    {
     "name": "stdout",
     "output_type": "stream",
     "text": [
      "olleH\n"
     ]
    }
   ],
   "source": [
    "my_string = \"Hello\"\n",
    "\n",
    "print(my_string[::-1])  # Output: olleH\n"
   ]
  },
  {
   "cell_type": "markdown",
   "id": "ebf89889-01f4-4315-b95a-e2d1f7ef5f89",
   "metadata": {},
   "source": [
    "Notice that we have two colons in the slicing syntax.\\\n",
    "This will make more sense if you look at the below example:"
   ]
  },
  {
   "cell_type": "code",
   "execution_count": 15,
   "id": "005df859-9a6b-46bd-9d4f-f531464f897d",
   "metadata": {
    "tags": []
   },
   "outputs": [
    {
     "name": "stdout",
     "output_type": "stream",
     "text": [
      "ell\n",
      "lle\n"
     ]
    }
   ],
   "source": [
    "my_string = \"Hello\"\n",
    "start, end, step = 1, 4, 1\n",
    "\n",
    "print(my_string[start:end:step])   # Output: ell\n",
    "\n",
    "start, end, step = 3, 0, -1\n",
    "\n",
    "print(my_string[start:end:step]) # Output: lle\n"
   ]
  },
  {
   "cell_type": "markdown",
   "id": "62bf01e0-3e68-48e9-96c2-0d7917e86b4f",
   "metadata": {},
   "source": [
    "The value before the first colon is the starting index,\\\n",
    "the value after the first colon is the ending index,\\\n",
    "and the value after the second colon is the step.\\\n",
    "If the step is negative, the string will be reversed.\n",
    "\n",
    "Remember that the starting index is inclusive, and the\\\n",
    "ending index is exclusive, even when the step is negative."
   ]
  },
  {
   "cell_type": "markdown",
   "id": "53132403-ea7c-40bd-8111-73a3e59d4665",
   "metadata": {},
   "source": [
    "Strings are Immutable\n",
    "\n",
    "It's important to know that whenever you slice a string,\\\n",
    "you are not modifying the underlying string. Instead,\\\n",
    "you are creating a new string with the sliced characters.\\\n",
    "This is because strings are immutable in Python, which\\\n",
    "means they cannot be changed after they are created."
   ]
  },
  {
   "cell_type": "code",
   "execution_count": 16,
   "id": "278d0d35-59ff-452d-9624-2d84e1a2ad30",
   "metadata": {
    "tags": []
   },
   "outputs": [
    {
     "ename": "TypeError",
     "evalue": "'str' object does not support item assignment",
     "output_type": "error",
     "traceback": [
      "\u001b[0;31m---------------------------------------------------------------------------\u001b[0m",
      "\u001b[0;31mTypeError\u001b[0m                                 Traceback (most recent call last)",
      "Cell \u001b[0;32mIn[16], line 3\u001b[0m\n\u001b[1;32m      1\u001b[0m message \u001b[38;5;241m=\u001b[39m \u001b[38;5;124m\"\u001b[39m\u001b[38;5;124mI will never change.\u001b[39m\u001b[38;5;124m\"\u001b[39m\n\u001b[0;32m----> 3\u001b[0m message[\u001b[38;5;241m0\u001b[39m] \u001b[38;5;241m=\u001b[39m \u001b[38;5;124m\"\u001b[39m\u001b[38;5;124mX\u001b[39m\u001b[38;5;124m\"\u001b[39m\n",
      "\u001b[0;31mTypeError\u001b[0m: 'str' object does not support item assignment"
     ]
    }
   ],
   "source": [
    "message = \"I will never change.\"\n",
    "\n",
    "message[0] = \"X\" # This will cause an error"
   ]
  },
  {
   "cell_type": "markdown",
   "id": "f03cf6a0-c7c4-42e5-968f-1325e78c79fb",
   "metadata": {},
   "source": [
    "In the above code, we try to reassign just the first\\\n",
    "character of the string. This will cause a `TypeError`\\\n",
    "because strings are immutable. We cannot change individual\\\n",
    "characters, we can only reassign the entire string.\n",
    "\n",
    "If we wanted to create a new string with the second\\\n",
    "character removed, we can accomplish this by slicing and concatenation."
   ]
  },
  {
   "cell_type": "code",
   "execution_count": 17,
   "id": "82a106f0-e66a-4e22-8e99-925f66de405c",
   "metadata": {
    "tags": []
   },
   "outputs": [],
   "source": [
    "\n",
    "message = \"I will never change.\"\n",
    "\n",
    "before_second = message[:1] # \"I\"\n",
    "after_second = message[2:]  # \"will never change.\"\n",
    "\n",
    "new_message = before_second + after_second\n"
   ]
  },
  {
   "cell_type": "markdown",
   "id": "3183be6b-eefa-490a-83b0-09f7be9ba692",
   "metadata": {},
   "source": [
    "Above, we removed the second character from the string\\\n",
    "(which was the space `\" \"`), and concatenated the two\\\n",
    "parts together to create a new string."
   ]
  },
  {
   "cell_type": "markdown",
   "id": "3d8300a5-32fe-4e09-850a-bca55ec4db64",
   "metadata": {},
   "source": [
    "String Formatting\n",
    "\n",
    "We saw that we can concatenate strings using the `+` operator.\\\n",
    "However, this can be cumbersome when we have many strings\\\n",
    "to concatenate. Python provides a more elegant way\\\n",
    "to format strings using the `format` method."
   ]
  },
  {
   "cell_type": "code",
   "execution_count": 18,
   "id": "b44f8ca4-4f20-4d8a-9a92-bbf7c3cf1f66",
   "metadata": {
    "tags": []
   },
   "outputs": [
    {
     "name": "stdout",
     "output_type": "stream",
     "text": [
      "Hello, Alice. You are 25 years old.\n"
     ]
    }
   ],
   "source": [
    "name = \"Alice\"\n",
    "age = 25\n",
    "\n",
    "msg = \"Hello, {}. You are {} years old.\".format(name, age)\n",
    "\n",
    "print(msg)  # Output: Hello, Alice. You are 25 years old.\n"
   ]
  },
  {
   "cell_type": "markdown",
   "id": "7a68e3b7-ee77-4fc5-9eea-5998e406a13d",
   "metadata": {},
   "source": [
    "In the above code, we have a string with two placeholders: `{}`.\\\n",
    "We then call the format method on the string and pass in the\\\n",
    "values we want to replace the placeholders with. The\\\n",
    "values are passed in the order they are to be inserted.\\\n",
    "The number of placeholders must match the number of arguments\\\n",
    "passed to the format method.\n",
    "\n",
    "You can also use the index of the placeholders to specify\\\n",
    "the order of the arguments."
   ]
  },
  {
   "cell_type": "code",
   "execution_count": 19,
   "id": "d0a50fb2-ef93-4d13-8672-111ae27bac3a",
   "metadata": {
    "tags": []
   },
   "outputs": [
    {
     "name": "stdout",
     "output_type": "stream",
     "text": [
      "Hello, Alice. You are 25 years old.\n"
     ]
    }
   ],
   "source": [
    "name = \"Alice\"\n",
    "age = 25\n",
    "\n",
    "msg = \"Hello, {1}. You are {0} years old.\".format(age, name)\n",
    "\n",
    "print(msg)  # Output: Hello, Alice. You are 25 years old.\n"
   ]
  },
  {
   "cell_type": "markdown",
   "id": "89f4a451-c061-4ead-868b-02eaa65b4952",
   "metadata": {},
   "source": [
    "An even more concise way to format strings is to use f-strings.\\\n",
    "These are prefixed with an `f` before the string and allow you\\\n",
    "to insert variables directly into the string."
   ]
  },
  {
   "cell_type": "code",
   "execution_count": 20,
   "id": "98ad8b66-b7bb-4267-be3b-1a849b81c894",
   "metadata": {
    "tags": []
   },
   "outputs": [],
   "source": [
    "name = \"Alice\"\n",
    "age = 25\n",
    "\n",
    "msg = f\"Hello, {name}. You are {age} years old.\"\n"
   ]
  },
  {
   "cell_type": "code",
   "execution_count": null,
   "id": "9db76190-e210-40ab-813b-beaac11b3dbf",
   "metadata": {},
   "outputs": [],
   "source": []
  }
 ],
 "metadata": {
  "kernelspec": {
   "display_name": "Python 3 (ipykernel)",
   "language": "python",
   "name": "python3"
  },
  "language_info": {
   "codemirror_mode": {
    "name": "ipython",
    "version": 3
   },
   "file_extension": ".py",
   "mimetype": "text/x-python",
   "name": "python",
   "nbconvert_exporter": "python",
   "pygments_lexer": "ipython3",
   "version": "3.11.4"
  }
 },
 "nbformat": 4,
 "nbformat_minor": 5
}
