{
 "cells": [
  {
   "cell_type": "markdown",
   "id": "b79bb52f-d4eb-4d67-be28-137db4fb0f1d",
   "metadata": {},
   "source": [
    "Intro to Sets\n",
    "\n",
    "In Python, a `set` is very similar to a `list`,\\\n",
    "but with a few key differences.\n",
    "\n",
    "- A set is `unordered`, meaning the elements are\\\n",
    "  not stored in a specific order. If order is\\\n",
    "  important, you should use a list.\n",
    "- A set can only contain `unique` elements. If you try\\\n",
    "  to add a duplicate element to a set, it will be ignored.\n",
    "  \n",
    "Here is an example:"
   ]
  },
  {
   "cell_type": "code",
   "execution_count": null,
   "id": "4edfbcd9-4eb4-4414-ad57-0a2f0776b3bd",
   "metadata": {},
   "outputs": [],
   "source": [
    "my_set = {1, 2, 3}\n",
    "\n",
    "print(my_set)  # Output: {1, 2, 3}\n",
    "\n",
    "my_set = {3, 2, 1}\n",
    "\n",
    "print(my_set)  # Output: {1, 2, 3}"
   ]
  },
  {
   "cell_type": "markdown",
   "id": "caed4494-74f1-473c-baf0-f75a5a68d2ec",
   "metadata": {},
   "source": [
    "As you can see, a `set` can be created using\\\n",
    "curly braces `{}` with elements separated by `commas`.\\\n",
    "When printing a set, the elements sometimes appear\\\n",
    "in sorted order, but this is not guranteed.\\\n",
    "A set makes no gurantees about the order of the elements stored."
   ]
  },
  {
   "cell_type": "code",
   "execution_count": null,
   "id": "17c517d0-0bf6-40de-aec3-8bebc479fac9",
   "metadata": {},
   "outputs": [],
   "source": [
    "my_set = set()\n",
    "\n",
    "my_set.add(1)\n",
    "my_set.add(2)\n",
    "my_set.add(1)\n",
    "\n",
    "print(my_set)  # Output: {1, 2}"
   ]
  },
  {
   "cell_type": "markdown",
   "id": "539b8daf-0815-44e2-bd70-e0ad7d9c5d2f",
   "metadata": {},
   "source": [
    "Above we declared an empty set with `set()`. We then\\\n",
    "added the elements `1` and `2` to the set. When we\\\n",
    "tried to add `1` again, it was ignored because it\\\n",
    "was already in the set. This is because sets can\\\n",
    "not contain duplicate elements."
   ]
  },
  {
   "cell_type": "markdown",
   "id": "245ada2a-30fd-4c11-b675-45ccb07964fb",
   "metadata": {},
   "source": [
    "If we used empty curly braces `{}` to delare an `empty set`,\\\n",
    "it would not have declared a set. That's because Python uses\\\n",
    "curly braces to declare an `empty dictionary`. \\\n",
    "A `dictionary` is a data structure that stores `key-value pairs`.\\\n",
    "We will learn more about dictionaries soon."
   ]
  },
  {
   "cell_type": "markdown",
   "id": "ceb67590-350f-4375-ae17-100a9fe38cb1",
   "metadata": {},
   "source": [
    "Set Operations\n",
    "\n",
    "We can also perform various operations on sets\\\n",
    "in Python. We can remove elements from a set\\\n",
    "using the `remove()` function. If the element is\\\n",
    "not present in the set, a `KeyError` will be raised."
   ]
  },
  {
   "cell_type": "code",
   "execution_count": null,
   "id": "51e59c65-fbe5-4b47-961a-aef467aa5f5b",
   "metadata": {},
   "outputs": [],
   "source": [
    "my_set = {1, 2, 3}\n",
    "\n",
    "my_set.remove(2)\n",
    "\n",
    "print(my_set)  # Output: {1, 3}\n",
    "\n",
    "my_set.remove(4)  # Raises KeyError"
   ]
  },
  {
   "cell_type": "markdown",
   "id": "4ede2d48-3f56-495f-946f-0dfd35f197d3",
   "metadata": {},
   "source": [
    "Just like with lists, we can loop over elements\\\n",
    "within a set using `for` loops. The difference\\\n",
    "is that we can't access elements by `index`\\\n",
    "because sets are unordered. The order that\\\n",
    "we loop over a set is `not guaranteed`."
   ]
  },
  {
   "cell_type": "code",
   "execution_count": null,
   "id": "5787ef32-1982-485b-8364-b0c370b7f75f",
   "metadata": {},
   "outputs": [],
   "source": [
    "my_set = {1, 2, 3}\n",
    "\n",
    "for element in my_set:\n",
    "    print(element)"
   ]
  },
  {
   "cell_type": "markdown",
   "id": "a59c6856-29af-4183-9d82-eb678c74da79",
   "metadata": {},
   "source": [
    "We can also convert a `list` into a `set` by passing\\\n",
    "the list into the `set()` function. We can then convert\\\n",
    "the set back into a list by passing it into the `list()` function.\\\n",
    "This is an easy way to remove duplicates from a list."
   ]
  },
  {
   "cell_type": "code",
   "execution_count": null,
   "id": "7bcc884f-d3b0-4265-9910-93144942efa7",
   "metadata": {},
   "outputs": [],
   "source": [
    "my_list = [1, 2, 3, 4, 5, 1, 2, 5]\n",
    "\n",
    "my_set = set(my_list)\n",
    "\n",
    "print(my_set)  # Output: {1, 2, 3, 4, 5}\n",
    "\n",
    "my_list_no_duplicates = list(my_set)"
   ]
  },
  {
   "cell_type": "markdown",
   "id": "2e204da2-f20c-4e12-a6e6-46d0096c1971",
   "metadata": {},
   "source": [
    "Just like with lists, we can also use the `in` keyword\\\n",
    "to check if an element is present in a set."
   ]
  },
  {
   "cell_type": "code",
   "execution_count": null,
   "id": "4c5e7c7e-8c4a-434d-b2a7-28135541a7e0",
   "metadata": {},
   "outputs": [],
   "source": [
    "my_set = {\"Cat\", \"Dog\", \"Mouse\"}\n",
    "\n",
    "contains_cat = \"Cat\" in my_set   # True\n",
    "contains_lion = \"Lion\" in my_set # False"
   ]
  },
  {
   "cell_type": "code",
   "execution_count": null,
   "id": "8b5ff606-0dc2-4c7a-9d21-5fe0a10d7520",
   "metadata": {},
   "outputs": [],
   "source": []
  }
 ],
 "metadata": {
  "kernelspec": {
   "display_name": "Python 3 (ipykernel)",
   "language": "python",
   "name": "python3"
  },
  "language_info": {
   "codemirror_mode": {
    "name": "ipython",
    "version": 3
   },
   "file_extension": ".py",
   "mimetype": "text/x-python",
   "name": "python",
   "nbconvert_exporter": "python",
   "pygments_lexer": "ipython3",
   "version": "3.11.4"
  }
 },
 "nbformat": 4,
 "nbformat_minor": 5
}
