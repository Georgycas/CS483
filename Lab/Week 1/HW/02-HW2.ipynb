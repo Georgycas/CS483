{
 "cells": [
  {
   "cell_type": "markdown",
   "id": "db2b89db-2084-4419-a6a5-a25cd01d68a2",
   "metadata": {},
   "source": [
    "Q1: In the code , there are some integers and floats declared. Print the following in order:\n",
    "\n",
    "- The sum of the values (addition)\n",
    "- 0 minus the sum of the values\n",
    "- The product of the values (multiplication)\n",
    "- The sum of the values divided by the product of the values\n",
    "Hint: You are free to declare additional variables if it's helpful."
   ]
  },
  {
   "cell_type": "code",
   "execution_count": null,
   "id": "2f3b37af-feeb-4163-8c9d-e0f6925373e3",
   "metadata": {},
   "outputs": [],
   "source": [
    "a, b, c = 2, 2, 0.5\n"
   ]
  },
  {
   "cell_type": "markdown",
   "id": "e581f64f-0303-42f2-a5b8-c7c8a0006e4c",
   "metadata": {},
   "source": [
    "Q2: You are given three variables, a, b, and c. Print the following numbers in order:\n",
    "- The product of a and b, floor divided by c\n",
    "- The remainder of the product of a and b divided by c\n",
    "- The result of raising a to the power of b.\n",
    "- The result of raising b to the power of c."
   ]
  },
  {
   "cell_type": "code",
   "execution_count": null,
   "id": "0c8da00e-0f25-4027-97b4-b3c388ee3b99",
   "metadata": {},
   "outputs": [],
   "source": [
    "a, b, c = 2, 8, 5\n"
   ]
  },
  {
   "cell_type": "markdown",
   "id": "ae149ade-153c-49bd-aea2-32694a528d39",
   "metadata": {},
   "source": [
    "Q3: In the code  there is a variable called number. Use the shorthand operators to:\n",
    "\n",
    "- Add 5 to number and print the result.\n",
    "- Subtract 2 from number and print the result.\n",
    "- Add number to itself and print the result. (Yes, you can add a variable to itself.)"
   ]
  },
  {
   "cell_type": "code",
   "execution_count": null,
   "id": "5fc06128-3c01-4ed6-bcff-04864dd31329",
   "metadata": {},
   "outputs": [],
   "source": [
    "number = 0"
   ]
  },
  {
   "cell_type": "markdown",
   "id": "4384e6f0-e492-4def-9c94-a6c242e8dec2",
   "metadata": {},
   "source": [
    "Q4: In the code, there are 4 variables, a, b, c, and d. Print the following:\n",
    "- The logic OR of a and b.\n",
    "- The logic OR of b and c.\n",
    "- The logic OR of c and d.\n",
    "- The logic OR of a, b, c, and d."
   ]
  },
  {
   "cell_type": "code",
   "execution_count": null,
   "id": "8a48b675-5cf6-4a0a-a026-0b6ed1fca06b",
   "metadata": {},
   "outputs": [],
   "source": [
    "a, b, c, d = False, False, True, True"
   ]
  },
  {
   "cell_type": "markdown",
   "id": "815fb72f-1688-4f9d-a7fd-060e2721643a",
   "metadata": {},
   "source": [
    "Q5: In the code, there are 4 variables, a, b, c, and d. Print the following:\n",
    "- The logical AND of a and b.\n",
    "- The logical AND of b and c.\n",
    "- The logical AND of c and d.\n",
    "- The logical AND of a, b, c, and d.\n"
   ]
  },
  {
   "cell_type": "code",
   "execution_count": null,
   "id": "fe8ecc83-76b7-4277-af73-82629977dad0",
   "metadata": {},
   "outputs": [],
   "source": [
    "a, b, c, d = False, False, True, True"
   ]
  },
  {
   "cell_type": "markdown",
   "id": "fdee7bc0-a43e-4fcf-9285-313706dda67b",
   "metadata": {},
   "source": [
    "Q6: In the code, there are 3 variables, a, b, and c. Print the following:\n",
    "\n",
    "- The negation of a.\n",
    "- The negation of c.\n",
    "- The negation of the logical AND of a and b.\n",
    "- The negation of the logical OR of b and c."
   ]
  },
  {
   "cell_type": "code",
   "execution_count": null,
   "id": "750ffa08-f8ad-4385-9b21-7a0eeb5e395b",
   "metadata": {},
   "outputs": [],
   "source": [
    "a, b, c = False, False, True"
   ]
  },
  {
   "cell_type": "code",
   "execution_count": 1,
   "id": "dc7cd369-ea67-441f-b00b-bda5ccd141d5",
   "metadata": {
    "tags": []
   },
   "outputs": [
    {
     "name": "stdout",
     "output_type": "stream",
     "text": [
      "False\n"
     ]
    }
   ],
   "source": [
    "a,b,c,d = False, False, True, True\n",
    "\n",
    "print(a or b)"
   ]
  },
  {
   "cell_type": "code",
   "execution_count": null,
   "id": "25d13af0-3bbb-49e5-a7e6-d650287fd236",
   "metadata": {},
   "outputs": [],
   "source": []
  }
 ],
 "metadata": {
  "kernelspec": {
   "display_name": "Python 3 (ipykernel)",
   "language": "python",
   "name": "python3"
  },
  "language_info": {
   "codemirror_mode": {
    "name": "ipython",
    "version": 3
   },
   "file_extension": ".py",
   "mimetype": "text/x-python",
   "name": "python",
   "nbconvert_exporter": "python",
   "pygments_lexer": "ipython3",
   "version": "3.11.4"
  }
 },
 "nbformat": 4,
 "nbformat_minor": 5
}
