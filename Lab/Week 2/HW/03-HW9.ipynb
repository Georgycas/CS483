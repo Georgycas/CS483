{
 "cells": [
  {
   "cell_type": "code",
   "execution_count": null,
   "id": "6d080354-1189-4fa0-89cb-bd886601325f",
   "metadata": {},
   "outputs": [],
   "source": []
  },
  {
   "cell_type": "markdown",
   "id": "26592e8c-4e55-4005-ba56-184f672db6ae",
   "metadata": {},
   "source": [
    "**Q1** You are given two functions to implement:\\\n",
    "\n",
    "- `create_dict(name, age)` should create a dict, mapping\\\n",
    "   the name to the age and then return the dict.\n",
    "- `list_to_dict(words)` should take a list of strings words\\\n",
    "   and map each string to its index in the list, and return the resulting dict."
   ]
  },
  {
   "cell_type": "code",
   "execution_count": null,
   "id": "30ad9279-3070-4c99-957a-9b2cd22aea03",
   "metadata": {},
   "outputs": [],
   "source": [
    "#your code here\n",
    "\n",
    "# don't modify code below this line\n",
    "print(create_dict(\"Alice\", 25))\n",
    "print(create_dict(\"Jane\", 35))\n",
    "print(create_dict(\"Joe\", 45))\n",
    "\n",
    "print(list_to_dict([\"Alice\", \"Jane\", \"Joe\"]))\n",
    "print(list_to_dict([\"Apple\", \"Banana\", \"Watermelon\", \"Pineapple\"]))\n"
   ]
  },
  {
   "cell_type": "markdown",
   "id": "ae358c60-b96d-4aa5-b10b-ca6adcd96a6a",
   "metadata": {},
   "source": [
    "**Q2** Perform the following operations in order on the dictionary below:\n",
    "\n",
    "- Print the dictionary itself.\n",
    "- Print the value of the key \"a\".\n",
    "- Print True or False depending on whether the key \"d\" is in the dictionary.\n",
    "- Reassign the value of the key \"a\" to 4.\n",
    "- Print the dictionary again."
   ]
  },
  {
   "cell_type": "code",
   "execution_count": null,
   "id": "92a42b35-7f06-4f3e-8309-438a9acf4160",
   "metadata": {},
   "outputs": [],
   "source": [
    "your_dict = { \n",
    "  \"a\": 10, \n",
    "  \"apple\": 12,\n",
    "  \"bat\": 7\n",
    "}\n",
    "\n",
    "#your code here"
   ]
  },
  {
   "cell_type": "markdown",
   "id": "d915c6fd-b5a2-4c0d-bc02-b70245ef1004",
   "metadata": {},
   "source": [
    "**Q3** Implement the following two functions:\n",
    "\n",
    "- `get_dict_keys(age_dict)` should take a dictionary of names and ages and return a      list of the names.\n",
    "- `get_dict_values(age_dict)` should take a dictionary of names and ages and return a   list of the ages."
   ]
  },
  {
   "cell_type": "code",
   "execution_count": null,
   "id": "fd9c1549-8559-4916-a6c0-c8397e2ececd",
   "metadata": {},
   "outputs": [],
   "source": [
    "#your code here\n",
    "\n",
    "# do not modify below this line\n",
    "dict_1 = {\"John\": 25, \"Doe\": 30, \"Jane\": 22}\n",
    "dict_2 = {\"NeetCode\": 24, \"NeetCode2\": 25, \"NeetCode3\": 26}\n",
    "\n",
    "print(get_dict_keys(dict_1))\n",
    "print(get_dict_keys(dict_2))\n",
    "\n",
    "print(get_dict_values(dict_1))\n",
    "print(get_dict_values(dict_2))\n"
   ]
  },
  {
   "cell_type": "markdown",
   "id": "d6375337-ee99-45a0-ab1d-c7cc8598d071",
   "metadata": {},
   "source": [
    "**Q4** Implement the function `count_characters()`. It should take\\\n",
    "a string word and return a dictionary with the count of\\\n",
    "each character in the word. The keys should be the characters\\\n",
    "and the values should be the count of each character.\n",
    "\n",
    "Hint: If you access a key that doesn't exist in a dictionary,\\\n",
    "it will raise a KeyError. Make sure to handle this case by\\\n",
    "checking if the key exists before trying to access it."
   ]
  },
  {
   "cell_type": "code",
   "execution_count": null,
   "id": "39c080b6-3a0f-4a44-8de3-71c5325628dd",
   "metadata": {},
   "outputs": [],
   "source": [
    "#your code here\n",
    "\n",
    "# don't modify below this line\n",
    "print(count_characters(\"hello\"))\n",
    "print(count_characters(\"world\"))\n",
    "print(count_characters(\"hello world\"))\n",
    "print(count_characters(\"this is a longer sentence\"))\n"
   ]
  },
  {
   "cell_type": "markdown",
   "id": "e64c5994-f9a7-4b12-8ba0-9fedcd4d1f84",
   "metadata": {},
   "source": [
    "**Q5** Implement the `remove_keys(my_dict, keys)` function. It accepts a dictionary\\ my_dict and a list of strings keys. The function should remove all the keys in the\\ list from the dictionary and return the modified dictionary. If a key doesn't exist\\ in the dictionary, ignore it.\n",
    "\n",
    "Be careful: If you try to remove a key that doesn't exist, it will raise a `KeyError`.\\\n",
    "Make sure to handle this case by checking if the key exists before trying\\\n",
    "to remove it, or using the second argument of the `pop()` function."
   ]
  },
  {
   "cell_type": "code",
   "execution_count": null,
   "id": "22beaf6e-d558-4c8a-9806-f47b4641dc34",
   "metadata": {},
   "outputs": [],
   "source": [
    "#your code here\n",
    "\n",
    "# do not modify below this line\n",
    "print(remove_keys({\"a\": 1, \"b\": 2, \"c\": 3}, [\"a\", \"c\"]))\n",
    "print(remove_keys({\"a\": 1, \"b\": 2, \"c\": 3}, [\"d\"]))\n"
   ]
  },
  {
   "cell_type": "markdown",
   "id": "35cdf7c2-00e8-43cc-b34d-3098078afe31",
   "metadata": {},
   "source": [
    "**Q6** Implement the `get_dict_values(age_dict)` function. It accepts\\\n",
    "a dictionary of names and ages and should return a list of the ages.\n",
    "Use `values()` method."
   ]
  },
  {
   "cell_type": "code",
   "execution_count": null,
   "id": "77f03b2e-26d3-41fb-abfc-9935b781f183",
   "metadata": {},
   "outputs": [],
   "source": [
    "#your code here\n",
    "\n",
    "# do not modify below this line\n",
    "print(get_dict_values({\"Alice\": 25, \"Bob\": 30, \"Charlie\": 35}))\n",
    "print(get_dict_values({\"Alice\": 25, \"Bob\": 30, \"Charlie\": 35, \"David\": 40}))\n"
   ]
  }
 ],
 "metadata": {
  "kernelspec": {
   "display_name": "Python 3 (ipykernel)",
   "language": "python",
   "name": "python3"
  },
  "language_info": {
   "codemirror_mode": {
    "name": "ipython",
    "version": 3
   },
   "file_extension": ".py",
   "mimetype": "text/x-python",
   "name": "python",
   "nbconvert_exporter": "python",
   "pygments_lexer": "ipython3",
   "version": "3.11.4"
  }
 },
 "nbformat": 4,
 "nbformat_minor": 5
}
