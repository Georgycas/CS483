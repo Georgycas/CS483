{
 "cells": [
  {
   "cell_type": "markdown",
   "id": "21523231-f32e-41ec-ad41-ac7784e86baf",
   "metadata": {},
   "source": [
    "Introduction to Dictionaries\n",
    "\n",
    "`Dictionaries` are one of the most important data types available in Python.\\\n",
    "They are used to store `key-value pairs`. The simplest way of thinking \\\n",
    "about them is as a table with two columns. The first column is the `key`, and the\\ second column is the `value`."
   ]
  },
  {
   "cell_type": "markdown",
   "id": "b6021f67-afdd-47e3-8a0f-b4474cc90883",
   "metadata": {},
   "source": [
    "| key | value|\n",
    "|-----------------|-----------------|\n",
    "|\"Alice\" | 25 |\n",
    "| \"Bob\" | 30 |\n",
    "| \"Charlie\" | 35|"
   ]
  },
  {
   "cell_type": "markdown",
   "id": "f3389342-4579-4511-aaf0-d3f8919ea51a",
   "metadata": {},
   "source": [
    "Above we have a dictionary with three key-value pairs.\\\n",
    "The keys are `\"Alice\"`, `\"Bob\"`, and `\"Charlie\"`, representing\\\n",
    "names, and the values are `25`, `30`, and `35`, representing\\\n",
    "the age of each person. In this case, the pair `\"Alice\" -> 25`\\\n",
    "means that \"Alice\" is 25 years old.\n",
    "\n",
    "Another way of phrasing it is we are `mapping` a key to the value.\\\n",
    "This is why dictionaries are sometimes called `maps` or `hashmaps`\\\n",
    "in other programming languages."
   ]
  },
  {
   "cell_type": "code",
   "execution_count": null,
   "id": "11d44ec3-6744-4cc0-9f14-bbe6c4bd3786",
   "metadata": {},
   "outputs": [],
   "source": [
    "my_dict = {\"Alice\": 25, \"Bob\": 30, \"Charlie\": 35}\n",
    "\n",
    "my_dict = {\n",
    "    \"Alice\": 25,\n",
    "    \"Bob\": 30,\n",
    "    \"Charlie\": 35\n",
    "}\n"
   ]
  },
  {
   "cell_type": "markdown",
   "id": "7a5c9442-4a04-4a74-96c4-636106251962",
   "metadata": {},
   "source": [
    "The above two dictionaries are equivalent, the second is just formatted differently.\\\n",
    "A dictionary is created using curly braces `{}` similar to a set. But\\\n",
    "dictionaries don't just store values, they store `key-value pairs` separated by\\\n",
    "commas. The key and value are separated by a colon `:`, with the key on the left\\\n",
    "and the value on the right."
   ]
  },
  {
   "cell_type": "code",
   "execution_count": null,
   "id": "b8ce99f3-1a89-4a01-9379-3727619d28ef",
   "metadata": {},
   "outputs": [],
   "source": [
    "my_dict = {}\n",
    "\n",
    "my_dict[\"Alice\"] = 25\n",
    "my_dict[\"Bob\"] = 30\n",
    "my_dict[\"Charlie\"] = 35"
   ]
  },
  {
   "cell_type": "markdown",
   "id": "bd6ecd77-2898-4a9a-bd2b-3edf8c996a71",
   "metadata": {},
   "source": [
    "As shown above, to `declare an empty dictionary` we can use empty curly braces `{}`.\\ We can then add key-value pairs to the dictionary using square brackets `[]`\\\n",
    "and the assignment operator `=`. This is similar to lists, but keys don't have to be integers."
   ]
  },
  {
   "cell_type": "markdown",
   "id": "47d704e9-c5c1-41c8-a7d8-7b0d91302989",
   "metadata": {},
   "source": [
    "Dict Operations\n",
    "\n",
    "Dictionaries can't contain duplicate keys, just like sets."
   ]
  },
  {
   "cell_type": "code",
   "execution_count": null,
   "id": "8bb747f6-67b7-4ca5-843d-6da9dc062b45",
   "metadata": {},
   "outputs": [],
   "source": [
    "my_dict = {\"a\": 1, \"b\": 2, \"c\": 3}\n",
    "\n",
    "print(my_dict[\"a\"]) # Output: 1\n",
    "\n",
    "my_dict[\"a\"] = 4\n",
    "\n",
    "print(my_dict[\"a\"]) # Output: 4\n"
   ]
  },
  {
   "cell_type": "markdown",
   "id": "b4e37a26-b9be-436f-9ee3-43f495303495",
   "metadata": {},
   "source": [
    "As shown above, if we assign the same key a new value,\\\n",
    "the old value is overwritten.\n",
    "\n",
    "The values within a dictionary can be of any type,\\\n",
    "including lists, sets, and even other dictionaries."
   ]
  },
  {
   "cell_type": "code",
   "execution_count": null,
   "id": "a22e3d04-8312-44ab-8b7f-e5ef02206cbc",
   "metadata": {},
   "outputs": [],
   "source": [
    "my_dict = {\"a\": [1, 2, 3], \"b\": {4, 5, 6}, \"c\": {\"x\": 7, \"y\": 8, \"z\": 9}}\n",
    "\n",
    "print(my_dict[\"a\"]) # Output: [1, 2, 3]\n",
    "print(my_dict[\"b\"]) # Output: {4, 5, 6}\n",
    "print(my_dict[\"c\"]) # Output: {\"x\": 7, \"y\": 8, \"z\": 9}"
   ]
  },
  {
   "cell_type": "markdown",
   "id": "7928a9e6-8758-4b15-ac42-5668a5b7f8ac",
   "metadata": {},
   "source": [
    "The keys within a dictionary must be unique, but the values can be duplicated."
   ]
  },
  {
   "cell_type": "code",
   "execution_count": null,
   "id": "e585026a-62dc-4c00-8c3d-919f8ef34c7d",
   "metadata": {},
   "outputs": [],
   "source": [
    "my_dict = {\"a\": 1, \"b\": 1, \"c\": 1} # this is valid"
   ]
  },
  {
   "cell_type": "markdown",
   "id": "7647edc8-1c5b-4cb3-98a1-4995e9954611",
   "metadata": {},
   "source": [
    "To check if a dictionary contains a key, you can use the in keyword."
   ]
  },
  {
   "cell_type": "code",
   "execution_count": null,
   "id": "7e19f22b-f2a9-4363-b075-8540e2f43e0a",
   "metadata": {},
   "outputs": [],
   "source": [
    "my_dict = {\"a\": 1, \"b\": 2, \"c\": 3}\n",
    "\n",
    "print(\"a\" in my_dict) # Output: True\n",
    "print(\"d\" in my_dict) # Output: False"
   ]
  },
  {
   "cell_type": "markdown",
   "id": "e221434e-87f4-4d13-92ae-90a7777fb515",
   "metadata": {},
   "source": [
    "Dict Looping\n",
    "\n",
    "You can use `len()` to get the length of a dictionary.\\\n",
    "This will return the number of key-value pairs in the dictionary."
   ]
  },
  {
   "cell_type": "code",
   "execution_count": null,
   "id": "4849724a-5f97-4661-8580-e8c33875716b",
   "metadata": {},
   "outputs": [],
   "source": [
    "my_dict = {\"a\": 1, \"b\": 2, \"c\": 3}\n",
    "\n",
    "print(len(my_dict)) # Output: 3\n"
   ]
  },
  {
   "cell_type": "markdown",
   "id": "6ed43801-e9c9-452f-8df3-3d6fa718470f",
   "metadata": {},
   "source": [
    "But just like with sets, the length of a dict won't help us\\\n",
    "to loop over it. The good news is that looping over a dictionary\\\n",
    "is very similar to looping over a set."
   ]
  },
  {
   "cell_type": "code",
   "execution_count": null,
   "id": "0b1fe4b3-f264-468b-8f97-15bb1b830bad",
   "metadata": {},
   "outputs": [],
   "source": [
    "my_dict = {\"a\": 1, \"b\": 2, \"c\": 3}\n",
    "\n",
    "for key in my_dict:\n",
    "    value = my_dict[key]\n",
    "    print(key, value)"
   ]
  },
  {
   "cell_type": "markdown",
   "id": "df2ac512-f676-484b-9a31-c9da11971090",
   "metadata": {},
   "source": [
    "By using the `for` loop, we can iterate over the keys\\\n",
    "in the dictionary by using the `in` operator.\\\n",
    "We can then use the key to access the value associated with that key.\n",
    "\n",
    "We can also use the `items()` method to loop over both the keys and\\\n",
    "values at the same time."
   ]
  },
  {
   "cell_type": "code",
   "execution_count": null,
   "id": "00ed288c-357c-4e7c-99a6-a8d249b40775",
   "metadata": {},
   "outputs": [],
   "source": [
    "my_dict = {\"a\": 1, \"b\": 2, \"c\": 3}\n",
    "\n",
    "for key, value in my_dict.items():\n",
    "    print(key, value)"
   ]
  },
  {
   "cell_type": "markdown",
   "id": "b6ffc9c0-dbd0-43c9-ab1d-509810de66da",
   "metadata": {},
   "source": [
    "This is a bit more concise, but it's up to you which method\\\n",
    "you prefer. While we named the variables key and value,\\\n",
    "you can name them whatever you like. Just know that with\\\n",
    "`items()` you need to have two variables to `unpack` the\\\n",
    "key-value pair. The first will be the `key`,\\\n",
    "and the second will be the `value`."
   ]
  },
  {
   "cell_type": "markdown",
   "id": "93caff4a-4c89-4c8b-af59-7f1d68e1f678",
   "metadata": {},
   "source": [
    "Dict Practice\n",
    "\n",
    "One of the most common uses of a dictionary is\\\n",
    "to count the occurences of elements in a list. For example,\\\n",
    "given the list `[1, 2, 3, 1, 2, 3, 1, 2, 3]`, we can\\\n",
    "count the quantity of each element in the list using a dictionary.\n",
    "\n",
    "The result would be a dictionary like this:"
   ]
  },
  {
   "cell_type": "code",
   "execution_count": null,
   "id": "fd13b9ed-f699-4160-a150-e46f730e4a8b",
   "metadata": {},
   "outputs": [],
   "source": [
    "count = {\n",
    "    1: 3,\n",
    "    2: 3,\n",
    "    3: 3\n",
    "}"
   ]
  },
  {
   "cell_type": "markdown",
   "id": "4282f175-4d5a-49c8-a9fb-6a148d21ea6a",
   "metadata": {},
   "source": [
    "Dict Remove\n",
    "\n",
    "You can remove an item from a dictionary using \\\n",
    "the `pop()` function. This function takes a key as \\\n",
    "an argument and removes the key-value pair from \\\n",
    "the dictionary. If the key doesn't exist, it will\\\n",
    "raise a `KeyError`."
   ]
  },
  {
   "cell_type": "code",
   "execution_count": null,
   "id": "26cd1b38-77e6-441e-af64-7356c5fbc133",
   "metadata": {},
   "outputs": [],
   "source": [
    "my_dict = {\"a\": 1, \"b\": 2, \"c\": 3}\n",
    "\n",
    "my_dict.pop(\"a\")\n",
    "\n",
    "print(my_dict) # Output: {\"b\": 2, \"c\": 3}\n",
    "\n",
    "my_dict.pop(\"d\") # Raises KeyError"
   ]
  },
  {
   "cell_type": "markdown",
   "id": "16aa9c35-a4d3-45e8-b3ac-44ef19827d1d",
   "metadata": {},
   "source": [
    "If you don't want to worry about handling the `KeyError`,\\\n",
    "you can use the second argument of the `pop()` function.\\\n",
    "This argument is the default value that will be returned \\\n",
    "if the key doesn't exist."
   ]
  },
  {
   "cell_type": "code",
   "execution_count": null,
   "id": "c91b9f42-305f-4434-8b7f-3820ec7f66ff",
   "metadata": {},
   "outputs": [],
   "source": [
    "my_dict = {\"a\": 1, \"b\": 2, \"c\": 3}\n",
    "\n",
    "value = my_dict.pop(\"d\", 0) # Returns 0, no error occurs"
   ]
  },
  {
   "cell_type": "markdown",
   "id": "79a23e29-170a-4df0-812c-de3d0ac4813e",
   "metadata": {},
   "source": [
    "You can also use the `del` keyword to remove a key-value pair\\\n",
    "from a dictionary. This is a bit more concise than using\\\n",
    "the `pop()` function."
   ]
  },
  {
   "cell_type": "code",
   "execution_count": null,
   "id": "7c836a95-0507-4b99-ab7c-ecc7c2ce3ae0",
   "metadata": {},
   "outputs": [],
   "source": [
    "my_dict = {\"a\": 1, \"b\": 2, \"c\": 3}\n",
    "\n",
    "del my_dict[\"a\"]"
   ]
  },
  {
   "cell_type": "markdown",
   "id": "76e0dcf4-e9aa-4e3f-b58e-9551d3aa8658",
   "metadata": {},
   "source": [
    "Dict Values\n",
    "\n",
    "Another way of iterating over a dictionary is by using\\\n",
    "the `values()` function. This function allows us to loop\\\n",
    "over the values in the dictionary without needing to access the keys."
   ]
  },
  {
   "cell_type": "code",
   "execution_count": null,
   "id": "8307dc59-4c94-46ac-88f0-018198ff2b03",
   "metadata": {},
   "outputs": [],
   "source": [
    "my_dict = {\"a\": 1, \"b\": 2, \"c\": 3}\n",
    "\n",
    "for value in my_dict.values():\n",
    "    print(value)"
   ]
  },
  {
   "cell_type": "markdown",
   "id": "722bb514-0ede-4d0e-a7ed-b57c99bf4bf2",
   "metadata": {},
   "source": [
    "A useful use case for this is when we want to convert the values\\\n",
    "of a dictionary into a list. This can be done by using the `list()` function."
   ]
  },
  {
   "cell_type": "code",
   "execution_count": null,
   "id": "285842c9-0f04-4b27-9629-6d79d2865fe3",
   "metadata": {},
   "outputs": [],
   "source": [
    "my_dict = {\"a\": 1, \"b\": 2, \"c\": 3}\n",
    "\n",
    "values = list(my_dict.values())\n",
    "\n",
    "print(values) # Output: [1, 2, 3]"
   ]
  }
 ],
 "metadata": {
  "kernelspec": {
   "display_name": "Python 3 (ipykernel)",
   "language": "python",
   "name": "python3"
  },
  "language_info": {
   "codemirror_mode": {
    "name": "ipython",
    "version": 3
   },
   "file_extension": ".py",
   "mimetype": "text/x-python",
   "name": "python",
   "nbconvert_exporter": "python",
   "pygments_lexer": "ipython3",
   "version": "3.11.4"
  }
 },
 "nbformat": 4,
 "nbformat_minor": 5
}
