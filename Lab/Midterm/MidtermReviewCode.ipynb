{
 "cells": [
  {
   "cell_type": "markdown",
   "id": "a89c9470-83b5-4d72-bdcf-25d35ce172b4",
   "metadata": {},
   "source": [
    "## Part 2: Import Data \n",
    "Import the `TableauSalesData.csv`"
   ]
  },
  {
   "cell_type": "code",
   "execution_count": null,
   "id": "de7468b5-9088-4aba-8ebe-2e4ff98e93da",
   "metadata": {},
   "outputs": [],
   "source": []
  },
  {
   "cell_type": "markdown",
   "id": "2e110ba4-3672-49fd-b34b-268766b9f463",
   "metadata": {},
   "source": [
    "## Part 3: Learn about your data \n",
    "- Print the first 10 observations\n",
    "- Print the columns\n",
    "- List the descriptive stats for numerical columns. Which columns make sense to look at for descriptive stats?\n",
    "- Which columns are categorical?Get a list of unique values in non-numeric (categorical columns)"
   ]
  },
  {
   "cell_type": "code",
   "execution_count": null,
   "id": "1882b90d-36e9-43d2-9489-61db492fdae2",
   "metadata": {},
   "outputs": [],
   "source": []
  },
  {
   "cell_type": "markdown",
   "id": "ab22e907-a3b0-475f-8f6a-53b624990775",
   "metadata": {},
   "source": [
    "- From the data type for each column, wd can have an idea about which columns are categorical.\n",
    "- Even though `Postal Code` is of integer type, keep in mind that it is categorical.\n",
    "- 'Ship Mode', 'Segment', 'Country', 'City', 'State', 'Region', 'Category', 'Sub-Category',\n",
    "       'Product Name',  are categoriocal columns\n",
    "-  'Sales', 'Quantity', 'Discount', 'Profit'  are numerical columns\n",
    "- 'Order Date', 'Ship Date' are datetime variables.\n",
    "- 'Row ID', 'Order ID', 'Customer ID', 'Customer Name', 'Product ID' are identifiers, can be used to filet data for a specific cusomer, product, or an order."
   ]
  },
  {
   "cell_type": "markdown",
   "id": "c95c3545-ab57-4176-8e28-7aac777cd4ee",
   "metadata": {},
   "source": [
    "Let us list the unique values of categorical variables:"
   ]
  },
  {
   "cell_type": "code",
   "execution_count": null,
   "id": "40b9276a-d939-4fb9-a699-64b74814ae67",
   "metadata": {},
   "outputs": [],
   "source": []
  },
  {
   "cell_type": "markdown",
   "id": "f0664e9e-44a9-4820-a415-a2c53956b2aa",
   "metadata": {},
   "source": [
    "As you see from the unique number of elements for each categorical variable, `City` and `Product Name` have large number of uniaue values.\n",
    "\n",
    "Let us list the `Sub-Category` variable's unique values:"
   ]
  },
  {
   "cell_type": "code",
   "execution_count": null,
   "id": "23f902a1-9748-4b75-9c4f-9f2bfddb6d4d",
   "metadata": {},
   "outputs": [],
   "source": []
  },
  {
   "cell_type": "markdown",
   "id": "c98749ec-3def-41cc-9844-5587163abecb",
   "metadata": {
    "tags": []
   },
   "source": [
    "## Part 4: Group and Aggregate Your Data\n",
    "\n",
    "- Create a new dataframe with `Sub-Category`, `Profit`, and `Sales` columns. Name this new dataframe as `SubCatProfits`\n",
    "- Find the total sales and profit for each sub category and sort these numbers by profit. Assign the result of this query to `TotalSubCatProfits`\n",
    "- Find the total sales and profit for each category (be careful, you need to use your original dataset `df`, use only the `Category`, `Profit`, and `Sales` columns) and sort the two totals by profit. Assign the result to `CategoryProfitSales`\n",
    "- Select `Category`, `Sub-Category`,`Profit`, and `Sales` columns from hyour data `df`. Use multi level grouping and group these columns by `Category` and `Sub-Category`. Find the total profit and sales for each category and sub-category level.\n"
   ]
  },
  {
   "cell_type": "code",
   "execution_count": null,
   "id": "46709377-f03e-446b-8bca-5b53137b0716",
   "metadata": {},
   "outputs": [],
   "source": []
  },
  {
   "cell_type": "markdown",
   "id": "ec31e71d-d3d2-428e-946b-910ee96359db",
   "metadata": {
    "tags": []
   },
   "source": [
    "## Part 5: Filter your data more\n",
    "- Select the data points where sub-category is `Tables`. Assign the resulting dataframe to `JustTables` variable.\n",
    "- Select the data points where sub-category is `Bookcases`\n",
    "- List the total profit and sales for each product in `Product Name` where it is in `Tables` sub-category\n",
    "- Find the total sales and profits of `Tables` sub-category prodcuts to only `Corporate` customers in the `Segment` column.\n",
    "- List the tables products which made negative total profit"
   ]
  },
  {
   "cell_type": "code",
   "execution_count": null,
   "id": "11aca94d-7811-47b5-b586-ac7848f82df8",
   "metadata": {},
   "outputs": [],
   "source": []
  },
  {
   "cell_type": "markdown",
   "id": "d42b5c33-b148-47eb-84e1-c57f7405a024",
   "metadata": {
    "tags": []
   },
   "source": [
    "## Part 6: Digging deeper to understand table profits and sales\n",
    "For the following tasks, use the data points  for only tables sub-category (`JustTables`)\n",
    "- Create total sales and profits per segment and sort the total values by profit\n",
    "- Find the total sales and profits for each region, sort the total values by profit\n",
    "- Filter segment, region, profit and sales data for only west region, and find the total sales and profits by segment and sort the total values by profit\n",
    "- Find the overall average discount and profit for table products, \n",
    "- Find the discount for table products by product name and sort these averages by discount in descending order"
   ]
  },
  {
   "cell_type": "code",
   "execution_count": null,
   "id": "21cc73b2-63eb-4c6c-bdca-94e9a46b2402",
   "metadata": {},
   "outputs": [],
   "source": []
  },
  {
   "cell_type": "markdown",
   "id": "d1427bc7-ff90-4627-9006-7be57bf8f790",
   "metadata": {},
   "source": [
    "## Part 7: Correlation Between Table Discounts and Sales and Dates\n",
    "- Find the correlation between discounts and sales for table products\n",
    "- Print the correlation and p-value (import `scipy.stats`, use `spearmanr` from `scipy.stats` library\n",
    "- Copy your JustTables data into a new dataframe, JustTablesYears\n",
    "- Add a new column of `Year` by only taking the year part of the `Order Date`.\n",
    "- Find the yealry total sales and profit figures for tables sub-category"
   ]
  },
  {
   "cell_type": "code",
   "execution_count": null,
   "id": "e0e06845-54d6-4158-913b-08e837c683d6",
   "metadata": {},
   "outputs": [],
   "source": []
  },
  {
   "cell_type": "markdown",
   "id": "6d7a8789-ec8c-425e-9c5d-1d42b8dc353f",
   "metadata": {
    "tags": []
   },
   "source": [
    "## PART 8: Combining Several Levels of Anaysis at Once\n",
    "- List the average discount per region for tables sub-category\n",
    "- Create a loop and print the discounts for table for regoins for each year\n",
    "- Create a loop and print the discounts for customer segments for each year\n",
    "- Create a loop and print total table sales and profit for customer segments for each region\n",
    "- Create a loop and print table discounts by customer segments for each region\n",
    "- List the total sales and average discount for table products by product name (use `agg` function)"
   ]
  },
  {
   "cell_type": "code",
   "execution_count": null,
   "id": "9cdf693e-1ff9-447b-bf49-fc811b02b292",
   "metadata": {},
   "outputs": [],
   "source": []
  },
  {
   "cell_type": "markdown",
   "id": "0bc20eb6-6099-41ac-8180-d8b32435558c",
   "metadata": {},
   "source": [
    "## Part 9: Basic Graphs\n",
    "- Group your data for only tables by year and find the total sales\n",
    "- Reset the index of the total sales group result\n",
    "- Create a pie chart showing total sales per year\n",
    "- Create a bar chart for total sales per year"
   ]
  },
  {
   "cell_type": "code",
   "execution_count": null,
   "id": "b461c978-6ee7-46d9-918f-c9dcc8a76e35",
   "metadata": {},
   "outputs": [],
   "source": []
  }
 ],
 "metadata": {
  "kernelspec": {
   "display_name": "Python 3 (ipykernel)",
   "language": "python",
   "name": "python3"
  },
  "language_info": {
   "codemirror_mode": {
    "name": "ipython",
    "version": 3
   },
   "file_extension": ".py",
   "mimetype": "text/x-python",
   "name": "python",
   "nbconvert_exporter": "python",
   "pygments_lexer": "ipython3",
   "version": "3.11.4"
  }
 },
 "nbformat": 4,
 "nbformat_minor": 5
}
