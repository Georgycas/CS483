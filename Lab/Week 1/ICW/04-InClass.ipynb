{
 "cells": [
  {
   "cell_type": "markdown",
   "id": "84415d93-bb30-424f-8bf5-220469e7c3cb",
   "metadata": {},
   "source": [
    "**Q1** A farmer is asking you to tell him how many legs can be counted among all his animals.\n",
    "\n",
    "The farmer breeds three species:\n",
    "\n",
    "chickens = 2 legs\n",
    "cows = 4 legs\n",
    "pigs = 4 legs\n",
    "\n",
    "The farmer has counted his animals and he gives you a subtotal for each species.\\\n",
    "You have to implement a function that returns the total number of legs of all the animals.\n",
    "\n",
    "Examples\n",
    "\n",
    "animals(2, 3, 5) ➞ 36\n",
    "\n",
    "animals(1, 2, 3) ➞ 22\n",
    "\n",
    "animals(5, 2, 8) ➞ 50\n",
    "Notes\n",
    "\n",
    "Don't forget to return the result.\\\n",
    "The order of animals passed is animals(chickens, cows, pigs).\\\n",
    "Remember that the farmer wants to know the total number of legs\\\n",
    "and not the total number of animals."
   ]
  },
  {
   "cell_type": "code",
   "execution_count": null,
   "id": "7fe91005-c10e-4afd-8288-b1148ed8059d",
   "metadata": {},
   "outputs": [],
   "source": []
  },
  {
   "cell_type": "markdown",
   "id": "58068e95-ec9c-4069-a834-838e55e87a94",
   "metadata": {},
   "source": [
    "**Q2** Write two functions:\n",
    "\n",
    "to_int() : A function to convert a string to an integer.\\\n",
    "to_str() : A function to convert an integer to a string.\\\n",
    "\n",
    "Examples\n",
    "\n",
    "to_int(\"77\") ➞ 77\n",
    "\n",
    "to_int(\"532\") ➞ 532\n",
    "\n",
    "to_str(77) ➞ \"77\"\n",
    "\n",
    "to_str(532) ➞ \"532\"\n",
    "\n",
    "Notes\n",
    "\n",
    "Don't forget to return the result.\\\n",
    "If you get stuck on a challenge, find help in the Resources tab.\\"
   ]
  },
  {
   "cell_type": "code",
   "execution_count": null,
   "id": "3122b30b-2615-478a-a54d-304067dd20b1",
   "metadata": {},
   "outputs": [],
   "source": []
  },
  {
   "cell_type": "markdown",
   "id": "a46a8bd2-e088-4275-8ac2-254960551125",
   "metadata": {},
   "source": [
    "**Q3** There is a single operator in Python, capable of\\\n",
    "providing the remainder of a division operation. Two numbers\\\n",
    "are passed as parameters. The first parameter divided by\\\n",
    "the second parameter will have a remainder, possibly zero.\\\n",
    "Return that value.\n",
    "\n",
    "Examples\n",
    "\n",
    "remainder(1, 3) ➞ 1\n",
    "\n",
    "remainder(3, 4) ➞ 3\n",
    "\n",
    "remainder(5, 5) ➞ 0\n",
    "\n",
    "remainder(7, 2) ➞ 1\n",
    "\n",
    "Notes\n",
    "\n",
    "The tests only use positive integers.\\\n",
    "Don't forget to return the result."
   ]
  },
  {
   "cell_type": "code",
   "execution_count": null,
   "id": "7a683b11-696a-4594-ba6e-c3a2708d0735",
   "metadata": {},
   "outputs": [],
   "source": []
  },
  {
   "cell_type": "markdown",
   "id": "74de5dd3-cd16-480e-b33f-323ea9cb2f8d",
   "metadata": {},
   "source": [
    "**Q4** Create a function that takes a number as its only argument\\\n",
    "and returns True if it's less than or equal to zero, otherwise return False.\n",
    "\n",
    "Examples\n",
    "\n",
    "less_than_or_equal_to_zero(5) ➞ False\n",
    "\n",
    "less_than_or_equal_to_zero(0) ➞ True\n",
    "\n",
    "less_than_or_equal_to_zero(-2) ➞ True\n",
    "\n",
    "Notes\n",
    "\n",
    "Don't forget to return the result.\\\n",
    "If you get stuck on a challenge, find help in the Resources tab."
   ]
  },
  {
   "cell_type": "code",
   "execution_count": null,
   "id": "000d18a2-bcf9-4468-b37f-1e60dee3cd9a",
   "metadata": {},
   "outputs": [],
   "source": []
  },
  {
   "cell_type": "markdown",
   "id": "68e051d1-e1c4-4aed-a49d-c75ebbfc6c5b",
   "metadata": {},
   "source": [
    "**Q5** Create a function that returns True when num1 is equal to num2;\\\n",
    "otherwise return False.\n",
    "\n",
    "Examples\n",
    "\n",
    "is_same_num(4, 8) ➞ False\n",
    "\n",
    "is_same_num(2, 2) ➞  True\n",
    "\n",
    "is_same_num(2, \"2\") ➞ False\n",
    "Notes\n",
    "\n",
    "Don't forget to return the result."
   ]
  },
  {
   "cell_type": "code",
   "execution_count": null,
   "id": "573b9088-7a14-4290-84bb-79f99bf53f7e",
   "metadata": {},
   "outputs": [],
   "source": []
  },
  {
   "cell_type": "markdown",
   "id": "d71a5fef-4c8a-421a-af02-6289e441813f",
   "metadata": {},
   "source": [
    "**Q6** Create a function that takes two arguments:\\\n",
    "the original price and the discount percentage as\\\n",
    "integers and returns the final price after the discount.\n",
    "\n",
    "\n",
    "Examples\n",
    "\n",
    "dis(1500, 50) ➞ 750\n",
    "\n",
    "dis(89, 20) ➞ 71.2\n",
    "\n",
    "dis(100, 75) ➞ 25"
   ]
  },
  {
   "cell_type": "code",
   "execution_count": null,
   "id": "1c015ddc-7550-488f-87b1-57af20788088",
   "metadata": {},
   "outputs": [],
   "source": []
  },
  {
   "cell_type": "markdown",
   "id": "6b069631-1f30-4e91-8269-5b7fcec72553",
   "metadata": {},
   "source": [
    "**Q7** Given a number, return a list containing the\\\n",
    "two halves of the number. If the number is odd,\\\n",
    "make the rightmost number higher.\n",
    "\n",
    "Examples\n",
    "\n",
    "number_split(4) ➞ [2, 2]\n",
    "\n",
    "number_split(10) ➞ [5, 5]\n",
    "\n",
    "number_split(11) ➞ [5, 6]\n",
    "\n",
    "number_split(-9) ➞ [-5, -4]\n",
    "\n",
    "Notes\n",
    "\n",
    "All numbers will be integers.\\\n",
    "You can expect negative numbers too."
   ]
  },
  {
   "cell_type": "code",
   "execution_count": null,
   "id": "a110be7d-3447-4dc9-89f1-2572ab2c47a8",
   "metadata": {},
   "outputs": [],
   "source": []
  },
  {
   "cell_type": "markdown",
   "id": "065915af-66b2-4111-94b4-13433ff0e8d7",
   "metadata": {},
   "source": [
    "**Q8** Write a function that calculates the factorial of a number recursively.\n",
    "\n",
    "Examples\n",
    "\n",
    "factorial(5) ➞ 120\n",
    "\n",
    "factorial(3) ➞ 6\n",
    "\n",
    "factorial(1) ➞ 1\n",
    "\n",
    "factorial(0) ➞ 1\n"
   ]
  },
  {
   "cell_type": "code",
   "execution_count": null,
   "id": "0e07e7fb-ba14-4787-813a-7de0efd5aa32",
   "metadata": {},
   "outputs": [],
   "source": []
  },
  {
   "cell_type": "markdown",
   "id": "243b2918-f15e-4145-9174-e063df1ad4d0",
   "metadata": {},
   "source": [
    "**Q9** Create a function that takes a country's name and\\\n",
    "its area as arguments and returns the area of the country's\\\n",
    "proportion of the total world's landmass.\n",
    "\n",
    "Examples\n",
    "\n",
    "area_of_country(\"Russia\", 17098242) ➞\\\n",
    "\"Russia is 11.48% of the total world's landmass\"\n",
    "\n",
    "area_of_country(\"USA\", 9372610),\\\n",
    "\"USA is 6.29% of the total world's landmass\"\n",
    "\n",
    "area_of_country(\"Iran\", 1648195) ➞\\\n",
    "\"Iran is 1.11% of the total world's landmass\"\n",
    "Notes\n",
    "\n",
    "The total world's landmass is 148,940,000 [Km^2]\\\n",
    "Round the result to two decimal places."
   ]
  },
  {
   "cell_type": "code",
   "execution_count": null,
   "id": "a1148305-f305-4daa-bf6e-efe140e936f7",
   "metadata": {},
   "outputs": [],
   "source": []
  },
  {
   "cell_type": "markdown",
   "id": "897f8e29-7ce0-4319-a27a-ba60958f3ca1",
   "metadata": {},
   "source": [
    "**Q10** Write a function that takes coordinates of two points\\\n",
    "on a two-dimensional plane and returns the length of\\\n",
    "the line segment connecting those two points.\n",
    "\n",
    "Examples\n",
    "\n",
    "line_length([15, 7], [22, 11]) ➞ 8.06\n",
    "\n",
    "line_length([0, 0], [0, 0]) ➞ 0\n",
    "\n",
    "line_length([0, 0], [1, 1]) ➞ 1.41\n",
    "\n",
    "Notes\n",
    "\n",
    "The order of the given numbers is X, Y.\\\n",
    "This challenge is easier than it looks.\\\n",
    "Round your result to two decimal places."
   ]
  },
  {
   "cell_type": "code",
   "execution_count": null,
   "id": "fbee03a0-fdd7-4b21-822e-fb6f148d911c",
   "metadata": {},
   "outputs": [],
   "source": []
  },
  {
   "cell_type": "markdown",
   "id": "b626566a-a3d9-4074-82d9-ff7247f3b223",
   "metadata": {},
   "source": [
    "**Q11** Write a program that asks the user to enter two numbers\\\n",
    "(you’ll probably want to use separate `input` statements for that).\\\n",
    "Then print out the result of adding those two numbers."
   ]
  },
  {
   "cell_type": "code",
   "execution_count": null,
   "id": "f6a6ec20-2698-46f0-90a0-e03fa561ad0c",
   "metadata": {},
   "outputs": [],
   "source": []
  }
 ],
 "metadata": {
  "kernelspec": {
   "display_name": "Python 3 (ipykernel)",
   "language": "python",
   "name": "python3"
  },
  "language_info": {
   "codemirror_mode": {
    "name": "ipython",
    "version": 3
   },
   "file_extension": ".py",
   "mimetype": "text/x-python",
   "name": "python",
   "nbconvert_exporter": "python",
   "pygments_lexer": "ipython3",
   "version": "3.11.4"
  }
 },
 "nbformat": 4,
 "nbformat_minor": 5
}
