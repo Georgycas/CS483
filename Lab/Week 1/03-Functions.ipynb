{
 "cells": [
  {
   "cell_type": "markdown",
   "id": "87fd3ada-bd60-4b8c-9004-47d0d50be765",
   "metadata": {},
   "source": [
    "Introduction to Functions\n",
    "\n",
    "We learned that variables can store values that can\\\n",
    "be reused later in the program. Functions are even\\\n",
    "more powerful because they can store entire blocks of code\\\n",
    "that can be reused multiple times.\n",
    "\n",
    "Below we are defining a function."
   ]
  },
  {
   "cell_type": "code",
   "execution_count": 1,
   "id": "d2d86033-9a20-41ed-ab56-e297b6021a98",
   "metadata": {
    "tags": []
   },
   "outputs": [
    {
     "name": "stdout",
     "output_type": "stream",
     "text": [
      "Hello world!\n",
      "Hello world!\n"
     ]
    }
   ],
   "source": [
    "m = \"Hello world!\"\n",
    "\n",
    "print(m)\n",
    "print(m)"
   ]
  },
  {
   "cell_type": "code",
   "execution_count": 3,
   "id": "526d3c9b-5795-435c-bed5-e34ab887109f",
   "metadata": {
    "tags": []
   },
   "outputs": [],
   "source": [
    "def greet():\n",
    "    print(\"Hello, world!\")\n"
   ]
  },
  {
   "cell_type": "code",
   "execution_count": 5,
   "id": "4399761c-b09e-4c77-842e-d33a6da35de8",
   "metadata": {
    "tags": []
   },
   "outputs": [
    {
     "name": "stdout",
     "output_type": "stream",
     "text": [
      "Hello, world!\n"
     ]
    }
   ],
   "source": [
    "greet()"
   ]
  },
  {
   "cell_type": "markdown",
   "id": "a8593e39-ed76-4bc4-a6ee-0d276bd27f66",
   "metadata": {},
   "source": [
    "Functions are defined using the `def` keyword followed by the\\\n",
    "function name and parentheses with a colon `():`. The code that\\\n",
    "belongs to the function must be indented with whitespace. In this\\\n",
    "case we have just a single line of code that prints `\"Hello, world!\"`.\\\n",
    "Functions can have multiple lines of code too, but they can not be empty.\n",
    "\n",
    "After defining a function, you can use it by typing the name of\\\n",
    "it followed by parentheses `()`. This is called `calling the function`."
   ]
  },
  {
   "cell_type": "code",
   "execution_count": 4,
   "id": "a5034f17-bc5d-4d0b-a1ca-0bbeb5d94053",
   "metadata": {
    "tags": []
   },
   "outputs": [
    {
     "name": "stdout",
     "output_type": "stream",
     "text": [
      "Hello, world!\n"
     ]
    }
   ],
   "source": [
    "greet()  # This will print \"Hello, world!\"\n"
   ]
  },
  {
   "cell_type": "markdown",
   "id": "88232a70-579a-4a71-9019-31be18eb4ceb",
   "metadata": {},
   "source": [
    "This is not so different than how we use built-in functions\\\n",
    "like `print()`. We just need to define our own functions before we can use them."
   ]
  },
  {
   "cell_type": "markdown",
   "id": "ab20e9d8-edf1-4cb5-acb7-acaaaa70effc",
   "metadata": {},
   "source": [
    "Function Declaration\n",
    "\n",
    "Similar to how variables must be declared before they\\\n",
    "can be used, functions must also be defined before they can be called."
   ]
  },
  {
   "cell_type": "code",
   "execution_count": 5,
   "id": "286201d8-e80f-44c5-beaf-378a7a64e209",
   "metadata": {
    "tags": []
   },
   "outputs": [
    {
     "ename": "NameError",
     "evalue": "name 'n' is not defined",
     "output_type": "error",
     "traceback": [
      "\u001b[0;31m---------------------------------------------------------------------------\u001b[0m",
      "\u001b[0;31mNameError\u001b[0m                                 Traceback (most recent call last)",
      "Cell \u001b[0;32mIn[5], line 1\u001b[0m\n\u001b[0;32m----> 1\u001b[0m \u001b[38;5;28mprint\u001b[39m(n) \u001b[38;5;66;03m# error because n is not defined yet\u001b[39;00m\n\u001b[1;32m      2\u001b[0m n \u001b[38;5;241m=\u001b[39m \u001b[38;5;241m10\u001b[39m \n\u001b[1;32m      4\u001b[0m print_number(\u001b[38;5;241m5\u001b[39m) \u001b[38;5;66;03m# error because the function print_number is not defined yet\u001b[39;00m\n",
      "\u001b[0;31mNameError\u001b[0m: name 'n' is not defined"
     ]
    }
   ],
   "source": [
    "print(n) # error because n is not defined yet\n",
    "n = 10 \n",
    "\n",
    "print_number(5) # error because the function print_number is not defined yet\n",
    "\n",
    "def print_number(n):\n",
    "    print(n)\n"
   ]
  },
  {
   "cell_type": "code",
   "execution_count": 8,
   "id": "ebbc174e-3ec4-4adf-a109-c5a1e36d8c07",
   "metadata": {
    "tags": []
   },
   "outputs": [
    {
     "name": "stdout",
     "output_type": "stream",
     "text": [
      "10\n"
     ]
    }
   ],
   "source": [
    "n = 10\n",
    "print(n)"
   ]
  },
  {
   "cell_type": "code",
   "execution_count": 22,
   "id": "45a1dfdd-f829-407b-8c8a-d872f432aad7",
   "metadata": {
    "tags": []
   },
   "outputs": [
    {
     "name": "stdout",
     "output_type": "stream",
     "text": [
      "15\n"
     ]
    }
   ],
   "source": [
    "\n",
    "\n",
    "def print_number3(k=1):\n",
    "    print(k)\n",
    "k=15    \n",
    "print_number3(k)"
   ]
  },
  {
   "cell_type": "code",
   "execution_count": 17,
   "id": "000882a9-4e2f-4398-9d7e-e19ac65e68f0",
   "metadata": {
    "tags": []
   },
   "outputs": [
    {
     "ename": "NameError",
     "evalue": "name 'k' is not defined",
     "output_type": "error",
     "traceback": [
      "\u001b[0;31m---------------------------------------------------------------------------\u001b[0m",
      "\u001b[0;31mNameError\u001b[0m                                 Traceback (most recent call last)",
      "Cell \u001b[0;32mIn[17], line 1\u001b[0m\n\u001b[0;32m----> 1\u001b[0m print_number(k)\n",
      "\u001b[0;31mNameError\u001b[0m: name 'k' is not defined"
     ]
    }
   ],
   "source": [
    "print_number(k)"
   ]
  },
  {
   "cell_type": "markdown",
   "id": "7687ca97-21d9-40e5-84ef-5d4645d1b4ad",
   "metadata": {},
   "source": [
    "Parameters\n",
    "\n",
    "You may have noticed that when we call the `print()` function,\\\n",
    "we put variables and strings inside of the parentheses.\\\n",
    "That's because a function can be defined with parameters."
   ]
  },
  {
   "cell_type": "code",
   "execution_count": 6,
   "id": "c3aa317d-bbe5-454a-ac7f-ee13af89ddfa",
   "metadata": {
    "tags": []
   },
   "outputs": [
    {
     "name": "stdout",
     "output_type": "stream",
     "text": [
      "Hello, Alice\n"
     ]
    }
   ],
   "source": [
    "def greet(name):\n",
    "    msg = \"Hello, \" + name\n",
    "    print(msg)\n",
    "\n",
    "greet(\"Alice\")  # This will print \"Hello, Alice\"\n"
   ]
  },
  {
   "cell_type": "markdown",
   "id": "f7e24e45-4612-4801-949d-907aab31082b",
   "metadata": {},
   "source": [
    "In the above code, we defined a function called `greet` that takes\\\n",
    "a parameter called name. We call the function by passing in `\"Alice\"`\\\n",
    "as the `argument`. Inside the function, we concatenate the string `\"Hello, \"`\\\n",
    "with the `name` parameter (we can combine strings with the + operator).\\\n",
    "We then print the result.\n",
    "\n",
    "The power of parameters is that we can pass different values\\\n",
    "to the function and get different results. This allows us to\\\n",
    "reuse code without having to type it all out from scratch each time.\n",
    "\n",
    "When calling a function, you can pass values, variables,\\\n",
    "or expressions as arguments to the function."
   ]
  },
  {
   "cell_type": "markdown",
   "id": "337178a1-bf23-405f-ae56-c5b138d1795b",
   "metadata": {},
   "source": [
    "A `parameter` is a variable in a function definition. When a function\\\n",
    "is called, the `arguments` are the data you pass into the function's parameters.\\\n",
    "In the example above, the `parameter` is `name` and the `argument` is `\"Alice\"`.\n",
    "\n",
    "If we next call the function by passing in `\"Bob\"` as the argument, the parameter is\\\n",
    "still `name`, but the argument is now `\"Bob\"`."
   ]
  },
  {
   "cell_type": "markdown",
   "id": "c17abdac-dca9-49ea-857c-a5dd0376f7fd",
   "metadata": {},
   "source": [
    "Multiple Parameters\n",
    "\n",
    "Functions can be defined to accept more than one parameter.\\\n",
    "The parameters are separated by commas in the function definition.\\\n",
    "When calling the function, the arguments are also separated by commas."
   ]
  },
  {
   "cell_type": "code",
   "execution_count": 27,
   "id": "f7dc2a67-04cd-4e1e-8cb1-dbb6e78494b2",
   "metadata": {
    "tags": []
   },
   "outputs": [
    {
     "name": "stdout",
     "output_type": "stream",
     "text": [
      "Hello Alice\n"
     ]
    }
   ],
   "source": [
    "def greet(name='Lisa', greeting='Hi'):\n",
    "    message = greeting + \" \" + name\n",
    "    print(message)\n",
    "\n",
    "greet(\"Alice\", \"Hello\")  # This will print \"Hello Alice\""
   ]
  },
  {
   "cell_type": "code",
   "execution_count": 28,
   "id": "5b1181b6-823e-4289-9ce3-c6fec5270d18",
   "metadata": {
    "tags": []
   },
   "outputs": [
    {
     "name": "stdout",
     "output_type": "stream",
     "text": [
      "Hi Lisa\n"
     ]
    }
   ],
   "source": [
    "greet()"
   ]
  },
  {
   "cell_type": "markdown",
   "id": "7e9d2390-6c0c-48b6-9998-c6016e4989c2",
   "metadata": {},
   "source": [
    "Notice how we concatenate three strings together\\\n",
    "(`greeting`, `\" \"`, and `name`) using the `+` operator.\\\n",
    "This allows us to combine the strings into one message."
   ]
  },
  {
   "cell_type": "markdown",
   "id": "95279db6-359d-4068-b841-a3d0e3c3a024",
   "metadata": {},
   "source": [
    "Return Statement\n",
    "\n",
    "Functions are even more extensible then they seem.\\\n",
    "Instead of just printing a value, you can also `return`\\\n",
    "a value from a function. This allows you to use the result\\\n",
    "of a function in other parts of your code, outside of the original function."
   ]
  },
  {
   "cell_type": "code",
   "execution_count": 8,
   "id": "1f3d4849-8916-4767-8191-2c6beb30b8b8",
   "metadata": {
    "tags": []
   },
   "outputs": [
    {
     "name": "stdout",
     "output_type": "stream",
     "text": [
      "8\n"
     ]
    }
   ],
   "source": [
    "def add(x, y):\n",
    "    return x + y\n",
    "\n",
    "result = add(3, 5)\n",
    "print(result)  # This will print 8\n"
   ]
  },
  {
   "cell_type": "code",
   "execution_count": 29,
   "id": "88930d3c-539a-4309-ba6d-a4ba827a25b0",
   "metadata": {
    "tags": []
   },
   "outputs": [
    {
     "name": "stdout",
     "output_type": "stream",
     "text": [
      "15\n"
     ]
    }
   ],
   "source": [
    "num = 5\n",
    "\n",
    "print(num+10)"
   ]
  },
  {
   "cell_type": "code",
   "execution_count": 34,
   "id": "6ac899f3-9e7f-4cb7-b143-d6397069aa6c",
   "metadata": {
    "tags": []
   },
   "outputs": [
    {
     "name": "stdout",
     "output_type": "stream",
     "text": [
      "60\n"
     ]
    }
   ],
   "source": [
    "def myaddition(x,y):\n",
    "     return x+y\n",
    "h = myaddition(10,50)    \n",
    "print(h)"
   ]
  },
  {
   "cell_type": "markdown",
   "id": "b1489063-238a-4a0a-9a02-de9a4019d750",
   "metadata": {},
   "source": [
    "Scope\n",
    "\n",
    "Consider the following code:"
   ]
  },
  {
   "cell_type": "code",
   "execution_count": 9,
   "id": "29b1e2c4-9e1b-4f5d-b862-5952ae5f18f5",
   "metadata": {
    "tags": []
   },
   "outputs": [
    {
     "name": "stdout",
     "output_type": "stream",
     "text": [
      "10\n",
      "11\n",
      "10\n"
     ]
    }
   ],
   "source": [
    "n = 10\n",
    "print(n)         # Output: 10\n",
    "\n",
    "def print_number(n):\n",
    "    print(n)\n",
    "\n",
    "print_number(11) # Output: 11\n",
    "\n",
    "print(n)         # Output: 10\n"
   ]
  },
  {
   "cell_type": "code",
   "execution_count": 41,
   "id": "5a875b1f-c2ca-4120-8875-ad2b040f4e18",
   "metadata": {
    "tags": []
   },
   "outputs": [
    {
     "name": "stdout",
     "output_type": "stream",
     "text": [
      "10\n",
      "11\n",
      "10\n"
     ]
    }
   ],
   "source": [
    "n = 10\n",
    "print(n)\n",
    "\n",
    "def print_number(n):\n",
    "    print(n)\n",
    "\n",
    "print_number(n=11) \n",
    "\n",
    "print(n)"
   ]
  },
  {
   "cell_type": "code",
   "execution_count": 38,
   "id": "db1072eb-a46e-4bc1-833e-8295b7f87026",
   "metadata": {
    "tags": []
   },
   "outputs": [
    {
     "name": "stdout",
     "output_type": "stream",
     "text": [
      "9\n"
     ]
    }
   ],
   "source": [
    "print_number(9)"
   ]
  },
  {
   "cell_type": "markdown",
   "id": "2c471e92-afce-48fe-8354-194906e848e5",
   "metadata": {},
   "source": [
    "- First `n` is assigned the value of 10 and printed.\n",
    "- Next we call the function `print_number` and pass in the value `11`.\\\n",
    "  The name of the parameter for this function is also `n`. But this does\\\n",
    "  not cause an error in Python.\n",
    "- After the function call is complete, the value of the original `n`\\\n",
    "  is printed and it's still 10."
   ]
  },
  {
   "cell_type": "markdown",
   "id": "daf00a58-bddf-4fd3-a37b-6c4b283e29a1",
   "metadata": {},
   "source": [
    "This can be explained by the concept of scope in programming.\n",
    "\n",
    "In programming, the scope refers to the visibility or\\\n",
    "accessibility of variables within different parts of the code.\\\n",
    "The value `11` passed into the `print_number()` function,\\\n",
    "is only accessible within the function. The function has\\\n",
    "its own scope, and the variable n inside the function is a\\\n",
    "different variable than the one outside the function. This is\\\n",
    "why the value of the original n is still 10 after the function call."
   ]
  },
  {
   "cell_type": "markdown",
   "id": "382fb15b-2313-4958-8c6a-a468ad9e136b",
   "metadata": {},
   "source": [
    "The value of the variable `n` outside the function\\\n",
    "remains unchanged because the variable `n` inside\\\n",
    "the function is a different variable, even though\\\n",
    "they share the same name. When we pass the value of `n`\\\n",
    "into the function, the function creates a new copy of `n`\\\n",
    "that is local to the function (only accessible within the function).\\\n",
    "Any changes made to this local variable do not affect the original\\\n",
    "variable outside the function."
   ]
  },
  {
   "cell_type": "markdown",
   "id": "eaf290d7-051f-4004-a58b-090d75d43bb9",
   "metadata": {},
   "source": [
    "Global vs Local Scope\n",
    "\n",
    "Here are a few more examples illustrating scope in Python:"
   ]
  },
  {
   "cell_type": "code",
   "execution_count": 46,
   "id": "2d0cc63e-d73a-4722-b6ea-54c7dc70b3d4",
   "metadata": {
    "tags": []
   },
   "outputs": [
    {
     "name": "stdout",
     "output_type": "stream",
     "text": [
      "10\n",
      "10\n"
     ]
    }
   ],
   "source": [
    "def declare_variable():\n",
    "    #inside_function_only = 10\n",
    "    return inside_function_only\n",
    "\n",
    "inside_function_only=10\n",
    "print(declare_variable())\n",
    "print(inside_function_only) # This will raise a NameError\n"
   ]
  },
  {
   "cell_type": "markdown",
   "id": "d1abc254-a0d4-45e0-8b58-ba4bc2016435",
   "metadata": {},
   "source": [
    "In the code above, the variable `inside_function_only` is declared\\\n",
    "inside the function `declare_variable`. This variable has a local scope\\\n",
    "and is only accessible within the function. Attempting to access it\\\n",
    "outside the function will result in a `NameError`."
   ]
  },
  {
   "cell_type": "code",
   "execution_count": 11,
   "id": "e7b85f78-a4af-441c-b244-c14f60e4f1b9",
   "metadata": {
    "tags": []
   },
   "outputs": [
    {
     "name": "stdout",
     "output_type": "stream",
     "text": [
      "10\n"
     ]
    }
   ],
   "source": [
    "n = 10\n",
    "\n",
    "def print_global_variable():\n",
    "    print(n)\n",
    "\n",
    "print_global_variable() # This will print 10\n"
   ]
  },
  {
   "cell_type": "markdown",
   "id": "813d1b60-0472-4f11-b66d-5e1d197f1366",
   "metadata": {},
   "source": [
    "In the code above, the variable `n` is declared outside the\\\n",
    "function `print_global_variable`. This variable has a global scope,\\\n",
    "since it's not within a function, and can be accessed from\\\n",
    "anywhere in the program, including inside functions.\n",
    "\n",
    "Note: We saw earlier, that if the function has a parameter\\\n",
    "with the same name as a global variable, the function\\\n",
    "will use the local variable instead of the global variable.\n",
    "\n",
    "Global Scope:\n",
    "\n",
    "- Variables declared outside of any function have a global scope.\n",
    "- They can be accessed from anywhere in the program, including inside functions.\n",
    "\n",
    "Local Scope:\n",
    "\n",
    "- Variables declared within a function have a local scope.\n",
    "- They can only be accessed within the function in which they are defined.\n",
    "- Local variables are created when the function is called and destroyed when the function exits."
   ]
  },
  {
   "cell_type": "markdown",
   "id": "733f5899-ba77-447b-aa61-987504ea3ced",
   "metadata": {},
   "source": [
    "Default Arguments\n",
    "\n",
    "You can specify default values for parameters in a function definition."
   ]
  },
  {
   "cell_type": "code",
   "execution_count": 12,
   "id": "fe67765a-1005-46ec-a4b9-8b6e626291a7",
   "metadata": {
    "tags": []
   },
   "outputs": [
    {
     "name": "stdout",
     "output_type": "stream",
     "text": [
      "Hello, world!\n",
      "Hello, Bob!\n"
     ]
    }
   ],
   "source": [
    "def greet(name=\"world\"):\n",
    "    print(\"Hello, \" + name + \"!\")\n",
    "\n",
    "greet()       # This will print \"Hello, world!\"\n",
    "greet(\"Bob\")  # This will print \"Hello, Bob!\"\n"
   ]
  },
  {
   "cell_type": "markdown",
   "id": "79199880-b844-4fb0-a9e7-1acdafe80514",
   "metadata": {},
   "source": [
    "In the above code, we have given the parameter `name` a default\\\n",
    "value of `\"world\"`. If we call the function without any arguments,\\\n",
    "the default value will be used. If we call the function with an argument,\\\n",
    "that argument will be used instead.\n",
    "\n",
    "We can also have multiple parameters with default values. But the order\\\n",
    "of the parameters matters! If you have a parameter with a default value,\\\n",
    "all parameters after it must also have default values."
   ]
  },
  {
   "cell_type": "code",
   "execution_count": 13,
   "id": "f7392805-b0f6-41ce-bf72-3322119fadad",
   "metadata": {
    "tags": []
   },
   "outputs": [
    {
     "ename": "SyntaxError",
     "evalue": "non-default argument follows default argument (1233218039.py, line 10)",
     "output_type": "error",
     "traceback": [
      "\u001b[0;36m  Cell \u001b[0;32mIn[13], line 10\u001b[0;36m\u001b[0m\n\u001b[0;31m    def greet(greeting=\"Hello\", name):\u001b[0m\n\u001b[0m                                ^\u001b[0m\n\u001b[0;31mSyntaxError\u001b[0m\u001b[0;31m:\u001b[0m non-default argument follows default argument\n"
     ]
    }
   ],
   "source": [
    "# This is valid\n",
    "def greet(greeting=\"Hello\", name=\"world\"):\n",
    "    print(greeting + \", \" + name + \"!\")\n",
    "\n",
    "# This is valid\n",
    "def greet(greeting, name=\"world\"):\n",
    "    print(greeting + \", \" + name + \"!\")\n",
    "\n",
    "# This is NOT valid\n",
    "def greet(greeting=\"Hello\", name):\n",
    "    print(greeting + \", \" + name + \"!\")\n"
   ]
  },
  {
   "cell_type": "code",
   "execution_count": 48,
   "id": "0555d59c-1e48-4813-8739-8a6c407e29a9",
   "metadata": {},
   "outputs": [
    {
     "name": "stdout",
     "output_type": "stream",
     "text": [
      "Hello, world!\n"
     ]
    }
   ],
   "source": [
    "def greet(greeting=\"Hello\", name=\"world\"):\n",
    "    print(greeting + \", \" + name + \"!\")\n",
    "    \n",
    "greet()    "
   ]
  },
  {
   "cell_type": "code",
   "execution_count": 52,
   "id": "cb69ef45-fa17-406b-987f-b99f81f14cab",
   "metadata": {
    "tags": []
   },
   "outputs": [
    {
     "name": "stdout",
     "output_type": "stream",
     "text": [
      "Hi, Universe!\n"
     ]
    }
   ],
   "source": [
    "# This is valid\n",
    "def greet(greeting, name=\"world\"):\n",
    "    print(greeting + \", \" + name + \"!\")\n",
    "greet('Hi', 'Universe')    "
   ]
  },
  {
   "cell_type": "code",
   "execution_count": 51,
   "id": "4031ecc6-f5f4-4081-b76e-d7ef6386017f",
   "metadata": {
    "tags": []
   },
   "outputs": [
    {
     "ename": "SyntaxError",
     "evalue": "non-default argument follows default argument (1613576596.py, line 1)",
     "output_type": "error",
     "traceback": [
      "\u001b[0;36m  Cell \u001b[0;32mIn[51], line 1\u001b[0;36m\u001b[0m\n\u001b[0;31m    def greet(greeting=\"Hello\", name):\u001b[0m\n\u001b[0m                                ^\u001b[0m\n\u001b[0;31mSyntaxError\u001b[0m\u001b[0;31m:\u001b[0m non-default argument follows default argument\n"
     ]
    }
   ],
   "source": [
    "def greet(greeting=\"Hello\", name):\n",
    "    print(greeting + \", \" + name + \"!\")\n",
    "greet('Hi','World')"
   ]
  },
  {
   "cell_type": "code",
   "execution_count": null,
   "id": "e610b180-c4fd-4242-8c62-eff2bddaabf5",
   "metadata": {},
   "outputs": [],
   "source": []
  }
 ],
 "metadata": {
  "kernelspec": {
   "display_name": "Python 3 (ipykernel)",
   "language": "python",
   "name": "python3"
  },
  "language_info": {
   "codemirror_mode": {
    "name": "ipython",
    "version": 3
   },
   "file_extension": ".py",
   "mimetype": "text/x-python",
   "name": "python",
   "nbconvert_exporter": "python",
   "pygments_lexer": "ipython3",
   "version": "3.11.4"
  }
 },
 "nbformat": 4,
 "nbformat_minor": 5
}
