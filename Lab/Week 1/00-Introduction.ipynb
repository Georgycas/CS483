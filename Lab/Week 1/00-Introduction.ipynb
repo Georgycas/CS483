{
 "cells": [
  {
   "cell_type": "markdown",
   "id": "a1a1f1bc-8c6a-4dd5-a6bc-710d9046e02e",
   "metadata": {},
   "source": [
    "Hello, World\n",
    "\n",
    "The phrase Hello, world! is a special phrase in programming. In 1972 Brian Kernighan,\\\n",
    "a computer scientist, wrote a tutorial for the B programming language using this phrase. \n",
    "\n",
    "He later helped create the C programming language.\n",
    "\n",
    "For most programmers, writing a program that prints Hello, world! is the first program\\\n",
    "they write when learning code.\n",
    "\n",
    "Challenge\n",
    "To follow this tradition, we will start with the \"Hello, World!\" program.\\\n",
    "On the right, you will see a code editor with the following code:"
   ]
  },
  {
   "cell_type": "code",
   "execution_count": 3,
   "id": "bec255dc-1d44-4cd5-aa32-60661c32b824",
   "metadata": {
    "tags": []
   },
   "outputs": [
    {
     "name": "stdout",
     "output_type": "stream",
     "text": [
      "Hello world !\n"
     ]
    }
   ],
   "source": [
    "print(\"Hello world !\")"
   ]
  },
  {
   "cell_type": "code",
   "execution_count": 1,
   "id": "14ffaa20-3fb2-4410-a9a7-c17c6526382b",
   "metadata": {
    "tags": []
   },
   "outputs": [
    {
     "name": "stdout",
     "output_type": "stream",
     "text": [
      "Helo world!\n"
     ]
    }
   ],
   "source": [
    "print(\"Hello world!\")"
   ]
  },
  {
   "cell_type": "markdown",
   "id": "fbc2c8e0-8d78-448a-a164-fbd89c6a0968",
   "metadata": {},
   "source": [
    "What does `print(\"\")` mean?\n",
    "\n",
    "In Python, print() is a built-in function used to display output\\\n",
    "to the console. We will learn more about functions later on in the course.\\\n",
    "For now you can use it to print text, variables, or the result of expressions to the console.\n",
    "\n",
    "\n",
    "The console is a text-based interface that allows you to interact with a computer.\\\n",
    "It is a common tool used by developers to debug their code."
   ]
  },
  {
   "cell_type": "markdown",
   "id": "670d2617-a23b-4022-858b-5df8a70884f5",
   "metadata": {},
   "source": [
    "What is Python?\n",
    "\n",
    "Python is an interpreted programming language.\\\n",
    "It was created by Guido van Rossum and first released in 1991.\\\n",
    "Python is known for its simplicity and readability, which makes it a great language for beginners.\n",
    "\n",
    "Python is one of the most popular languages in the world.\\\n",
    "It is often the preferred language when automating tasks via scripts.\\\n",
    "It is also widely used in scientific computing, data science,\\\n",
    "machine learning, and backend web development."
   ]
  },
  {
   "cell_type": "markdown",
   "id": "8c5daae5-1b70-46a9-90eb-b8de72632e6c",
   "metadata": {},
   "source": [
    "Execution Order\n",
    "\n",
    "In programming, code is generally executed line-by-line,\\\n",
    "from top to bottom, and this holds true for Python code as well.\\\n",
    "This means that the order in which you write your code is important.\n",
    "\n",
    "For example, the following code:"
   ]
  },
  {
   "cell_type": "code",
   "execution_count": 4,
   "id": "6e4595f6-389f-416e-9f14-75f796f5677d",
   "metadata": {
    "tags": []
   },
   "outputs": [
    {
     "name": "stdout",
     "output_type": "stream",
     "text": [
      "First\n",
      "Second\n",
      "Third\n"
     ]
    }
   ],
   "source": [
    "print(\"First\")\n",
    "print(\"Second\")\n",
    "print(\"Third\")\n"
   ]
  },
  {
   "cell_type": "markdown",
   "id": "b6160cda-dc3a-4113-ace4-fa717f426f81",
   "metadata": {},
   "source": [
    "Printing Text\n",
    "\n",
    "Earlier we printed Hello, world! to the console.\n",
    "\n",
    "`print(\"Hello, world!\")`\n",
    "\n",
    "You may have noticed that we used double quotes \"\" around the text.\\\n",
    "This is known as a string in programming. Most languages use double quotes to define a string.\n",
    "\n",
    "Some languages like Python (and JavaScript) also allow you to use single quotes '' to define a string.\n",
    "\n",
    "A string is just a sequence of characters between the opening and closing quotes.\n",
    "\n",
    "But what if we wanted to print a string that also contains quote characters?\\\n",
    "For example, how would the Python interpreter know where the following string ends?\n",
    "\n",
    "`print(\"They said, \"Hello, world!\"\")`\n",
    "\n",
    "This code will cause an error. Python thinks we have a string\\\n",
    "\"They said, \", followed by Hello, world!, which is outside of\\\n",
    "the quotes (not apart of the string).\n",
    "\n",
    "One possible solution to this is to use a backslash \\, aka the escape character,\\\n",
    "before each quote character inside the string.\n",
    "\n",
    "`print(\"They said, \\\"Hello, world!\\\"\")`\n",
    "\n",
    "This tells Python we want to interpret the quote \" as\\\n",
    "a character inside the string, not as a quote that ends the string.\n",
    "\n"
   ]
  },
  {
   "cell_type": "code",
   "execution_count": 2,
   "id": "d1189a16-d86c-4a37-9a3a-bc4ebd44d84e",
   "metadata": {
    "tags": []
   },
   "outputs": [
    {
     "ename": "SyntaxError",
     "evalue": "unterminated string literal (detected at line 1) (3294923731.py, line 1)",
     "output_type": "error",
     "traceback": [
      "\u001b[0;36m  Cell \u001b[0;32mIn[2], line 1\u001b[0;36m\u001b[0m\n\u001b[0;31m    print(\"They said, \"hello world!\")\u001b[0m\n\u001b[0m                                   ^\u001b[0m\n\u001b[0;31mSyntaxError\u001b[0m\u001b[0;31m:\u001b[0m unterminated string literal (detected at line 1)\n"
     ]
    }
   ],
   "source": [
    "print(\"They said, \"hello world!\")"
   ]
  },
  {
   "cell_type": "code",
   "execution_count": 5,
   "id": "fb02a491-9090-4b58-a1ea-d3c4f3fabd31",
   "metadata": {
    "tags": []
   },
   "outputs": [
    {
     "name": "stdout",
     "output_type": "stream",
     "text": [
      "They said, \"hello world!\"\n"
     ]
    }
   ],
   "source": [
    "print(\"They said, \\\"hello world!\\\"\")"
   ]
  },
  {
   "cell_type": "markdown",
   "id": "d24c3f22-3beb-4d9b-930f-b2321c789080",
   "metadata": {},
   "source": [
    "Code Errors\n",
    "\n",
    "Attempt to run the following code before correcting it:\n",
    "\n",
    "`print(\"My favorite quote is \"To be or not to be.\"\")`\n",
    "\n",
    "You may see something like this in the console:\n",
    "\n",
    "`ERROR!\n",
    "Traceback (most recent call last):\n",
    "\n",
    "  File \"<main.py>\", line 1\n",
    "  \n",
    "    print(\"My favorite quote is \"To be or not to be.\"\")\n",
    "    \n",
    "          ^^^^^^^^^^^^^^^^^^^^^^^^^\n",
    "          \n",
    "SyntaxError: invalid syntax. Perhaps you forgot a comma?`\n",
    "\n",
    "This is the result of an error in our code. Specifically, it's a syntax error.\\\n",
    "Syntax errors occur when the code is not written correctly according to the rules\\\n",
    "of the programming language. It's not so different from a spelling or grammar\\\n",
    "error in a human language, except that computers are much less forgiving.\n",
    "\n",
    "Sometimes you may get helpful error messages which help you identify the problem.\\\n",
    "Other times, the error message may not be as clear.\n",
    "\n",
    "There are many types of programming errors such as syntax errors, runtime errors,\\\n",
    "and logical errors. Syntax errors are easier to fix, because they usually point out\\\n",
    "which line the error is on."
   ]
  },
  {
   "cell_type": "markdown",
   "id": "8d727f89-0317-4dc4-91fc-a5ceeffaa96e",
   "metadata": {},
   "source": [
    "What is runtime error?\n",
    "\n",
    "A runtime error is an error that occurs while the program is running.\\\n",
    "That means the syntax of the program itself is fine. It is usually\\\n",
    "caused by something that the programmer did not anticipate.\\\n",
    "Runtime errors can be difficult to debug because they may not always\\\n",
    "occur consistently. For example, if we programmed a calculator and\\\n",
    "the user tries to divide by zero, we will get a runtime error."
   ]
  },
  {
   "cell_type": "markdown",
   "id": "6d5665c3-3971-4dc5-b994-a47567cf5b20",
   "metadata": {},
   "source": [
    "What is logical error?\n",
    "\n",
    "A logical error is an error that occurs when the program\\\n",
    "runs without crashing or producing an error, but the output\\\n",
    "is not what the programmer intended. This is commonly known\\\n",
    "as a bug. Logical errors can be difficult to find because\\\n",
    "as programmers we have to identify which lines of code are\\\n",
    "causing the incorrect output. There are various techniques to\\\n",
    "debug logical errors, but in large programs, it can still be very challenging."
   ]
  },
  {
   "cell_type": "markdown",
   "id": "7bb15774-2944-43c6-a47a-a761a877c93c",
   "metadata": {},
   "source": [
    "Comments\n",
    "\n",
    "In programming we can annotate our code without affecting the output.\\\n",
    "This is done using comments.\n",
    "\n",
    "Comments are ignored by the interpreter. They are used to explain\\\n",
    "what the code is doing or add any sort of message, usually for humans.\\\n",
    "They are useful for other programmers who may read your code, or for\\\n",
    "yourself in the future if you forget what a certain piece of code does.\n",
    "\n",
    "In Python, comments are created using the # character. Any text after\\\n",
    "the # character on a line is considered a comment.\n",
    "\n",
    "#This is a comment\n",
    "If we want to ignore a piece of code, we can also comment it\\\n",
    "out temporarily. This is useful for debugging or testing.\n",
    "\n",
    "#print(\"This line of code is commented out\")\n",
    "\n",
    "A short cut to comment out lines of code in most code editors is to select\\\n",
    "the lines you want to comment out and press Ctrl + / (Windows / Linux) or\\\n",
    "Cmd + / (Mac). This will automatically add the # character to the beginning of each line.\n",
    "\n"
   ]
  },
  {
   "cell_type": "code",
   "execution_count": null,
   "id": "5f54c248-bda0-4a82-8159-dbf401c455b5",
   "metadata": {},
   "outputs": [],
   "source": []
  }
 ],
 "metadata": {
  "kernelspec": {
   "display_name": "Python 3 (ipykernel)",
   "language": "python",
   "name": "python3"
  },
  "language_info": {
   "codemirror_mode": {
    "name": "ipython",
    "version": 3
   },
   "file_extension": ".py",
   "mimetype": "text/x-python",
   "name": "python",
   "nbconvert_exporter": "python",
   "pygments_lexer": "ipython3",
   "version": "3.11.4"
  }
 },
 "nbformat": 4,
 "nbformat_minor": 5
}
