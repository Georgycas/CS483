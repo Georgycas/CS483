{
 "cells": [
  {
   "cell_type": "markdown",
   "id": "f221c0d6-7927-43ff-9f83-1a68264ca7e4",
   "metadata": {},
   "source": [
    "Arithmetic Operators\n",
    "\n",
    "Arithmetic operators are used to perform mathematical operations\\\n",
    "like addition, subtraction, multiplication, division, and more.\n",
    "\n",
    "- Addition +: Adds two operands together.\n",
    "- Subtraction -: Subtracts the second operand from the first.\n",
    "- Multiplication *: Multiplies two operands.\n",
    "- Division /: Divides the first operand by the second. The result is always a float."
   ]
  },
  {
   "cell_type": "code",
   "execution_count": 1,
   "id": "8bad9d31-f152-4948-ae5f-d9e082e8a2cf",
   "metadata": {
    "tags": []
   },
   "outputs": [
    {
     "name": "stdout",
     "output_type": "stream",
     "text": [
      "9\n",
      "-3\n",
      "18\n",
      "0.5\n"
     ]
    }
   ],
   "source": [
    "x, y = 3, 6\n",
    "\n",
    "print(x + y) # Output: 9\n",
    "\n",
    "print(x - y) # Output: -3\n",
    "\n",
    "print(x * y) # Output: 18\n",
    "\n",
    "print(x / y) # Output: 0.5\n"
   ]
  },
  {
   "cell_type": "code",
   "execution_count": 5,
   "id": "f747c1b9-6963-4900-bedf-85103fb75f83",
   "metadata": {
    "tags": []
   },
   "outputs": [
    {
     "name": "stdout",
     "output_type": "stream",
     "text": [
      "2.0\n"
     ]
    }
   ],
   "source": [
    "print(10/5)"
   ]
  },
  {
   "cell_type": "markdown",
   "id": "cc3ca118-0b49-47bf-97b8-3f20ecde0865",
   "metadata": {},
   "source": [
    "If we divide `y` by `x`, the result will be `2.0` and not `2`.\\\n",
    "This is because the result of division is always a float in Python.\n",
    "\n",
    "For the other arithmetic operators, the result will be\\\n",
    "an integer if both operands are integers. If one of the\\\n",
    "operands is a `float`, the result will be a `float`."
   ]
  },
  {
   "cell_type": "markdown",
   "id": "266ee759-ad78-4535-8bb2-ede8c36738f3",
   "metadata": {},
   "source": [
    "The order of operations in Python is the same as in mathematics.\\\n",
    "The acronym `PEMDAS` can help you remember the order:\n",
    "\n",
    "- Parentheses\n",
    "- Exponents\n",
    "- Multiplication and Division (from left to right)\n",
    "- Addition and Subtraction (from left to right)\n",
    "\n",
    "For example, in the expression 2 + 3 * 4, the multiplication is done first, then the addition. The result is 14.\n",
    "\n",
    "To specify the order of operations, you can use parentheses. For example, (2 + 3) * 4 will result in 20."
   ]
  },
  {
   "cell_type": "code",
   "execution_count": 7,
   "id": "79c14242-b4eb-4019-9e53-a788bb61c141",
   "metadata": {
    "tags": []
   },
   "outputs": [
    {
     "data": {
      "text/plain": [
       "20"
      ]
     },
     "execution_count": 7,
     "metadata": {},
     "output_type": "execute_result"
    }
   ],
   "source": [
    "(2+3)*4"
   ]
  },
  {
   "cell_type": "markdown",
   "id": "79e0daca-57e0-4912-9f91-ef05fe7ed2cc",
   "metadata": {},
   "source": [
    "More Operators\n",
    "\n",
    "There are a few more operators in Python that are commonly used in arithmetic operations:\n",
    "\n",
    "- Floor Division `//`: Divides the first operand by the second and rounds down the result to an integer.\n",
    "- Modulus `%`: Returns the remainder of the division of the first operand by the second.\n",
    "- Exponentiation `**`: Raises the first operand to the power of the second operand.\n",
    "\n",
    "Here is an example of each:"
   ]
  },
  {
   "cell_type": "code",
   "execution_count": 2,
   "id": "9a8240ef-5eb4-498a-81e4-56108435902e",
   "metadata": {
    "tags": []
   },
   "outputs": [
    {
     "name": "stdout",
     "output_type": "stream",
     "text": [
      "3\n",
      "1\n",
      "49\n"
     ]
    }
   ],
   "source": [
    "x, y = 7, 2\n",
    "\n",
    "print(x // y) # Output: 3  (7 divided by 2 is 3.5, after rounding down we get 3)\n",
    "\n",
    "print(x % y)  # Output: 1  (7 divided by 2 is 3, with a remainder of 1)\n",
    "\n",
    "print(x ** y) # Output: 49 (7 raised to the power of 2 is 49, 7*7 = 49)\n"
   ]
  },
  {
   "cell_type": "code",
   "execution_count": 9,
   "id": "907d8464-8d02-4aa9-9898-03611ec4af79",
   "metadata": {
    "tags": []
   },
   "outputs": [
    {
     "data": {
      "text/plain": [
       "5"
      ]
     },
     "execution_count": 9,
     "metadata": {},
     "output_type": "execute_result"
    }
   ],
   "source": [
    "56//10"
   ]
  },
  {
   "cell_type": "code",
   "execution_count": 10,
   "id": "ad16da69-eda4-48ef-8c0f-5059b3e0d4ba",
   "metadata": {
    "tags": []
   },
   "outputs": [
    {
     "data": {
      "text/plain": [
       "7"
      ]
     },
     "execution_count": 10,
     "metadata": {},
     "output_type": "execute_result"
    }
   ],
   "source": [
    "67%10"
   ]
  },
  {
   "cell_type": "code",
   "execution_count": 13,
   "id": "7989a284-b1b9-4be3-ad2d-114a3d60bf6d",
   "metadata": {
    "tags": []
   },
   "outputs": [
    {
     "data": {
      "text/plain": [
       "8"
      ]
     },
     "execution_count": 13,
     "metadata": {},
     "output_type": "execute_result"
    }
   ],
   "source": [
    "2**3"
   ]
  },
  {
   "cell_type": "code",
   "execution_count": 14,
   "id": "7c0ede6c-4187-4dae-8d75-2bbd9e70da2d",
   "metadata": {
    "tags": []
   },
   "outputs": [
    {
     "data": {
      "text/plain": [
       "8.0"
      ]
     },
     "execution_count": 14,
     "metadata": {},
     "output_type": "execute_result"
    }
   ],
   "source": [
    "import math\n",
    "math.pow(2,3)"
   ]
  },
  {
   "cell_type": "code",
   "execution_count": 15,
   "id": "cdde35b7-cf61-43b0-94cc-6ea4d3d8c14c",
   "metadata": {
    "tags": []
   },
   "outputs": [
    {
     "name": "stdout",
     "output_type": "stream",
     "text": [
      "4\n"
     ]
    }
   ],
   "source": [
    "print(564%10)"
   ]
  },
  {
   "cell_type": "code",
   "execution_count": 16,
   "id": "95becc83-6b4f-4f4f-8db2-401f7c94c01f",
   "metadata": {
    "tags": []
   },
   "outputs": [
    {
     "name": "stdout",
     "output_type": "stream",
     "text": [
      "6\n"
     ]
    }
   ],
   "source": [
    "print((564//10)%10)"
   ]
  },
  {
   "cell_type": "code",
   "execution_count": 19,
   "id": "4764df32-bdf5-41b2-9820-bdf7e7a3aa49",
   "metadata": {
    "tags": []
   },
   "outputs": [
    {
     "name": "stdout",
     "output_type": "stream",
     "text": [
      "5\n"
     ]
    }
   ],
   "source": [
    "print(((564//10)//10)%10)"
   ]
  },
  {
   "cell_type": "markdown",
   "id": "046b7942-52dd-499f-ab31-2c075623dcaf",
   "metadata": {},
   "source": [
    "Shorthand Operators\n",
    "\n",
    "It's very common to increment or decrement a variable by a certain value. Consider the following code:"
   ]
  },
  {
   "cell_type": "code",
   "execution_count": 3,
   "id": "8802a5a6-98b0-4d8d-b779-865ab324f926",
   "metadata": {
    "tags": []
   },
   "outputs": [
    {
     "name": "stdout",
     "output_type": "stream",
     "text": [
      "3\n"
     ]
    }
   ],
   "source": [
    "count = 0\n",
    "count = count + 1\n",
    "count = count + 2\n",
    "print(count)  # Output: 3\n"
   ]
  },
  {
   "cell_type": "markdown",
   "id": "6cce70f5-4f6c-4737-8a0d-4bec81bdc0f5",
   "metadata": {},
   "source": [
    "It will run how we would expect. First it will add 1 to the count,\\\n",
    "and next add 2 to the count.\n",
    "\n",
    "However, Python has shorthand operators that allow you to perform\\\n",
    "the same operation in a more concise way. These are called in-place\\\n",
    "operators. Here is the same code using the shorthand:"
   ]
  },
  {
   "cell_type": "code",
   "execution_count": 4,
   "id": "1ecc7e7b-b455-499e-9709-10796073b36a",
   "metadata": {
    "tags": []
   },
   "outputs": [
    {
     "name": "stdout",
     "output_type": "stream",
     "text": [
      "3\n"
     ]
    }
   ],
   "source": [
    "count = 0\n",
    "count += 1\n",
    "count += 2\n",
    "print(count)  # Output: 3\n"
   ]
  },
  {
   "cell_type": "code",
   "execution_count": 20,
   "id": "e5c5968b-bbe6-4915-997b-76ebca2d7fa8",
   "metadata": {
    "tags": []
   },
   "outputs": [],
   "source": [
    "count = 0"
   ]
  },
  {
   "cell_type": "code",
   "execution_count": 21,
   "id": "c23eea75-1863-4ea7-95f7-392ea2936810",
   "metadata": {
    "tags": []
   },
   "outputs": [],
   "source": [
    "count = count + 1"
   ]
  },
  {
   "cell_type": "code",
   "execution_count": 22,
   "id": "e8f87667-782a-4788-a48f-406d0ed75fb2",
   "metadata": {
    "tags": []
   },
   "outputs": [
    {
     "data": {
      "text/plain": [
       "1"
      ]
     },
     "execution_count": 22,
     "metadata": {},
     "output_type": "execute_result"
    }
   ],
   "source": [
    "count"
   ]
  },
  {
   "cell_type": "code",
   "execution_count": 24,
   "id": "0f1a2238-bed1-420b-b133-94c854796700",
   "metadata": {
    "tags": []
   },
   "outputs": [],
   "source": [
    "count +=1"
   ]
  },
  {
   "cell_type": "code",
   "execution_count": 25,
   "id": "a290bcaf-7515-4590-b78d-e2594e053698",
   "metadata": {
    "tags": []
   },
   "outputs": [
    {
     "data": {
      "text/plain": [
       "2"
      ]
     },
     "execution_count": 25,
     "metadata": {},
     "output_type": "execute_result"
    }
   ],
   "source": [
    "count"
   ]
  },
  {
   "cell_type": "markdown",
   "id": "6ea07ac8-04d0-4f84-b2cb-553561aa3f36",
   "metadata": {},
   "source": [
    "The `+=` operator is shorthand for `count = count + `. The other arithmetic operators have similar shorthand operators:\n",
    "\n",
    "- `-=` is shorthand for `count = count -`\n",
    "- `*=` is shorthand for `count = count *`\n",
    "- `/=` is shorthand for `count = count /`\n",
    "- `%=` is shorthand for `count = count %`\n",
    "- `//=` is shorthand for `count = count //`\n",
    "- `**=` is shorthand for `count = count **`"
   ]
  },
  {
   "cell_type": "markdown",
   "id": "790c375a-5c41-4425-a93d-b09406fe90a2",
   "metadata": {},
   "source": [
    "Boolean OR\n",
    "\n",
    "Boolean algebra is a branch of mathematics that\\\n",
    "deals with logical values and operations. We will\\\n",
    "be focusing on the parts of Boolean Algebra that are\\\n",
    "most important in programming.\n",
    "\n",
    "In Python there is a keyword called or that is used to\\\n",
    "perform a logical `OR` operation.\n",
    "\n",
    "Consider the following code:"
   ]
  },
  {
   "cell_type": "code",
   "execution_count": 26,
   "id": "66fdc1db-66ba-4cc8-9673-0724aa90833a",
   "metadata": {
    "tags": []
   },
   "outputs": [
    {
     "name": "stdout",
     "output_type": "stream",
     "text": [
      "True\n"
     ]
    }
   ],
   "source": [
    "a = True\n",
    "b = False\n",
    "print(a or b)  # Output: True\n"
   ]
  },
  {
   "cell_type": "code",
   "execution_count": 28,
   "id": "5c8a28a0-a299-4993-9949-718d89b76461",
   "metadata": {
    "tags": []
   },
   "outputs": [
    {
     "data": {
      "text/plain": [
       "(True, False)"
      ]
     },
     "execution_count": 28,
     "metadata": {},
     "output_type": "execute_result"
    }
   ],
   "source": [
    "a, b"
   ]
  },
  {
   "cell_type": "code",
   "execution_count": 29,
   "id": "1ae7cad5-1971-4846-a034-b89f12aaa542",
   "metadata": {
    "tags": []
   },
   "outputs": [
    {
     "data": {
      "text/plain": [
       "True"
      ]
     },
     "execution_count": 29,
     "metadata": {},
     "output_type": "execute_result"
    }
   ],
   "source": [
    "a|b"
   ]
  },
  {
   "cell_type": "markdown",
   "id": "1b669d5c-30b4-4f5e-a4de-5f91fb5fdfb6",
   "metadata": {},
   "source": [
    "The output is `True` because at least one of the operands is `True`.\\\n",
    "It's not that different from human language. Suppose we have two people,\\\n",
    "Alice and Bob. If Alice `\"Likes ice cream\"` and Bob `\"Does not like ice cream\"`,\\\n",
    "then the statement `\"Alice or Bob likes ice cream\"` is `true` because at\\\n",
    "least one of them likes ice cream. If `both` like ice cream, the statement\\\n",
    "is still `true` (maybe in english it would be better to say `\"Alice and/or Bob like ice cream\"`).\n",
    "\n",
    "The `OR` operation returns `True` if at least one of the operands is `True`.\\\n",
    "This holds even if we have more than two operands:"
   ]
  },
  {
   "cell_type": "code",
   "execution_count": 6,
   "id": "cab9f219-7abf-45dc-ab85-85936cfd96c6",
   "metadata": {
    "tags": []
   },
   "outputs": [
    {
     "name": "stdout",
     "output_type": "stream",
     "text": [
      "True\n"
     ]
    }
   ],
   "source": [
    "a, b, c = False, False, True\n",
    "print(a or b or c)  # Output: True"
   ]
  },
  {
   "cell_type": "markdown",
   "id": "3a3b5701-7f32-4ea0-b830-ed3b4bfceb72",
   "metadata": {},
   "source": [
    "Boolean AND\n",
    "\n",
    "In Python there is also a keyword called and that is used to\\\n",
    "perform a logical `AND` operation.\n",
    "\n",
    "Consider the following code:"
   ]
  },
  {
   "cell_type": "code",
   "execution_count": 30,
   "id": "7b6bdfb6-8aa7-4097-bf1a-1af8e4ed0f93",
   "metadata": {
    "tags": []
   },
   "outputs": [
    {
     "name": "stdout",
     "output_type": "stream",
     "text": [
      "False\n"
     ]
    }
   ],
   "source": [
    "a = True\n",
    "b = False\n",
    "print(a and b)  # Output: False\n"
   ]
  },
  {
   "cell_type": "code",
   "execution_count": 31,
   "id": "4e352ce3-2a02-4b95-b4bf-243f5533cf05",
   "metadata": {
    "tags": []
   },
   "outputs": [
    {
     "data": {
      "text/plain": [
       "False"
      ]
     },
     "execution_count": 31,
     "metadata": {},
     "output_type": "execute_result"
    }
   ],
   "source": [
    "a&b"
   ]
  },
  {
   "cell_type": "markdown",
   "id": "26e26408-2c4d-4bd5-b5b7-75733bbc04dc",
   "metadata": {},
   "source": [
    "The output is `False` because both operands are not `True`.\\\n",
    "Suppose we have two people, Alice and Bob. If Alice `\"Likes ice cream\"`\\\n",
    "and Bob `\"Does not like ice cream\"`, then the statement `\"Alice and Bob like ice cream\"`\\\n",
    "is `false` because `both` of them do not like ice cream."
   ]
  },
  {
   "cell_type": "markdown",
   "id": "955fc88c-19fc-4bc4-b5f1-c1fe8e62d8dc",
   "metadata": {},
   "source": [
    "The `AND` operation returns `True` if both of the operands is `True`.\\\n",
    "This also holds if we have more than two operands:"
   ]
  },
  {
   "cell_type": "code",
   "execution_count": 8,
   "id": "80450611-89b6-43b7-a441-7678c588e1dc",
   "metadata": {
    "tags": []
   },
   "outputs": [
    {
     "name": "stdout",
     "output_type": "stream",
     "text": [
      "True\n"
     ]
    }
   ],
   "source": [
    "a, b, c = True, True, True\n",
    "print(a and b and c)  # Output: True\n"
   ]
  },
  {
   "cell_type": "markdown",
   "id": "f5346765-5c4d-4f7c-8ed9-8af2878ed378",
   "metadata": {},
   "source": [
    "Boolean Negation\n",
    "\n",
    "There is yet another keyword in Python, called `not`,\\\n",
    "that is used to perform a logical `NOT` operation, also known as `negation`.\n",
    "\n",
    "It's the simplest of the three logical operators. It simply\\\n",
    "inverts the value of the operand. If the operand is `True`, \\\n",
    "the result is `False`. If the operand is `False`, the result is `True`."
   ]
  },
  {
   "cell_type": "code",
   "execution_count": 9,
   "id": "09c5f374-0ac7-486d-936a-6f35ad0ef0fe",
   "metadata": {
    "tags": []
   },
   "outputs": [
    {
     "name": "stdout",
     "output_type": "stream",
     "text": [
      "False\n",
      "True\n"
     ]
    }
   ],
   "source": [
    "a = True\n",
    "b = False\n",
    "print(not a)  # Output: False\n",
    "print(not b)  # Output: True\n"
   ]
  },
  {
   "cell_type": "markdown",
   "id": "128a6570-80db-4a2a-9b04-c8967a1a58f0",
   "metadata": {},
   "source": [
    "We can also use the operators in combination.\\\n",
    "For example, we can negate the result of an `AND` operation:"
   ]
  },
  {
   "cell_type": "code",
   "execution_count": 10,
   "id": "a39604b4-e677-4578-b493-74f0bfe11ea5",
   "metadata": {
    "tags": []
   },
   "outputs": [
    {
     "name": "stdout",
     "output_type": "stream",
     "text": [
      "True\n"
     ]
    }
   ],
   "source": [
    "a, b = True, False\n",
    "print(not (a and b))  # Output: True"
   ]
  },
  {
   "cell_type": "markdown",
   "id": "0c0211d2-c238-4841-8997-18eb78d448b3",
   "metadata": {},
   "source": [
    "All logical operators have a specific order of operations.\\\n",
    "The order of operations for logical operators is `NOT`, `AND`, `OR`.\\\n",
    "This means that `NOT` is always performed first, then `AND`, and finally `OR`."
   ]
  },
  {
   "cell_type": "code",
   "execution_count": 32,
   "id": "0dacdaa7-32a3-4bdf-a1d4-8709f86ab55c",
   "metadata": {},
   "outputs": [],
   "source": [
    "a = True"
   ]
  },
  {
   "cell_type": "code",
   "execution_count": 33,
   "id": "3d9b7189-07bd-4bc2-9d02-6f9a72f97d6d",
   "metadata": {
    "tags": []
   },
   "outputs": [
    {
     "data": {
      "text/plain": [
       "False"
      ]
     },
     "execution_count": 33,
     "metadata": {},
     "output_type": "execute_result"
    }
   ],
   "source": [
    "not a"
   ]
  },
  {
   "cell_type": "code",
   "execution_count": null,
   "id": "3cdb8fc9-9fc0-44a7-b651-96a3865cef5b",
   "metadata": {},
   "outputs": [],
   "source": []
  }
 ],
 "metadata": {
  "kernelspec": {
   "display_name": "Python 3 (ipykernel)",
   "language": "python",
   "name": "python3"
  },
  "language_info": {
   "codemirror_mode": {
    "name": "ipython",
    "version": 3
   },
   "file_extension": ".py",
   "mimetype": "text/x-python",
   "name": "python",
   "nbconvert_exporter": "python",
   "pygments_lexer": "ipython3",
   "version": "3.11.4"
  }
 },
 "nbformat": 4,
 "nbformat_minor": 5
}
