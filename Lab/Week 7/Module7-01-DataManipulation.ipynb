{
 "cells": [
  {
   "cell_type": "markdown",
   "metadata": {},
   "source": [
    "**Q1 Empty Neighborhoods**\n",
    "We’re given two tables, a users table with demographic information and the neighborhood they live in and a neighborhoods table.\n",
    "\n",
    "Write a query that returns all neighborhoods that have 0 users. "
   ]
  },
  {
   "cell_type": "code",
   "execution_count": 1,
   "metadata": {
    "tags": []
   },
   "outputs": [],
   "source": [
    "import pandas as pd\n",
    "\n",
    "users = pd.read_csv('data/users.csv')\n",
    "neighborhoods = pd.read_csv('data/neighborhoods.csv')"
   ]
  },
  {
   "cell_type": "code",
   "execution_count": null,
   "metadata": {},
   "outputs": [],
   "source": []
  },
  {
   "cell_type": "markdown",
   "metadata": {},
   "source": [
    "**Q2** Given a table of bank transactions with columns id, transaction_value, and created_at representing the date and time for each transaction, write a query to get the last transaction for each day.\n",
    "\n",
    "The output should include the id of the transaction, datetime of the transaction, and the transaction amount. Order the transactions by datetime.\n",
    "\n",
    "Example:\n",
    "\n",
    "Input:\n",
    "\n",
    "bank_transactions table\n",
    "\n",
    "| Column      | Type |\n",
    "| ----------- | ----------- |\n",
    "| id      | INTEGER       |\n",
    "| created_at   | DATETIME      |\n",
    "|transaction_value|FLOAT|\n",
    "\n",
    "\n",
    "Output:\n",
    "\n",
    "| Column      | Type |\n",
    "| ----------- | ----------- |\n",
    "| created_at   | DATETIME      |\n",
    "|transaction_value|FLOAT|\n",
    "| id      | INTEGER       |\n",
    "\n"
   ]
  },
  {
   "cell_type": "code",
   "execution_count": 9,
   "metadata": {
    "tags": []
   },
   "outputs": [],
   "source": [
    "import pandas as pd\n",
    "\n",
    "bank_transactions = pd.read_csv('data/bank_transactions.csv')"
   ]
  },
  {
   "cell_type": "code",
   "execution_count": null,
   "metadata": {},
   "outputs": [],
   "source": []
  },
  {
   "cell_type": "markdown",
   "metadata": {},
   "source": [
    "**Q3** Given three tables, representing customer transactions and customer attributes:\n",
    "\n",
    "Write a query to get the average order value by gender.\n",
    "\n",
    "Note: We’re looking at the average order value by users that have ever placed an order. Additionally, please round your answer to two decimal places.\n",
    "\n",
    "Example:\n",
    "\n",
    "Input:\n",
    "\n",
    "transactions table\n",
    "\n",
    "| Column      | Type |\n",
    "| ----------- | ----------- |\n",
    "| id      | INTEGER       |\n",
    "|user_id|INTEGER|\n",
    "| created_at   | DATETIME   |\n",
    "|product_id|INTEGER|\n",
    "|quantity|INTEGER|\n",
    "\n",
    "\n",
    "users2 table\n",
    "\n",
    "| Column      | Type |\n",
    "| ----------- | ----------- |\n",
    "| id      | INTEGER       |\n",
    "|name|VARCHAR|\n",
    "|sex|VARCHAR|\n",
    "\n",
    "products table\n",
    "\n",
    "| Column      | Type |\n",
    "| ----------- | ----------- |\n",
    "| id      | INTEGER       |\n",
    "|name|VARCHAR|\n",
    "|price|FLOAT|\n",
    "\n",
    "Output:\n",
    "\n",
    "| Column      | Type |\n",
    "| ----------- | ----------- |\n",
    "|sex|VARCHAR|\n",
    "|aov|FLOAT|\n"
   ]
  },
  {
   "cell_type": "code",
   "execution_count": 27,
   "metadata": {
    "tags": []
   },
   "outputs": [],
   "source": [
    "import pandas as pd\n",
    "\n",
    "transactions = pd.read_csv('data/transactions.csv')\n",
    "users2 = pd.read_csv('data/users2.csv')\n",
    "products = pd.read_csv('data/products.csv')\n",
    "\n"
   ]
  },
  {
   "cell_type": "code",
   "execution_count": null,
   "metadata": {},
   "outputs": [],
   "source": []
  },
  {
   "cell_type": "markdown",
   "metadata": {},
   "source": [
    "**Q4** Assign the median price to missing price values"
   ]
  },
  {
   "cell_type": "code",
   "execution_count": 43,
   "metadata": {
    "tags": []
   },
   "outputs": [
    {
     "data": {
      "text/html": [
       "<div>\n",
       "<style scoped>\n",
       "    .dataframe tbody tr th:only-of-type {\n",
       "        vertical-align: middle;\n",
       "    }\n",
       "\n",
       "    .dataframe tbody tr th {\n",
       "        vertical-align: top;\n",
       "    }\n",
       "\n",
       "    .dataframe thead th {\n",
       "        text-align: right;\n",
       "    }\n",
       "</style>\n",
       "<table border=\"1\" class=\"dataframe\">\n",
       "  <thead>\n",
       "    <tr style=\"text-align: right;\">\n",
       "      <th></th>\n",
       "      <th>Name</th>\n",
       "      <th>Price</th>\n",
       "    </tr>\n",
       "  </thead>\n",
       "  <tbody>\n",
       "    <tr>\n",
       "      <th>0</th>\n",
       "      <td>Bohemian Goat</td>\n",
       "      <td>15.0</td>\n",
       "    </tr>\n",
       "    <tr>\n",
       "      <th>1</th>\n",
       "      <td>Central Coast Bleu</td>\n",
       "      <td>NaN</td>\n",
       "    </tr>\n",
       "    <tr>\n",
       "      <th>2</th>\n",
       "      <td>Cowgirl Mozzarella</td>\n",
       "      <td>30.0</td>\n",
       "    </tr>\n",
       "    <tr>\n",
       "      <th>3</th>\n",
       "      <td>Cypress Grove Cheddar</td>\n",
       "      <td>NaN</td>\n",
       "    </tr>\n",
       "    <tr>\n",
       "      <th>4</th>\n",
       "      <td>Oakdale Colby</td>\n",
       "      <td>45.0</td>\n",
       "    </tr>\n",
       "  </tbody>\n",
       "</table>\n",
       "</div>"
      ],
      "text/plain": [
       "                    Name  Price\n",
       "0          Bohemian Goat   15.0\n",
       "1     Central Coast Bleu    NaN\n",
       "2     Cowgirl Mozzarella   30.0\n",
       "3  Cypress Grove Cheddar    NaN\n",
       "4          Oakdale Colby   45.0"
      ]
     },
     "execution_count": 43,
     "metadata": {},
     "output_type": "execute_result"
    }
   ],
   "source": [
    "import pandas as pd\n",
    "import numpy as np\n",
    "\n",
    "cheeses = {\"Name\": [\"Bohemian Goat\", \"Central Coast Bleu\",\\\n",
    "                    \"Cowgirl Mozzarella\", \"Cypress Grove Cheddar\",\\\n",
    "                    \"Oakdale Colby\"], \"Price\" : [15.00, None, 30.00, None, 45.00]}\n"
   ]
  },
  {
   "cell_type": "code",
   "execution_count": null,
   "metadata": {},
   "outputs": [],
   "source": []
  },
  {
   "cell_type": "markdown",
   "metadata": {},
   "source": [
    "**Q5: Acceptance Rate**: We’re given two tables. friend_requests holds all the friend requests made and friend_accepts is all of the acceptances.\n",
    "\n",
    "Write a query to find the overall acceptance rate of friend requests. Note: Round results to 4 decimal places."
   ]
  },
  {
   "cell_type": "markdown",
   "metadata": {},
   "source": [
    "Example:\n",
    "\n",
    "Input:\n",
    "\n",
    "friend_requests table\n",
    "\n",
    "| Column      | Type |\n",
    "| ----------- | ----------- |\n",
    "| requester_id|INTEGER|\n",
    "|requested_id|INTEGER|\n",
    "|created_at|DATETIME|\n",
    "\n",
    "\n",
    "friend_accepts table\n",
    "\n",
    "| Column      | Type |\n",
    "| ----------- | ----------- |\n",
    "| acceptor_id|INTEGER|\n",
    "|requester_id|INTEGER|\n",
    "|created_at|DATETIME|\n",
    "\n",
    "\n",
    "Output:\n",
    "\n",
    "| Column      | Type |\n",
    "| ----------- | ----------- |\n",
    "| acceptance_rate   | FLOAT     |\n",
    "\n",
    "\n"
   ]
  },
  {
   "cell_type": "code",
   "execution_count": 45,
   "metadata": {
    "tags": []
   },
   "outputs": [],
   "source": [
    "friend_accepts = {\"acceptor_id\":[75, 54, 43],  \"requester_id\": [2,1,5], \n",
    "                   \"created_at\":[\"2020-09-24 00:00:00\",\\\n",
    "                                 \"2020-09-25 00:00:00\",\"2020-09-27 00:00:00\"]}\n",
    "\n",
    "friend_requests={\"requester_id\":[1,2,3,4,5], \n",
    "                \"requested_id\":[54,75,35,24,43],\n",
    "                \"created_at\":[\"2020-09-23 00:00:00\",\\\n",
    "                              \"2020-09-24 00:00:00\",\"2020-09-24 00:00:00\",\n",
    "                              \"2020-09-25 00:00:00\",\"2020-09-26 00:00:00\"]}"
   ]
  },
  {
   "cell_type": "code",
   "execution_count": null,
   "metadata": {},
   "outputs": [],
   "source": []
  },
  {
   "cell_type": "markdown",
   "metadata": {},
   "source": [
    "**Q6: Employee Salaries**"
   ]
  },
  {
   "cell_type": "markdown",
   "metadata": {},
   "source": [
    "Let’s say we have a table representing a company payroll schema.\n",
    "\n",
    "Due to an ETL error, the employees table instead of updating the salaries every year when doing compensation adjustments, did an insert instead. The head of HR still needs the current salary of each employee.\n",
    "\n",
    "Bonus: Write a query to get the current salary for each employee.\n",
    "\n",
    "Note: Assume no duplicate combination of first and last names. (I.E. No two John Smiths)\n",
    "\n",
    "Example:\n",
    "\n",
    "Input:\n",
    "\n",
    "employees table\n",
    "\n",
    "|Column|Type|\n",
    "|------|-------|\n",
    "|id|VARCHAR|\n",
    "|first_name|VARCHAR|\n",
    "|last_name|VARCHAR|\n",
    "|salary|INTEGER|\n",
    "|department_id|INTEGER|\n",
    "\n",
    "Output:\n",
    "\n",
    "|Column|Types|\n",
    "|------|------|\n",
    "|first_name|VARCHAR|\n",
    "|last_name|VARCHAR|\n",
    "|salary|INTEGER|\n"
   ]
  },
  {
   "cell_type": "code",
   "execution_count": 30,
   "metadata": {},
   "outputs": [],
   "source": [
    "import pandas as pd\n",
    "employees=pd.read_csv(\"data/employees.csv\", index_col='d')"
   ]
  },
  {
   "cell_type": "code",
   "execution_count": null,
   "metadata": {},
   "outputs": [],
   "source": []
  },
  {
   "cell_type": "markdown",
   "metadata": {},
   "source": [
    "**Q7: Good Grades and Favorite Colors**\n",
    "You’re given a dataframe of students named students_df:\n",
    "\n",
    "students_df table\n",
    "\n",
    "|name|age|favorite_color|grade|\n",
    "|----|---|----------|-------|\n",
    "|Tim Voss|19|red91|\n",
    "|Nicole Johnson|20|yellow|95|\n",
    "|Elsa Williams|21|green|82|\n",
    "|John James|20|blue|75|\n",
    "|Catherine Jones|23|green|93|\n",
    "\n",
    "Write a function named grades_colors to select only the rows where the student’s favorite color is green or red and their grade is above 90."
   ]
  },
  {
   "cell_type": "code",
   "execution_count": 60,
   "metadata": {},
   "outputs": [
    {
     "data": {
      "text/html": [
       "<div>\n",
       "<style scoped>\n",
       "    .dataframe tbody tr th:only-of-type {\n",
       "        vertical-align: middle;\n",
       "    }\n",
       "\n",
       "    .dataframe tbody tr th {\n",
       "        vertical-align: top;\n",
       "    }\n",
       "\n",
       "    .dataframe thead th {\n",
       "        text-align: right;\n",
       "    }\n",
       "</style>\n",
       "<table border=\"1\" class=\"dataframe\">\n",
       "  <thead>\n",
       "    <tr style=\"text-align: right;\">\n",
       "      <th></th>\n",
       "      <th>name</th>\n",
       "      <th>age</th>\n",
       "      <th>favorite_color</th>\n",
       "      <th>grade</th>\n",
       "    </tr>\n",
       "  </thead>\n",
       "  <tbody>\n",
       "    <tr>\n",
       "      <th>0</th>\n",
       "      <td>Tim Voss</td>\n",
       "      <td>19</td>\n",
       "      <td>red</td>\n",
       "      <td>91</td>\n",
       "    </tr>\n",
       "    <tr>\n",
       "      <th>1</th>\n",
       "      <td>Nicole Johnson</td>\n",
       "      <td>20</td>\n",
       "      <td>yellow</td>\n",
       "      <td>95</td>\n",
       "    </tr>\n",
       "    <tr>\n",
       "      <th>2</th>\n",
       "      <td>Elsa Williams</td>\n",
       "      <td>21</td>\n",
       "      <td>green</td>\n",
       "      <td>82</td>\n",
       "    </tr>\n",
       "    <tr>\n",
       "      <th>3</th>\n",
       "      <td>John James</td>\n",
       "      <td>20</td>\n",
       "      <td>blue</td>\n",
       "      <td>75</td>\n",
       "    </tr>\n",
       "    <tr>\n",
       "      <th>4</th>\n",
       "      <td>Catherine Jones</td>\n",
       "      <td>23</td>\n",
       "      <td>green</td>\n",
       "      <td>93</td>\n",
       "    </tr>\n",
       "  </tbody>\n",
       "</table>\n",
       "</div>"
      ],
      "text/plain": [
       "              name  age favorite_color  grade\n",
       "0         Tim Voss   19            red     91\n",
       "1   Nicole Johnson   20         yellow     95\n",
       "2    Elsa Williams   21          green     82\n",
       "3       John James   20           blue     75\n",
       "4  Catherine Jones   23          green     93"
      ]
     },
     "execution_count": 60,
     "metadata": {},
     "output_type": "execute_result"
    }
   ],
   "source": [
    "students_df=pd.read_csv(\"data/students.csv\")\n",
    "students_df"
   ]
  },
  {
   "cell_type": "code",
   "execution_count": null,
   "metadata": {},
   "outputs": [],
   "source": []
  },
  {
   "cell_type": "markdown",
   "metadata": {},
   "source": [
    "**Q8: Rain on Rainy Days**\n",
    "You’re given a dataframe df_rain containing rainfall data. The dataframe has two columns: day of the week and rainfall in inches.\n",
    "\n",
    "Write a function median_rainfall to find the median amount of rainfall for the days on which it rained.\n",
    "\n",
    "Note: You may assume it rained on at least one of the days."
   ]
  },
  {
   "cell_type": "code",
   "execution_count": 69,
   "metadata": {},
   "outputs": [
    {
     "data": {
      "text/plain": [
       "4.0"
      ]
     },
     "execution_count": 69,
     "metadata": {},
     "output_type": "execute_result"
    }
   ],
   "source": [
    "import pandas as pd\n",
    "df_rain = pd.DataFrame({\"Day\":[\"Monday\", \"Tuesday\", \"Wednesday\",\\\n",
    "                               \"Thursday\", \"Friday\"],\"Inches\":[6,0,2,3,5]})\n"
   ]
  },
  {
   "cell_type": "code",
   "execution_count": null,
   "metadata": {},
   "outputs": [],
   "source": []
  },
  {
   "cell_type": "markdown",
   "metadata": {},
   "source": [
    "**Q9: First Name Only**\n",
    "You’re given a dataframe containing a list of user IDs and their full names (e.g. ‘James Emerson’).\n",
    "\n",
    "Transform this dataframe into a dataframe that contains the user ids and only the first name of each user."
   ]
  },
  {
   "cell_type": "code",
   "execution_count": 70,
   "metadata": {},
   "outputs": [],
   "source": [
    "import pandas as pd\n",
    "\n",
    "users_df=pd.DataFrame({\"user_id\": [1034, 9430, 7281, 5264, 8995],\n",
    "                       \"name\": [\"James Emerson\",\"Fiona Woodward\",\\\n",
    "                                \"Alvin Gross\",\"Deborah Handler\",\"Leah Xue\"]})\n"
   ]
  },
  {
   "cell_type": "code",
   "execution_count": null,
   "metadata": {},
   "outputs": [],
   "source": []
  },
  {
   "cell_type": "markdown",
   "metadata": {},
   "source": [
    "**Q10 Second Highest Salary**\n",
    "Write a  query to select the 2nd highest salary in the engineering department. If more than one person shares the highest salary, the query should select the next highest salary.\n",
    "\n",
    "Example:\n",
    "\n",
    "Input:\n",
    "\n",
    "employees table\n",
    "\n",
    "|Column|Type|\n",
    "|------|-----|\n",
    "|id|INTEGER|\n",
    "|first_name|VARCHAR|\n",
    "|last_name|VARCHAR|\n",
    "|salary|INTEGER|\n",
    "|department_id|INTEGER|\n",
    "\n",
    "departments table\n",
    "\n",
    "|Column|Type|\n",
    "|-----|-----|\n",
    "|id|INTEGER|\n",
    "|name|VARCHAR|\n",
    "\n",
    "Output:\n",
    "\n",
    "|Column|Type|\n",
    "|------|----|\n",
    "|salary|INTEGER|\n"
   ]
  },
  {
   "cell_type": "code",
   "execution_count": 77,
   "metadata": {},
   "outputs": [],
   "source": [
    "import pandas as pd\n",
    "departments = pd.DataFrame({\"id\":[1,2,3,4],\\\n",
    "                            \"name\":[\"engineering\", \"marketing\", \"sales\", \"hr\"]})\n",
    "employees = pd.read_csv(\"data/employees2.csv\")"
   ]
  },
  {
   "cell_type": "code",
   "execution_count": null,
   "metadata": {},
   "outputs": [],
   "source": []
  }
 ],
 "metadata": {
  "kernelspec": {
   "display_name": "Python 3 (ipykernel)",
   "language": "python",
   "name": "python3"
  },
  "language_info": {
   "codemirror_mode": {
    "name": "ipython",
    "version": 3
   },
   "file_extension": ".py",
   "mimetype": "text/x-python",
   "name": "python",
   "nbconvert_exporter": "python",
   "pygments_lexer": "ipython3",
   "version": "3.11.4"
  }
 },
 "nbformat": 4,
 "nbformat_minor": 4
}
