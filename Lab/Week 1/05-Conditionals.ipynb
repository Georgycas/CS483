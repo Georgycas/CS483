{
 "cells": [
  {
   "cell_type": "markdown",
   "id": "c47d326c-3b4f-49fb-b472-3136402f0f68",
   "metadata": {},
   "source": [
    "Comparison Operators\n",
    "\n",
    "Comparison operators are used to compare values. They evaluate\\\n",
    "to `True` or `False` depending on the values you compare. For example,\\\n",
    "if we want to check if two values are equal, we use the `==` operator."
   ]
  },
  {
   "cell_type": "code",
   "execution_count": 1,
   "id": "bd24f26d-05e7-492e-be51-82272eea55ff",
   "metadata": {
    "tags": []
   },
   "outputs": [
    {
     "name": "stdout",
     "output_type": "stream",
     "text": [
      "False\n"
     ]
    }
   ],
   "source": [
    "x, y = 3, 5\n",
    "print(x == y)  # Output: False"
   ]
  },
  {
   "cell_type": "markdown",
   "id": "3077f092-ec90-40bf-b114-067fc6b61377",
   "metadata": {},
   "source": [
    "We can't use a single `=` sign for comparison because it is reserved for assignment. The comparison operators are:\n",
    "\n",
    "- `==` Equal to\n",
    "- `!=` Not equal to\n",
    "- `<` Less than\n",
    "- `>` Greater than\n",
    "- `<=` Less than or equal to\n",
    "- `>=` Greater than or equal to"
   ]
  },
  {
   "cell_type": "markdown",
   "id": "e42ccf39-176a-4397-bc82-7f8dd1bd47ea",
   "metadata": {},
   "source": [
    "If Statements\n",
    "\n",
    "What if we wanted to run some code only in certain situations?\\\n",
    "We can use the keyword `if` to do this, aka an `if statement`. Here's an example:"
   ]
  },
  {
   "cell_type": "code",
   "execution_count": 2,
   "id": "8bacb927-d2ad-457c-b9f0-80dba92b3d8e",
   "metadata": {
    "tags": []
   },
   "outputs": [
    {
     "name": "stdout",
     "output_type": "stream",
     "text": [
      "Your account is overdrawn.\n",
      "This is always printed.\n"
     ]
    }
   ],
   "source": [
    "account_balance = -100\n",
    "\n",
    "if account_balance < 0:\n",
    "    print(\"Your account is overdrawn.\")\n",
    "\n",
    "print(\"This is always printed.\")\n"
   ]
  },
  {
   "cell_type": "markdown",
   "id": "db424440-2190-45cf-a8a4-ec6af824961a",
   "metadata": {},
   "source": [
    "In this example, the code block under the `if` statement will only\\\n",
    "run if the account balance is less than 0. Notice how the code block\\\n",
    "is indented, just like with a function. This is how Python knows which\\\n",
    "code to run when the condition is true. Code that is not indented,\\\n",
    "is not a part of the if statement, and will always run, regardless of the condition.\n",
    "\n",
    "If we had an if statement inside of a function, the code under\\\n",
    "the if statement would need to be indented twice, as shown below:"
   ]
  },
  {
   "cell_type": "code",
   "execution_count": 3,
   "id": "bab8a8c6-1a94-4407-9ff6-0b7da66073cc",
   "metadata": {
    "tags": []
   },
   "outputs": [],
   "source": [
    "def is_account_overdraw(balance: int):\n",
    "    if account_balance < 0:\n",
    "        print(\"Your account is overdrawn.\")\n"
   ]
  },
  {
   "cell_type": "markdown",
   "id": "0f3b7cbc-3fdd-4530-afec-38d59e5514dc",
   "metadata": {},
   "source": [
    "If Statement Scope\n",
    "\n",
    "Unlike functions, `if` statements do not create\\\n",
    "a new scope. This means that variables defined\\\n",
    "inside an `if` statement are accessible outside of\\\n",
    "the `if` statement. Here's an example:"
   ]
  },
  {
   "cell_type": "code",
   "execution_count": 4,
   "id": "3b511e00-5758-4abe-b6f4-e99d126ad785",
   "metadata": {
    "tags": []
   },
   "outputs": [
    {
     "name": "stdout",
     "output_type": "stream",
     "text": [
      "0\n"
     ]
    }
   ],
   "source": [
    "balance = -100\n",
    "\n",
    "if balance < 0:\n",
    "    balance = 0\n",
    "\n",
    "print(balance)  # This will print 0\n"
   ]
  },
  {
   "cell_type": "markdown",
   "id": "e78d7c1e-647e-4c92-9d79-b377c4488499",
   "metadata": {},
   "source": [
    "Within functions, `if` statements have the same scope as the function.\\\n",
    "This means that variables defined inside an `if` statement are accessible\\\n",
    "within that function, but not outside of it. Here's an example:"
   ]
  },
  {
   "cell_type": "code",
   "execution_count": 5,
   "id": "4840ad9b-df3c-4266-8183-89c994dcc2e1",
   "metadata": {
    "tags": []
   },
   "outputs": [
    {
     "name": "stdout",
     "output_type": "stream",
     "text": [
      "Warning: Low balance.\n"
     ]
    },
    {
     "ename": "NameError",
     "evalue": "name 'message' is not defined",
     "output_type": "error",
     "traceback": [
      "\u001b[0;31m---------------------------------------------------------------------------\u001b[0m",
      "\u001b[0;31mNameError\u001b[0m                                 Traceback (most recent call last)",
      "Cell \u001b[0;32mIn[5], line 7\u001b[0m\n\u001b[1;32m      4\u001b[0m     \u001b[38;5;28mprint\u001b[39m(message)\n\u001b[1;32m      6\u001b[0m is_balance_low(\u001b[38;5;241m50\u001b[39m)  \u001b[38;5;66;03m# This will print \"Warning: Low balance.\"\u001b[39;00m\n\u001b[0;32m----> 7\u001b[0m \u001b[38;5;28mprint\u001b[39m(message)\n",
      "\u001b[0;31mNameError\u001b[0m: name 'message' is not defined"
     ]
    }
   ],
   "source": [
    "def is_balance_low(balance):\n",
    "    if balance <= 100:\n",
    "        message = \"Warning: Low balance.\"\n",
    "    print(message)\n",
    "\n",
    "is_balance_low(50)  # This will print \"Warning: Low balance.\"\n",
    "print(message)  # This will cause an error\n"
   ]
  },
  {
   "cell_type": "markdown",
   "id": "cfb651ee-e586-447a-931f-947e491852c9",
   "metadata": {},
   "source": [
    "Else-If Statements\n",
    "\n",
    "We can create a chain of conditional statements using the\\\n",
    "`elif` keyword (standing for `else-if`). This allows us to\\\n",
    "check multiple conditions in order, until one of them is true. Here's an example:"
   ]
  },
  {
   "cell_type": "code",
   "execution_count": 6,
   "id": "ae18ffa5-8ff3-4447-9d3b-fb5667c4042f",
   "metadata": {
    "tags": []
   },
   "outputs": [
    {
     "name": "stdout",
     "output_type": "stream",
     "text": [
      "Your account balance is healthy.\n"
     ]
    }
   ],
   "source": [
    "balance = 1000\n",
    "\n",
    "if balance < 0:\n",
    "    print(\"Your account is overdrawn.\")\n",
    "elif balance == 0:\n",
    "    print(\"Your account balance is zero.\")\n",
    "elif balance < 100:\n",
    "    print(\"Your account balance is low.\")\n",
    "else:\n",
    "    print(\"Your account balance is healthy.\") # This will execute\n"
   ]
  },
  {
   "cell_type": "markdown",
   "id": "7e3838ad-df77-4814-8faf-3df82def4ffb",
   "metadata": {},
   "source": [
    "Python will check each condition from top to bottom until one of them executes.\\\n",
    "In this case none of the first three conditions is `True` so the `else` block will execute.\n",
    "\n",
    "- If the balance was -10, the if statement would execute, and the others would be skipped.\n",
    "- If the balance was 0, the first elif statement would execute, and the others would be skipped.\n",
    "- If the balance was 50, the second elif statement would execute, and the others would be skipped.\n",
    "- By the time we reach the else statement, we know the balance is not negative, zero, or less than 100, so it must be greater than or equal to 100."
   ]
  },
  {
   "cell_type": "markdown",
   "id": "8b5037b8-d021-48a8-a694-32375714927e",
   "metadata": {},
   "source": [
    "Logic Condition\n",
    "\n",
    "As we saw earlier, we can use the `or`, `and` and `not` operators\\\n",
    "to evaluate expressions into `True` or `False`. We can use these\\\n",
    "expressions to execute conditional code blocks."
   ]
  },
  {
   "cell_type": "code",
   "execution_count": 7,
   "id": "8c8fe92e-53de-436c-b01e-4d695be19986",
   "metadata": {
    "tags": []
   },
   "outputs": [
    {
     "name": "stdout",
     "output_type": "stream",
     "text": [
      "Balance is between 0 and 1000.\n"
     ]
    }
   ],
   "source": [
    "balance = 500\n",
    "\n",
    "if balance > 0 and balance < 1000:\n",
    "    print(\"Balance is between 0 and 1000.\")\n"
   ]
  },
  {
   "cell_type": "markdown",
   "id": "303a9479-fcd0-412b-8f2b-0604a5ddd25b",
   "metadata": {},
   "source": [
    "Truthy and Falsy\n",
    "\n",
    "In Python it's possible to use non-boolean values to execute conditional statements."
   ]
  },
  {
   "cell_type": "code",
   "execution_count": 8,
   "id": "2eff291c-d808-4af6-bd85-c1ce43f4291f",
   "metadata": {
    "tags": []
   },
   "outputs": [
    {
     "name": "stdout",
     "output_type": "stream",
     "text": [
      "Message is not empty.\n"
     ]
    }
   ],
   "source": [
    "msg = \"\"\n",
    "if msg:\n",
    "    print(\"Message is not empty.\") # This will not be printed\n",
    "\n",
    "msg = \"Hello, World!\"\n",
    "if msg:\n",
    "    print(\"Message is not empty.\") # This will be printed\n"
   ]
  },
  {
   "cell_type": "markdown",
   "id": "f5795d7c-cbae-4c0e-b3fc-5f6c77866802",
   "metadata": {},
   "source": [
    "This is because Python has the concept of `truthy` and `falsy` values.\\\n",
    "A value is considered `truth`y if it evaluates to `True` in a boolean context.\\\n",
    "A value is considered `falsy` if it evaluates to `False` in a boolean context.\\\n",
    "The condition in an if statement is considered a boolean context.\n",
    "\n",
    "A value is falsy if it is:\n",
    "\n",
    "- False (boolean)\n",
    "- None (NoneType)\n",
    "- 0 (integer)\n",
    "- 0.0 (float)\n",
    "- \"\" (empty string)\n",
    "- [] (empty list)\n",
    "- Most other empty collections (e.g. empty tuple, empty set, empty dictionary)\n",
    "\n",
    "A value is truthy if it is:\n",
    "\n",
    "- True (boolean)\n",
    "- All integers other than 0\n",
    "- All floats other than 0.0\n",
    "- All strings other than \"\"\n",
    "- All collections with at least one element\n",
    "\n",
    "This means that the following two if statements are equivalent:"
   ]
  },
  {
   "cell_type": "code",
   "execution_count": 1,
   "id": "1b635a93-6b4a-45e0-a65c-88d78d813fc0",
   "metadata": {
    "tags": []
   },
   "outputs": [
    {
     "name": "stdout",
     "output_type": "stream",
     "text": [
      "x is not zero\n",
      "x is not zero\n"
     ]
    }
   ],
   "source": [
    "x = 10\n",
    "\n",
    "if x:\n",
    "    print(\"x is not zero\")\n",
    "\n",
    "if x != 0:\n",
    "    print(\"x is not zero\")\n"
   ]
  },
  {
   "cell_type": "markdown",
   "id": "9253ff60-215f-494a-aa20-2bb092eff73c",
   "metadata": {},
   "source": [
    "As a beginner, it may be fine for you to prefer\\\n",
    "the second form, as it is more explicit. But be\\\n",
    "aware that the first form is more idiomatic in\\\n",
    "Python (more common and the intended way to use Python)."
   ]
  },
  {
   "cell_type": "code",
   "execution_count": null,
   "id": "55c3387b-2777-4a1f-aae8-c7ccf710d5e5",
   "metadata": {},
   "outputs": [],
   "source": []
  }
 ],
 "metadata": {
  "kernelspec": {
   "display_name": "Python 3 (ipykernel)",
   "language": "python",
   "name": "python3"
  },
  "language_info": {
   "codemirror_mode": {
    "name": "ipython",
    "version": 3
   },
   "file_extension": ".py",
   "mimetype": "text/x-python",
   "name": "python",
   "nbconvert_exporter": "python",
   "pygments_lexer": "ipython3",
   "version": "3.11.4"
  }
 },
 "nbformat": 4,
 "nbformat_minor": 5
}
