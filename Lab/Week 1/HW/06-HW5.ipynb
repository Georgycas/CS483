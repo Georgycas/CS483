{
 "cells": [
  {
   "cell_type": "markdown",
   "id": "92525a92-7984-4d6d-a499-8d841d41b154",
   "metadata": {},
   "source": [
    "**Q1**: Use a loop to print \"I know how to use while loops\" exactly 12 times."
   ]
  },
  {
   "cell_type": "code",
   "execution_count": null,
   "id": "2897c719-96f6-4828-bae4-368ceed33f3d",
   "metadata": {},
   "outputs": [],
   "source": []
  },
  {
   "cell_type": "markdown",
   "id": "265182d9-7484-45f2-908b-aace630b4f71",
   "metadata": {},
   "source": [
    "**Q2**: Can you use a while loop to print the\\\n",
    "digits from 0 to 9 in order (including 0 and 9)?\\\n",
    "Your loop should execute 10 times.\n"
   ]
  },
  {
   "cell_type": "code",
   "execution_count": null,
   "id": "c8ac4534-ec2d-40c5-9473-c1583be4fc3e",
   "metadata": {},
   "outputs": [],
   "source": []
  },
  {
   "cell_type": "markdown",
   "id": "6c079f61-2730-479b-a450-2d9597121f62",
   "metadata": {},
   "source": [
    "**Q3** Can you use a while loop to print all multiples of 10 from 10 to 90 in order (including 10 and 90)?"
   ]
  },
  {
   "cell_type": "code",
   "execution_count": null,
   "id": "d4745404-d4c4-4426-b774-5fe128f32d74",
   "metadata": {},
   "outputs": [],
   "source": []
  },
  {
   "cell_type": "markdown",
   "id": "5da98060-299b-4ab8-809f-bcb7e79482f3",
   "metadata": {},
   "source": [
    "**Q4** Using a for loop, print the numbers 0 through 12, in order, including 0 and 12."
   ]
  },
  {
   "cell_type": "code",
   "execution_count": null,
   "id": "abcfdae3-7ab0-4bbf-8a1a-06e3e42ace0f",
   "metadata": {},
   "outputs": [],
   "source": []
  },
  {
   "cell_type": "markdown",
   "id": "6b87fa60-2b32-4690-95f1-5fd2176df643",
   "metadata": {},
   "source": [
    "**Q5** Using a for loop, print the numbers 10 through 20, in order, including 10 and 20."
   ]
  },
  {
   "cell_type": "code",
   "execution_count": null,
   "id": "f8e84473-fceb-42bc-a074-8b9ef584a3ef",
   "metadata": {},
   "outputs": [],
   "source": []
  },
  {
   "cell_type": "markdown",
   "id": "9f496a75-6b06-4c70-9b50-2ae257d21edb",
   "metadata": {},
   "source": [
    "**Q6** Using a for loop, print all multiples of 10 from 0 to 100, in order, including 0 and 100."
   ]
  },
  {
   "cell_type": "code",
   "execution_count": null,
   "id": "27830646-c091-4140-a809-018f64cf3a20",
   "metadata": {},
   "outputs": [],
   "source": []
  },
  {
   "cell_type": "markdown",
   "id": "200bc0f8-9248-432f-af56-e6cd686ed58f",
   "metadata": {},
   "source": [
    "**Q7** Using a for loop, print the numbers 20 through 10, in reverse order, including 20 and 10."
   ]
  },
  {
   "cell_type": "code",
   "execution_count": null,
   "id": "baa55e7b-298e-46cc-b841-b5143c932d19",
   "metadata": {},
   "outputs": [],
   "source": []
  },
  {
   "cell_type": "markdown",
   "id": "442034d4-95fb-45a5-858e-8a0ef5f03cd7",
   "metadata": {},
   "source": [
    "**Q8** Using nested loops, print all pairs of numbers from 3, 4, 5, where the order of each pair matters."
   ]
  },
  {
   "cell_type": "code",
   "execution_count": null,
   "id": "1f268a36-9c3d-4f57-b6e1-4470cd2a8e30",
   "metadata": {},
   "outputs": [],
   "source": []
  }
 ],
 "metadata": {
  "kernelspec": {
   "display_name": "Python 3 (ipykernel)",
   "language": "python",
   "name": "python3"
  },
  "language_info": {
   "codemirror_mode": {
    "name": "ipython",
    "version": 3
   },
   "file_extension": ".py",
   "mimetype": "text/x-python",
   "name": "python",
   "nbconvert_exporter": "python",
   "pygments_lexer": "ipython3",
   "version": "3.11.4"
  }
 },
 "nbformat": 4,
 "nbformat_minor": 5
}
