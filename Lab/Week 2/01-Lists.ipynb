{
 "cells": [
  {
   "cell_type": "markdown",
   "id": "eee5c99b-fe1f-4901-92f3-1f5ecc6079ef",
   "metadata": {},
   "source": [
    "Intro to Lists\n",
    "\n",
    "In Python a list is a collection of items that\\\n",
    "are stored in a specific order."
   ]
  },
  {
   "cell_type": "code",
   "execution_count": 1,
   "id": "6d48ad5f-f78f-42f7-8e13-11bac83bec07",
   "metadata": {
    "tags": []
   },
   "outputs": [
    {
     "name": "stdout",
     "output_type": "stream",
     "text": [
      "3\n",
      "1\n",
      "2\n",
      "3\n"
     ]
    }
   ],
   "source": [
    "my_list = [1, 2, 3]\n",
    "\n",
    "print(len(my_list))  # Output: 3\n",
    "\n",
    "print(my_list[0])  # Output: 1\n",
    "print(my_list[1])  # Output: 2\n",
    "print(my_list[2])  # Output: 3\n"
   ]
  },
  {
   "cell_type": "markdown",
   "id": "38dda380-f3bc-451c-91a6-0aa5e09ccf5a",
   "metadata": {},
   "source": [
    "As you can see, we can access individual elements in\\\n",
    "the list by indexing it just like with a string. We can\\\n",
    "also get the number of elements within the list by calling\\\n",
    "the len() function.\n",
    "\n",
    "But there is a key difference between lists and strings.\\\n",
    "Lists are mutable, meaning we can change the values of the\\\n",
    "elements in the list."
   ]
  },
  {
   "cell_type": "code",
   "execution_count": 2,
   "id": "11495ac5-3027-4027-9b24-76051a7aca54",
   "metadata": {
    "tags": []
   },
   "outputs": [
    {
     "name": "stdout",
     "output_type": "stream",
     "text": [
      "10\n"
     ]
    }
   ],
   "source": [
    "my_list = [1, 2, 3, 4, 5]\n",
    "\n",
    "my_list[0] = 10\n",
    "\n",
    "print(my_list[0])  # Output: 10\n"
   ]
  },
  {
   "cell_type": "markdown",
   "id": "59dde5c8-4e3d-4c3d-ab82-a5a1624ee74e",
   "metadata": {},
   "source": [
    "Lists can also store more than just numbers, they\\\n",
    "can store everything from strings to other lists."
   ]
  },
  {
   "cell_type": "code",
   "execution_count": null,
   "id": "5d3f8d86-81ba-42f9-aaf3-c52e180f72ae",
   "metadata": {},
   "outputs": [],
   "source": [
    "my_list = [\"I\", \"am\", \"a\", \"list\"]\n",
    "\n",
    "print(my_list[0])  # Output: I\n",
    "print(my_list[1])  # Output: am\n",
    "print(my_list[2])  # Output: a\n",
    "print(my_list[3])  # Output: list\n"
   ]
  },
  {
   "cell_type": "markdown",
   "id": "12dc1ac8-8608-418e-a4fc-f418527777f0",
   "metadata": {},
   "source": [
    "We can even mix and match different types of elements in a list.\\\n",
    "This is generally not recommended, but it is possible."
   ]
  },
  {
   "cell_type": "code",
   "execution_count": 3,
   "id": "cd84ecec-61f2-4e80-8d58-814b1033e480",
   "metadata": {
    "tags": []
   },
   "outputs": [],
   "source": [
    "my_list = [1, \"Hello\", 3.14, True]"
   ]
  },
  {
   "cell_type": "markdown",
   "id": "a21a4165-d049-494a-93f2-e89c97e56148",
   "metadata": {},
   "source": [
    "List Operations\n",
    "\n",
    "Lists can also be used within conditional statements.\\\n",
    "For example, we can check if a list is empty or not:"
   ]
  },
  {
   "cell_type": "code",
   "execution_count": null,
   "id": "403f8405-d843-4b21-8251-d66925c00ccf",
   "metadata": {},
   "outputs": [],
   "source": [
    "my_list = [1, 2, 3]\n",
    "\n",
    "if len(my_list) > 0:\n",
    "    print(\"The list is not empty\")\n",
    "else:\n",
    "    print(\"The list is empty\")\n",
    "\n",
    "if my_list:\n",
    "    print(\"The list is not empty\")\n",
    "else:\n",
    "    print(\"The list is empty\")"
   ]
  },
  {
   "cell_type": "markdown",
   "id": "1bc138ad-9505-428b-99da-d2b0c11b5ee7",
   "metadata": {},
   "source": [
    "The above two conditional statements are equivalent.\\\n",
    "The second one is more concise and is generally preferred.\n",
    "\n",
    "We can also use the `in` operator to check if an element\\\n",
    "is present in a list:"
   ]
  },
  {
   "cell_type": "code",
   "execution_count": null,
   "id": "5fe411f4-b1f8-4bf4-8c74-59df447caf61",
   "metadata": {},
   "outputs": [],
   "source": [
    "my_list = [1, 2, 3]\n",
    "\n",
    "if 2 in my_list:\n",
    "    print(\"2 is in the list\")\n",
    "else:\n",
    "    print(\"2 is not in the list\")"
   ]
  },
  {
   "cell_type": "markdown",
   "id": "83bfab1b-713d-47b8-abc5-378d8c6434d4",
   "metadata": {},
   "source": [
    "If we want to check if an element is not in the list,\\\n",
    "we can use the `not in` operator:"
   ]
  },
  {
   "cell_type": "code",
   "execution_count": null,
   "id": "32083201-4f68-4548-a838-7d092f99a24e",
   "metadata": {},
   "outputs": [],
   "source": [
    "my_list = [1, 2, 3]\n",
    "\n",
    "if 4 not in my_list:\n",
    "    print(\"4 is not in the list\")\n",
    "else:\n",
    "    print(\"4 is in the list\")"
   ]
  },
  {
   "cell_type": "markdown",
   "id": "fa9cd386-bf6c-451c-874e-27f8c368c178",
   "metadata": {},
   "source": [
    "List Looping\n",
    "\n",
    "We can also loop through lists similar to how\\\n",
    "we loop through strings.\n",
    "\n",
    "By using the length of the list:"
   ]
  },
  {
   "cell_type": "code",
   "execution_count": null,
   "id": "59157b4f-42e2-4224-9b11-b0625b335b26",
   "metadata": {},
   "outputs": [],
   "source": [
    "my_list = [1, 2, 3, 4, 5]\n",
    "\n",
    "length = len(my_list)\n",
    "\n",
    "for i in range(length):\n",
    "    print(my_list[i])"
   ]
  },
  {
   "cell_type": "markdown",
   "id": "b9acdd09-b239-4487-b173-fa3fc9d8cc8e",
   "metadata": {},
   "source": [
    "Or by using the `in` operator:"
   ]
  },
  {
   "cell_type": "code",
   "execution_count": null,
   "id": "e9c4d507-19d4-4843-9e85-e2818436ca45",
   "metadata": {},
   "outputs": [],
   "source": [
    "my_list = [1, 2, 3, 4, 5]\n",
    "\n",
    "for element in my_list:\n",
    "    print(element)"
   ]
  },
  {
   "cell_type": "markdown",
   "id": "e96737dd-7b07-4be4-b1f0-425899e613d1",
   "metadata": {},
   "source": [
    "Both of these methods will print each element\\\n",
    "of the list on a separate line. If we don't need\\\n",
    "the index of the element, the second method is generally\\\n",
    "preferred since it is more concise."
   ]
  },
  {
   "cell_type": "markdown",
   "id": "93ceec71-ffa0-403f-b53d-efc58d34e145",
   "metadata": {},
   "source": [
    "List Functions\n",
    "\n",
    "Python also provides some built in functions\\\n",
    "to get the sum, minimum, and maximum of a list:"
   ]
  },
  {
   "cell_type": "code",
   "execution_count": null,
   "id": "b8ac7f99-b4bd-4cab-b247-1ede64d4bcd2",
   "metadata": {},
   "outputs": [],
   "source": [
    "my_list = [1, 2, 3, 4, 5]\n",
    "\n",
    "print(sum(my_list))  # Output: 15\n",
    "print(min(my_list))  # Output: 1\n",
    "print(max(my_list))  # Output: 5"
   ]
  },
  {
   "cell_type": "markdown",
   "id": "6577ee7f-abd9-424a-af63-6f85db611d03",
   "metadata": {},
   "source": [
    "- The `sum()` function returns the sum\\\n",
    "  of all the elements in the list.\n",
    "- The `min()` function returns the smallest\\\n",
    "  element in the list.\n",
    "- The `max()` function returns the largest\\\n",
    "  element in the list."
   ]
  },
  {
   "cell_type": "markdown",
   "id": "561b08ef-2785-4198-92a5-ba457734fe69",
   "metadata": {},
   "source": [
    "List Append\n",
    "\n",
    "We can do more than just change individual elements\\\n",
    "within a list. We can also add new elements to the\\\n",
    "end of a list using the `append()` function.\n"
   ]
  },
  {
   "cell_type": "code",
   "execution_count": null,
   "id": "7f481c0b-03fc-4036-8fe4-f1366d5fc09a",
   "metadata": {},
   "outputs": [],
   "source": [
    "my_list = [1, 2, 3]\n",
    "\n",
    "print(my_list)  # Output: [1, 2, 3]\n",
    "\n",
    "my_list.append(4)\n",
    "\n",
    "print(my_list)  # Output: [1, 2, 3, 4]"
   ]
  },
  {
   "cell_type": "markdown",
   "id": "9ebf054b-d86a-4fd2-87c7-e7198522ac68",
   "metadata": {},
   "source": [
    "A few things to notice:\n",
    "\n",
    "We can print an entire list at once.\n",
    "The `append()` function adds an element to the end of the list.\\\n",
    "This is not a separate function, it's called with a\\\n",
    "period after the list name `(.append())`. This is called\\\n",
    "a method. It is a function that is associated with a specific\\\n",
    "object (in this case, a list is an object).\n",
    "After calling `append`, the original list has been\\\n",
    "modified to include the new element at the end.\\\n",
    "The length increased from `3` to `4`."
   ]
  },
  {
   "cell_type": "code",
   "execution_count": null,
   "id": "0b970c20-edb8-4f03-9086-903e016dd433",
   "metadata": {},
   "outputs": [],
   "source": []
  },
  {
   "cell_type": "markdown",
   "id": "d0c5f79c-94bb-4147-b90f-bb3c61dfce04",
   "metadata": {},
   "source": [
    "List Pop\n",
    "\n",
    "We can also remove elements from a list using the `pop()` function."
   ]
  },
  {
   "cell_type": "code",
   "execution_count": null,
   "id": "6e2454f1-24fe-4022-b618-369565ad74b8",
   "metadata": {},
   "outputs": [],
   "source": [
    "my_list = [1, 2, 3]\n",
    "\n",
    "my_list.pop()\n",
    "\n",
    "print(my_list)  # Output: [1, 2]\n"
   ]
  },
  {
   "cell_type": "markdown",
   "id": "82496b64-8f1d-42f6-bc65-9ec2b01e0993",
   "metadata": {},
   "source": [
    "By default, `pop()` removes the last element from\\\n",
    "the list. We can also specify an index to remove\\\n",
    "a specific element, as shown below."
   ]
  },
  {
   "cell_type": "code",
   "execution_count": null,
   "id": "4fa222f1-c77d-4d9b-8a84-d285d30c03a3",
   "metadata": {},
   "outputs": [],
   "source": [
    "my_list = [1, 2, 3]\n",
    "\n",
    "my_list.pop(0)\n",
    "\n",
    "print(my_list)  # Output: [2, 3]\n",
    "\n",
    "my_list.pop(0)\n",
    "\n",
    "print(my_list)  # Output: [3]\n"
   ]
  },
  {
   "cell_type": "markdown",
   "id": "2bd22dd7-e4d0-481e-bd24-2d214a46f4d6",
   "metadata": {},
   "source": [
    "Notice that we called `pop(0)` twice to remove\\\n",
    "the first two elements from the list. After\\\n",
    "removing the first element, the second element\\\n",
    "becomes the first element. So we call \\\n",
    "`pop(0)` again to remove the new first element."
   ]
  },
  {
   "cell_type": "markdown",
   "id": "b913cba0-a623-4bad-9217-c12a67ab6ea2",
   "metadata": {},
   "source": [
    "List Find\n",
    "\n",
    "We learned that we can determine if a list contains\\\n",
    "a specific element with the `in` operator. We can also\\\n",
    "find the index of an element in a list using the `index()` function."
   ]
  },
  {
   "cell_type": "code",
   "execution_count": null,
   "id": "ffa8f415-649f-4f5c-a2bc-7466455eb040",
   "metadata": {},
   "outputs": [],
   "source": [
    "my_list = [1, 2, 3, 4, 5, 3]\n",
    "\n",
    "print(my_list.index(3))  # Output: 2"
   ]
  },
  {
   "cell_type": "markdown",
   "id": "ed69e4f0-f538-44a7-94db-8ab8947ae247",
   "metadata": {},
   "source": [
    "The above code snippet will print the index of the\\\n",
    "first occurence of the element `3` in the list `my_list`.\\\n",
    "There are two `3`s in the list, but the first one\\\n",
    "is at index `2`, so `2` is printed. If the element\\\n",
    "is not present in the list, a `ValueError` will be raised."
   ]
  },
  {
   "cell_type": "code",
   "execution_count": null,
   "id": "870352d6-c2bb-44c6-83b0-8fccc80c8dee",
   "metadata": {},
   "outputs": [],
   "source": []
  },
  {
   "cell_type": "markdown",
   "id": "0dea27dd-656e-48fc-a810-ac445d926223",
   "metadata": {},
   "source": [
    "List Slicing\n",
    "\n",
    "Just like with strings, we can also slice lists.\\\n",
    "We can extract a portion of a list by specifying a \\\n",
    "start and end index. The syntax is similar to\\\n",
    "slicing strings:"
   ]
  },
  {
   "cell_type": "code",
   "execution_count": null,
   "id": "8c3dd1a9-a505-42fd-9e3b-11882166875e",
   "metadata": {},
   "outputs": [],
   "source": [
    "my_list = [1, 2, 3, 4, 5]\n",
    "\n",
    "print(my_list[1:3])  # Output: [2, 3]\n",
    "\n",
    "print(my_list[:3])   # Output: [1, 2, 3]\n",
    "\n",
    "print(my_list[2:])   # Output: [3, 4, 5]\n",
    "\n",
    "print(my_list[::-1]) # Output: [5, 4, 3, 2, 1]"
   ]
  },
  {
   "cell_type": "markdown",
   "id": "e940b067-a481-4957-917a-fba4676b7180",
   "metadata": {},
   "source": [
    "To review, we can get a portion of the list by\\\n",
    "specifying the start and end index. If we omit\\\n",
    "the start index, it will default to the beginning\\\n",
    "of the list. If we omit the end index, it will\\\n",
    "default to the end of the list. We can also specify\\\n",
    "a negative step, after two colons, to reverse the list.\n",
    "\n",
    "It's important to note, that none of these operations\\\n",
    "modify the original list. They only return a new list\\\n",
    "with the specified slice.\n",
    "\n",
    "To take things a step further, what if we used a negative index?"
   ]
  },
  {
   "cell_type": "code",
   "execution_count": null,
   "id": "8c272647-85c1-4b71-8f15-57c876b784ab",
   "metadata": {},
   "outputs": [],
   "source": [
    "my_list = [1, 2, 3, 4, 5]\n",
    "\n",
    "print(my_list[-1]) # Output: 5\n",
    "print(my_list[-2]) # Output: 4\n",
    "print(my_list[-3]) # Output: 3\n"
   ]
  },
  {
   "cell_type": "markdown",
   "id": "124afe48-17d0-4c79-8042-6ce80ce6a40e",
   "metadata": {},
   "source": [
    "Surprisingly, it doesn't give us an index error.\\\n",
    "Using `-1` to access an element in a list will\\\n",
    "give us the last element, `-2` will give us the\\\n",
    "second-to-last element, and so on. This is not required,\\\n",
    "we could also access elements like this:"
   ]
  },
  {
   "cell_type": "code",
   "execution_count": null,
   "id": "be646fd1-5b60-441d-b034-2be82b5d9af4",
   "metadata": {},
   "outputs": [],
   "source": [
    "my_list = [1, 2, 3, 4, 5]\n",
    "\n",
    "print(my_list[len(my_list) - 1]) # Output: 5\n",
    "print(my_list[len(my_list) - 2]) # Output: 4\n",
    "print(my_list[len(my_list) - 3]) # Output: 3"
   ]
  },
  {
   "cell_type": "markdown",
   "id": "282a865f-9320-45f5-8d10-539201389c55",
   "metadata": {},
   "source": [
    "But the first method, using negative indices, is\\\n",
    "more concise and very common in Python."
   ]
  },
  {
   "cell_type": "markdown",
   "id": "2b42b333-f20e-4169-907d-19b2bbdad8a3",
   "metadata": {},
   "source": [
    "Tuples\n",
    "\n",
    "Tuples are very similar to lists, but they\\\n",
    "have one key difference: they are immutable.\\\n",
    "This means that once a tuple is created, it cannot\\\n",
    "be changed. We can create a tuple by using parentheses\\\n",
    "instead of square brackets:"
   ]
  },
  {
   "cell_type": "code",
   "execution_count": null,
   "id": "07fb3536-1963-424b-bacd-e75809b0c97d",
   "metadata": {},
   "outputs": [],
   "source": [
    "my_tuple = (4, 5, 6)\n",
    "\n",
    "print(my_tuple)  # Output: (4, 5, 6)"
   ]
  },
  {
   "cell_type": "markdown",
   "id": "1b7288de-cdab-4035-87cb-00b71a40d06e",
   "metadata": {},
   "source": [
    "We can index it just like a list:"
   ]
  },
  {
   "cell_type": "code",
   "execution_count": null,
   "id": "be4f5aab-4854-46fb-bba0-637677704ef5",
   "metadata": {},
   "outputs": [],
   "source": [
    "my_tuple = (4, 5, 6)\n",
    "\n",
    "print(my_tuple[0])  # Output: 4\n",
    "print(my_tuple[1])  # Output: 5\n",
    "print(my_tuple[2])  # Output: 6"
   ]
  },
  {
   "cell_type": "markdown",
   "id": "6b39266c-0ab8-489b-b703-bd34b5b692e5",
   "metadata": {},
   "source": [
    "We can also use slicing:"
   ]
  },
  {
   "cell_type": "code",
   "execution_count": null,
   "id": "04b90698-de8b-4653-aabd-e1da94c8a018",
   "metadata": {},
   "outputs": [],
   "source": [
    "my_tuple = (4, 5, 6)\n",
    "\n",
    "print(my_tuple[1:])  # Output: (5, 6)"
   ]
  },
  {
   "cell_type": "markdown",
   "id": "bdb4396b-1f28-45d6-8537-fb5dbd660fec",
   "metadata": {},
   "source": [
    "Keep in mind, slicing a tuple doesn't modify it,\\\n",
    "instead it creates a new tuple with the specified slice.\n",
    "\n",
    "Since we can't modify a tuple, the following code\\\n",
    "will raise an error:"
   ]
  },
  {
   "cell_type": "code",
   "execution_count": null,
   "id": "2c6a997b-77c3-4428-8f36-ec8989e7a3ac",
   "metadata": {},
   "outputs": [],
   "source": [
    "my_tuple = (4, 5, 6)\n",
    "\n",
    "my_tuple[0] = 1 # Raises an error"
   ]
  },
  {
   "cell_type": "markdown",
   "id": "efbaa8a5-0183-4f09-9a13-3de317aca056",
   "metadata": {},
   "source": [
    "We also can't call `append` or `pop` on a tuple,\\\n",
    "since these functions would modify it. We can\\\n",
    "however still call `sum()`, `max()`, and `min()`\\\n",
    "on a tuple, since these functions don't modify the tuple.\n",
    "\n",
    "It's common to use tuples to store related data."
   ]
  },
  {
   "cell_type": "code",
   "execution_count": null,
   "id": "6fc52fbd-e0ba-4707-8cd8-e85e2b0e3337",
   "metadata": {},
   "outputs": [],
   "source": []
  },
  {
   "cell_type": "code",
   "execution_count": null,
   "id": "39473f3c-10ca-49fd-baf7-28f73b1330c8",
   "metadata": {},
   "outputs": [],
   "source": []
  },
  {
   "cell_type": "code",
   "execution_count": null,
   "id": "f70f3a9b-8d06-44a8-b686-6cedca1773b2",
   "metadata": {},
   "outputs": [],
   "source": []
  }
 ],
 "metadata": {
  "kernelspec": {
   "display_name": "Python 3 (ipykernel)",
   "language": "python",
   "name": "python3"
  },
  "language_info": {
   "codemirror_mode": {
    "name": "ipython",
    "version": 3
   },
   "file_extension": ".py",
   "mimetype": "text/x-python",
   "name": "python",
   "nbconvert_exporter": "python",
   "pygments_lexer": "ipython3",
   "version": "3.11.4"
  }
 },
 "nbformat": 4,
 "nbformat_minor": 5
}
