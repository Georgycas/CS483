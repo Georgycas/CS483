{
 "cells": [
  {
   "cell_type": "markdown",
   "id": "35d1d860-2a58-4776-919c-b1b04ca444e9",
   "metadata": {},
   "source": [
    "**Q1** Write a program that asks the user to enter two lists of the same length.\\\n",
    "Then create a new list where the entry at each index i in the new list\\\n",
    "is the larger of the entries at index i of the user’s two lists. For instance,\\\n",
    "if the two lists are [1,25,3] and [18,2,30], then new list would be [18,25,30]."
   ]
  },
  {
   "cell_type": "code",
   "execution_count": 13,
   "id": "2ec19c95-95e8-416e-96a4-8dca5f78ad89",
   "metadata": {
    "tags": []
   },
   "outputs": [
    {
     "name": "stdin",
     "output_type": "stream",
     "text": [
      "Enter a list [1,2,4]\n"
     ]
    }
   ],
   "source": [
    "a=eval(input('Enter a list'))"
   ]
  },
  {
   "cell_type": "code",
   "execution_count": 14,
   "id": "ead61474-360c-4465-9009-824076e236d6",
   "metadata": {
    "tags": []
   },
   "outputs": [
    {
     "data": {
      "text/plain": [
       "[1, 2, 4]"
      ]
     },
     "execution_count": 14,
     "metadata": {},
     "output_type": "execute_result"
    }
   ],
   "source": [
    "a"
   ]
  },
  {
   "cell_type": "code",
   "execution_count": 15,
   "id": "46e778e9-e922-474e-ac7d-f560dcc7e3ef",
   "metadata": {
    "tags": []
   },
   "outputs": [
    {
     "data": {
      "text/plain": [
       "list"
      ]
     },
     "execution_count": 15,
     "metadata": {},
     "output_type": "execute_result"
    }
   ],
   "source": [
    "type(a)"
   ]
  },
  {
   "cell_type": "code",
   "execution_count": 16,
   "id": "cde57dbd-8ac6-440a-82a2-ac3c4457ca41",
   "metadata": {
    "tags": []
   },
   "outputs": [
    {
     "name": "stdin",
     "output_type": "stream",
     "text": [
      "Enter the first list: [1,25,3]\n",
      "Enter the second list: [18,2,30]\n"
     ]
    },
    {
     "name": "stdout",
     "output_type": "stream",
     "text": [
      "[18, 25, 30]\n"
     ]
    }
   ],
   "source": [
    "F = eval(input('Enter the first list:'))\n",
    "S = eval(input('Enter the second list:'))\n",
    "\n",
    "N=[]\n",
    "\n",
    "for i in range(len(F)):\n",
    "    if F[i]>S[i]:\n",
    "        N.append(F[i])\n",
    "    else: \n",
    "        N.append(S[i])\n",
    "print(N)        "
   ]
  },
  {
   "cell_type": "code",
   "execution_count": null,
   "id": "997830b9-21b7-4e0d-b78f-9fd73abfc4c8",
   "metadata": {},
   "outputs": [],
   "source": []
  },
  {
   "cell_type": "markdown",
   "id": "ad23b911-ed60-40e6-8a83-36b1023e1903",
   "metadata": {},
   "source": [
    "**Q2** Write a program that asks the user for an integer n and then\\\n",
    "generates and prints a list of the first n triangular numbers. The\\\n",
    "triangular numbers are 1, 3 = 1 + 2, 6 = 1 + 2 + 3, 10 = 1 + 2 + 3 + 4, etc."
   ]
  },
  {
   "cell_type": "code",
   "execution_count": 17,
   "id": "11fe41a5-837d-400a-b589-04f500ab30bb",
   "metadata": {
    "tags": []
   },
   "outputs": [
    {
     "name": "stdin",
     "output_type": "stream",
     "text": [
      "Enter an integer 5\n"
     ]
    },
    {
     "name": "stdout",
     "output_type": "stream",
     "text": [
      "[1, 3, 6, 10, 15]\n"
     ]
    }
   ],
   "source": [
    "n = eval(input('Enter an integer'))\n",
    "\n",
    "L=[]\n",
    "\n",
    "tot = 0\n",
    "for i in range(1,n+1):\n",
    "    tot = tot+i\n",
    "    L.append(tot)\n",
    "print(L)   "
   ]
  },
  {
   "cell_type": "code",
   "execution_count": null,
   "id": "632f48c5-0a99-4cea-97e3-9ff469e8c21a",
   "metadata": {},
   "outputs": [],
   "source": [
    "n=5\n",
    "1,2,3,4,5\n",
    "1, 3, 6, 10, 15"
   ]
  },
  {
   "cell_type": "code",
   "execution_count": null,
   "id": "4f12ae4b-f5ce-4a2c-90a9-7d0a9266904f",
   "metadata": {},
   "outputs": [],
   "source": [
    "range(n=5)\n",
    "i: 1,2,3,4,5\n",
    "\n",
    "tot = 0\n",
    "tot = 0+1\n",
    "tot = tot+2=3"
   ]
  },
  {
   "cell_type": "markdown",
   "id": "bbd3755c-6262-417f-96b1-cf8261a7e95b",
   "metadata": {},
   "source": [
    "**Q3** Write a program that rotates all the elements in a list one\\\n",
    "element to the left, with the first element rotating to the end.\\\n",
    "For instance, if the list is [1,2,3,4], it would rotate into [2,3,4,1]."
   ]
  },
  {
   "cell_type": "code",
   "execution_count": 19,
   "id": "58ed391e-0aab-48ad-b6e1-eff54d30f5e3",
   "metadata": {
    "tags": []
   },
   "outputs": [
    {
     "name": "stdin",
     "output_type": "stream",
     "text": [
      "Enter a list: [1,2,3,4]\n"
     ]
    },
    {
     "name": "stdout",
     "output_type": "stream",
     "text": [
      "[2, 3, 4, 1]\n"
     ]
    }
   ],
   "source": [
    "L = eval(input('Enter a list:'))\n",
    "\n",
    "temp = L[0]\n",
    "for i in range(len(L)-1):\n",
    "    L[i]=L[i+1]\n",
    "L[-1]=temp    \n",
    "print(L)    "
   ]
  },
  {
   "cell_type": "code",
   "execution_count": null,
   "id": "25b5a641-49bb-4b79-8ae6-c39e0ce46d33",
   "metadata": {},
   "outputs": [],
   "source": [
    "[1,5,6,3]\n",
    "\n",
    "i =0\n",
    "L[0]=L[1]\n",
    "[5, 5, 6,3]\n",
    "i=1\n",
    "L[1]=L[2]\n",
    "[5,6,6,3]\n",
    "\n",
    "\n",
    "L[len[L]-2] = L[len[L]-1]\n"
   ]
  },
  {
   "cell_type": "markdown",
   "id": "80989bfc-600e-40dc-a443-097a20f9afd2",
   "metadata": {},
   "source": [
    "**Q4** Write a program that generates a list of 20 random 0s, 1s, and 2s.\\\n",
    "Then create a new list which consists of all the indices at which\\\n",
    "a consecutive repeat occurs (where the item at the current index equals\\\n",
    "the item at the index right before it). For instance, if the list\\\n",
    "starts out with [0,2, 2, 1, 0, 1, 1,. . . , there are repeats at indices 2 and 6."
   ]
  },
  {
   "cell_type": "code",
   "execution_count": 30,
   "id": "c6e90438-d27a-4246-8ce9-c717940843e4",
   "metadata": {
    "tags": []
   },
   "outputs": [
    {
     "name": "stdout",
     "output_type": "stream",
     "text": [
      "[2, 0, 2, 0, 1, 0, 2, 1, 2, 0, 0, 0, 2, 0, 1, 1, 1, 2, 2, 1]\n",
      "[10, 11, 15, 16, 18]\n"
     ]
    }
   ],
   "source": [
    "from random import randint\n",
    "\n",
    "\n",
    "L=[]\n",
    "\n",
    "for i in range(20):\n",
    "    L.append(randint(0,2))\n",
    "print(L)\n",
    "\n",
    "\n",
    "R = []\n",
    "for j in range(1, len(L)):\n",
    "    if L[j]==L[j-1]:\n",
    "        R.append(j)\n",
    "print(R)        "
   ]
  },
  {
   "cell_type": "code",
   "execution_count": 29,
   "id": "dd80ffb8-5b1a-4df0-8575-01a6274e3683",
   "metadata": {
    "tags": []
   },
   "outputs": [
    {
     "data": {
      "text/plain": [
       "[2, 0, 1, 1, 2, 2, 0, 2, 1, 0, 2, 0, 1, 0, 1, 1, 2, 0, 1, 0]"
      ]
     },
     "execution_count": 29,
     "metadata": {},
     "output_type": "execute_result"
    }
   ],
   "source": [
    "L"
   ]
  },
  {
   "cell_type": "markdown",
   "id": "0460354e-3207-4b66-994e-183f65be2751",
   "metadata": {},
   "source": [
    "**Q5** In the dice game Yahtzee you roll 5 dice. A large straight\\\n",
    "is when the dice come out as 1-2-3-4-5 or 2-3-4-5-6. Write a\\\n",
    "program that simulates rolling five dice 10,000 times, and\\\n",
    "count how many times a large straight happens.\\\n",
    "[Hint: the dice are five random numbers. Put them into a list\\\n",
    "and sort them. That makes it easy to compare if they are\\\n",
    "1-2-3-4-5 or 2-3-4-5-6.]\n"
   ]
  },
  {
   "cell_type": "code",
   "execution_count": 36,
   "id": "d1ac08ef-974e-4346-a602-122d22673f22",
   "metadata": {
    "tags": []
   },
   "outputs": [
    {
     "name": "stdout",
     "output_type": "stream",
     "text": [
      "308\n",
      "3.08\n"
     ]
    }
   ],
   "source": [
    "from random import randint\n",
    "\n",
    "count=0\n",
    "for i in range(10000):\n",
    "    L=[randint(1,6),randint(1,6),randint(1,6),randint(1,6),randint(1,6) ]\n",
    "    L.sort()\n",
    "    if L==[1,2,3,4,5] or L==[2,3,4,5,6]:\n",
    "        count = count+1\n",
    "print(count)\n",
    "print(100*count/10000)"
   ]
  },
  {
   "cell_type": "code",
   "execution_count": 31,
   "id": "d8ef3036-0a17-45c5-9850-3077cfa801ba",
   "metadata": {
    "tags": []
   },
   "outputs": [],
   "source": [
    "L=[randint(1,6),randint(1,6),randint(1,6),randint(1,6),randint(1,6) ]\n"
   ]
  },
  {
   "cell_type": "code",
   "execution_count": 34,
   "id": "ed762374-766b-4d3f-9f60-d2d89ae0b074",
   "metadata": {
    "tags": []
   },
   "outputs": [
    {
     "data": {
      "text/plain": [
       "[1, 2, 6, 6, 6]"
      ]
     },
     "execution_count": 34,
     "metadata": {},
     "output_type": "execute_result"
    }
   ],
   "source": [
    "L.sort()\n",
    "L"
   ]
  },
  {
   "cell_type": "markdown",
   "id": "2898782d-47ec-4541-a967-d41eee8f2992",
   "metadata": {},
   "source": [
    "**Q6** Write a program that asks the user to enter a list.\\\n",
    "Then shuffle the list using the following algorithm: Pick a \\\n",
    "random element of the list and swap it with the element at index 0.\\\n",
    "Then pick a random element from among the entries at index 1\\\n",
    "through the end of the list and swap it with the element at \\\n",
    "index 1. Then pick a random element from among the entries\\\n",
    "at index 2 through the end of the list and swap it with the\\\n",
    "element at index 2. Continue this until the end of the list\\\n",
    "is reached. Print out the shuffled list."
   ]
  },
  {
   "cell_type": "code",
   "execution_count": null,
   "id": "3d976a25-9565-4c90-92d6-7e4d984f8def",
   "metadata": {},
   "outputs": [],
   "source": [
    "L = [2,1,5,3]\n",
    "L = [5,1,2,3]"
   ]
  },
  {
   "cell_type": "code",
   "execution_count": 37,
   "id": "987b1bc1-a31e-464d-b708-9bcef944a280",
   "metadata": {
    "tags": []
   },
   "outputs": [
    {
     "name": "stdin",
     "output_type": "stream",
     "text": [
      "Enter your list: [2,1,5,3]\n"
     ]
    },
    {
     "name": "stdout",
     "output_type": "stream",
     "text": [
      "[1, 3, 2, 5]\n"
     ]
    }
   ],
   "source": [
    "from random import randint\n",
    "L = eval(input('Enter your list:'))\n",
    "for i in range(len(L)-1):\n",
    "    j=randint(i+1, len(L)-1)\n",
    "    L[i], L[j] = L[j], L[i]\n",
    "print(L)"
   ]
  },
  {
   "cell_type": "code",
   "execution_count": null,
   "id": "f93e35c7-4f9c-4d0a-881b-c1cf576a30c8",
   "metadata": {},
   "outputs": [],
   "source": []
  },
  {
   "cell_type": "code",
   "execution_count": null,
   "id": "21d53df5-eef5-4e87-b350-cb2b7b7d69f6",
   "metadata": {},
   "outputs": [],
   "source": []
  },
  {
   "cell_type": "markdown",
   "id": "7a9fcada-6710-4cc3-9617-e0d8bf672dc0",
   "metadata": {},
   "source": [
    "**Q7** Write a program that asks the user to enter a bunch\\\n",
    "of words separated by spaces. Then use the `split()` method\\\n",
    "to create a list of words the user enters."
   ]
  },
  {
   "cell_type": "code",
   "execution_count": null,
   "id": "849b920f-b765-4222-95b2-f11d3cffa7d6",
   "metadata": {},
   "outputs": [],
   "source": [
    "Mon Tue Wed Thr"
   ]
  },
  {
   "cell_type": "code",
   "execution_count": 38,
   "id": "de9cdd2e-e474-4abe-8dc5-fe4adb330e2f",
   "metadata": {
    "tags": []
   },
   "outputs": [
    {
     "name": "stdin",
     "output_type": "stream",
     "text": [
      "Enter a bunch of words separated by space Mon Tue Wed Thr\n"
     ]
    },
    {
     "data": {
      "text/plain": [
       "['Mon', 'Tue', 'Wed', 'Thr']"
      ]
     },
     "execution_count": 38,
     "metadata": {},
     "output_type": "execute_result"
    }
   ],
   "source": [
    "s = input('Enter a bunch of words separated by space')\n",
    "s.split(' ')"
   ]
  },
  {
   "cell_type": "code",
   "execution_count": null,
   "id": "5b699d15-8e2f-4649-9015-c63816a6daf9",
   "metadata": {},
   "outputs": [],
   "source": []
  },
  {
   "cell_type": "markdown",
   "id": "f3a410ea-9108-4349-8615-cb5fa16f403b",
   "metadata": {},
   "source": [
    "**Q8** Write a program that asks the user to enter a date\\\n",
    "in a form month/day/year and then uses the `split()` method\\\n",
    "to print out the month, day and year all on separate lines."
   ]
  },
  {
   "cell_type": "code",
   "execution_count": 39,
   "id": "9ca94eec-ec86-417d-b4bf-67cfbc57020e",
   "metadata": {
    "tags": []
   },
   "outputs": [
    {
     "name": "stdin",
     "output_type": "stream",
     "text": [
      "Enter a date in month/day/year format 9/5/2024\n"
     ]
    }
   ],
   "source": [
    "s = input('Enter a date in month/day/year format')\n",
    "D = s.split('/')"
   ]
  },
  {
   "cell_type": "code",
   "execution_count": 41,
   "id": "eddf0bdc-4d2b-4723-8a78-69821e677f23",
   "metadata": {
    "tags": []
   },
   "outputs": [
    {
     "name": "stdout",
     "output_type": "stream",
     "text": [
      "month: 9\n"
     ]
    }
   ],
   "source": [
    "print('month:', D[0])"
   ]
  },
  {
   "cell_type": "code",
   "execution_count": null,
   "id": "286b8e52-3ae4-499d-bac1-bfd28697111d",
   "metadata": {},
   "outputs": [],
   "source": []
  },
  {
   "cell_type": "markdown",
   "id": "7794df76-b2ea-44f7-a06e-d3b516e365b0",
   "metadata": {},
   "source": [
    "**Q9** Write a program that asks the user to enter a\\\n",
    "bunch of words separated by spaces, all in lowercase. Then\\\n",
    "capitalize the first letter of each word and print out\\\n",
    "the resulting string. [Hint: Use split() and join().]"
   ]
  },
  {
   "cell_type": "code",
   "execution_count": 50,
   "id": "8032028e-0c7b-4ad4-878b-e84fc2c08874",
   "metadata": {
    "tags": []
   },
   "outputs": [
    {
     "name": "stdin",
     "output_type": "stream",
     "text": [
      "Enter bunch of words, all in lowercase, separated by spaces: mon tue wed\n"
     ]
    },
    {
     "name": "stdout",
     "output_type": "stream",
     "text": [
      "Mon Tue Wed\n"
     ]
    }
   ],
   "source": [
    "s = input('Enter bunch of words, all in lowercase, separated by spaces:')\n",
    "\n",
    "S = s.split(' ')\n",
    "\n",
    "SC = []\n",
    "\n",
    "for i in S:\n",
    "    SC.append(i[0].upper()+i[1:])\n",
    "print(' '.join(SC) )   "
   ]
  },
  {
   "cell_type": "code",
   "execution_count": 45,
   "id": "d95d93f2-7f9f-4139-bd62-cedc295bf3a7",
   "metadata": {
    "tags": []
   },
   "outputs": [
    {
     "data": {
      "text/plain": [
       "['Mon', 'Tue', 'Wed']"
      ]
     },
     "execution_count": 45,
     "metadata": {},
     "output_type": "execute_result"
    }
   ],
   "source": [
    "SC--> Mon Tue Wed"
   ]
  },
  {
   "cell_type": "code",
   "execution_count": 49,
   "id": "141e632b-9208-4713-8364-6925757c1ea5",
   "metadata": {
    "tags": []
   },
   "outputs": [
    {
     "data": {
      "text/plain": [
       "'Mon\\\\Tue\\\\Wed'"
      ]
     },
     "execution_count": 49,
     "metadata": {},
     "output_type": "execute_result"
    }
   ],
   "source": [
    "'\\\\'.join(SC) "
   ]
  },
  {
   "cell_type": "code",
   "execution_count": null,
   "id": "b2f4f786-da21-41bc-ab7a-e0e131c01ca1",
   "metadata": {},
   "outputs": [],
   "source": [
    "mon tue wed\n",
    "\n",
    "Mon Tue Wed"
   ]
  },
  {
   "cell_type": "code",
   "execution_count": 43,
   "id": "6e16e78e-a56c-4bc8-bf2b-6a4e228efa95",
   "metadata": {
    "tags": []
   },
   "outputs": [
    {
     "data": {
      "text/plain": [
       "'Mon'"
      ]
     },
     "execution_count": 43,
     "metadata": {},
     "output_type": "execute_result"
    }
   ],
   "source": [
    "x='mon'\n",
    "x[0].upper()+x[1:]"
   ]
  },
  {
   "cell_type": "markdown",
   "id": "e47934fa-06a9-4b13-9c03-1ab89acf6aa9",
   "metadata": {},
   "source": [
    "**Q10** Write a program that asks the user to enter a list of integers.\\\n",
    "Then create and print a new list that consists of all entries of\\\n",
    "the user’s list, except with negatives replaced by 0. For instance,\\\n",
    "if the entry is [2,-4,5, -6,-7], the new list should be [2,0, 5, 0, 0].\\\n",
    "[Hint: use max(x,0).]"
   ]
  },
  {
   "cell_type": "code",
   "execution_count": null,
   "id": "1c1fca45-8540-40e9-a3a1-d1c2bd6a155f",
   "metadata": {},
   "outputs": [],
   "source": []
  },
  {
   "cell_type": "markdown",
   "id": "1859790f-d0b2-44b8-b5c9-981dd96811cf",
   "metadata": {},
   "source": [
    "**Q11** Given a set of integers, write a function that generates\\\n",
    "all possible subsets (the power set) of the set. The solution\\\n",
    "set must not contain duplicate subsets.\n",
    "\n",
    "Example:\\\n",
    "Input: [1, 2, 3]\\\n",
    "Output: [[], [1], [2], [3],\\\n",
    "[1, 2], [1, 3], [2, 3], [1, 2, 3]]"
   ]
  },
  {
   "cell_type": "code",
   "execution_count": null,
   "id": "54efda74-a68c-41c0-bd14-324eeac6ed6a",
   "metadata": {},
   "outputs": [],
   "source": []
  },
  {
   "cell_type": "markdown",
   "id": "b29fe338-312c-4fa5-ba5e-8ca91663e099",
   "metadata": {},
   "source": [
    "**Q12** Given an unsorted list of integers, find the\\\n",
    "length of the longest consecutive elements sequence.\n",
    "\n",
    "Example:\\\n",
    "Input: [100, 4, 200, 1, 3, 2]\\\n",
    "Output: 4\\\n",
    "Explanation: The longest consecutive sequence is [1, 2, 3, 4]."
   ]
  },
  {
   "cell_type": "code",
   "execution_count": null,
   "id": "0304dd4a-8a87-4916-bb25-605ad27be620",
   "metadata": {},
   "outputs": [],
   "source": []
  },
  {
   "cell_type": "markdown",
   "id": "8bd2a676-f91d-4af4-9999-84fb8b9400e5",
   "metadata": {},
   "source": [
    "**Q13** Given multiple lists of integers, find all the unique\\\n",
    "elements across these lists. Write a function that takes\\\n",
    "a list of lists as input and returns a list of unique elements.\n",
    "\n",
    "Example:\\\n",
    "Input: [[1, 2, 3], [2, 4, 6], [3, 6, 9]]\\\n",
    "Output: [1, 4, 9]"
   ]
  },
  {
   "cell_type": "code",
   "execution_count": null,
   "id": "8d8adcb4-ca99-4d56-b0d3-8c97107c230b",
   "metadata": {},
   "outputs": [],
   "source": []
  }
 ],
 "metadata": {
  "kernelspec": {
   "display_name": "Python 3 (ipykernel)",
   "language": "python",
   "name": "python3"
  },
  "language_info": {
   "codemirror_mode": {
    "name": "ipython",
    "version": 3
   },
   "file_extension": ".py",
   "mimetype": "text/x-python",
   "name": "python",
   "nbconvert_exporter": "python",
   "pygments_lexer": "ipython3",
   "version": "3.11.4"
  }
 },
 "nbformat": 4,
 "nbformat_minor": 5
}
