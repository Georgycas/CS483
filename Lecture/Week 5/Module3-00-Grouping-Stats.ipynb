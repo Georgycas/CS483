{
 "cells": [
  {
   "cell_type": "markdown",
   "metadata": {},
   "source": [
    "**Step1**: Import the necessary libraries"
   ]
  },
  {
   "cell_type": "code",
   "execution_count": null,
   "metadata": {},
   "outputs": [],
   "source": []
  },
  {
   "cell_type": "markdown",
   "metadata": {},
   "source": [
    "**Step2:** For the datafframe below, compute the mean of the data1 column using the labels from key1."
   ]
  },
  {
   "cell_type": "code",
   "execution_count": null,
   "metadata": {},
   "outputs": [],
   "source": []
  },
  {
   "cell_type": "markdown",
   "metadata": {},
   "source": [
    "**Step3:** Now compute the mean for `data1` grouped by both `key1` and `key2`"
   ]
  },
  {
   "cell_type": "code",
   "execution_count": null,
   "metadata": {},
   "outputs": [],
   "source": []
  },
  {
   "cell_type": "markdown",
   "metadata": {},
   "source": [
    "**Step4** Find the group sizes by `key1` and `key2`."
   ]
  },
  {
   "cell_type": "code",
   "execution_count": null,
   "metadata": {},
   "outputs": [],
   "source": []
  },
  {
   "cell_type": "markdown",
   "metadata": {},
   "source": [
    "**Step5** Iterate over the data grouped by `key1` and \\\n",
    "generate a sequence of 2-tuples containing the group name\\\n",
    "along with the chunk of data."
   ]
  },
  {
   "cell_type": "code",
   "execution_count": null,
   "metadata": {},
   "outputs": [],
   "source": []
  },
  {
   "cell_type": "markdown",
   "metadata": {},
   "source": [
    "**Step6** Group your data by `key1` and `key2`\n",
    "then select `data2` and then take the mean of `data2` for each group"
   ]
  },
  {
   "cell_type": "code",
   "execution_count": null,
   "metadata": {},
   "outputs": [],
   "source": []
  },
  {
   "cell_type": "markdown",
   "metadata": {},
   "source": [
    "**Step7** Group the data below using the mapping and find the sum\\\n",
    "for each person across the columns, for example, a, b, and e are `red`\\\n",
    "c and e are `blue`, so Joe will have the sum of the columns correspoding\\\n",
    "to `red`columns as well as `blue` color."
   ]
  },
  {
   "cell_type": "code",
   "execution_count": null,
   "metadata": {},
   "outputs": [],
   "source": []
  },
  {
   "cell_type": "markdown",
   "metadata": {},
   "source": [
    "**Step8** Read the `tips.csv` dataset"
   ]
  },
  {
   "cell_type": "code",
   "execution_count": null,
   "metadata": {},
   "outputs": [],
   "source": []
  },
  {
   "cell_type": "markdown",
   "metadata": {},
   "source": [
    "**Step9** Add a tip_pct column with the tip percentage of the total bill"
   ]
  },
  {
   "cell_type": "code",
   "execution_count": null,
   "metadata": {},
   "outputs": [],
   "source": []
  },
  {
   "cell_type": "markdown",
   "metadata": {},
   "source": [
    "**Step10** \n",
    "- Group your data by `day` and `smoker`\n",
    "- Select the `tip_pct` column from this group\n",
    "- Find the mean of `tcp_pct` for each grpup using `agg`function"
   ]
  },
  {
   "cell_type": "code",
   "execution_count": null,
   "metadata": {},
   "outputs": [],
   "source": []
  },
  {
   "cell_type": "markdown",
   "metadata": {},
   "source": [
    "**Step11** Compute the three statistics `count`, `min`, and `max`\\\n",
    "for the tip_pct and total_bill columns:"
   ]
  },
  {
   "cell_type": "code",
   "execution_count": null,
   "metadata": {},
   "outputs": [],
   "source": []
  },
  {
   "cell_type": "markdown",
   "metadata": {},
   "source": [
    "**Step12**\n",
    "- Read the dataset `stock_px.csv`\n",
    "- Create a function that computes the pair-wise correlation of\n",
    "  each column with the \"SPX\" column\n",
    "- Compute percent change on close_px using pct_change"
   ]
  },
  {
   "cell_type": "code",
   "execution_count": null,
   "metadata": {},
   "outputs": [],
   "source": []
  },
  {
   "cell_type": "markdown",
   "metadata": {},
   "source": [
    "**Step13**\n",
    "- Extract the year part from the data index\n",
    "- group by your data by year\n",
    "- find the correlation of each group with `SPX`"
   ]
  },
  {
   "cell_type": "code",
   "execution_count": null,
   "metadata": {},
   "outputs": [],
   "source": []
  },
  {
   "cell_type": "markdown",
   "metadata": {},
   "source": [
    "**Step14** \n",
    "- A pivot table is a data summarization tool frequently found\\\n",
    "  in spreadsheet programs and other data analysis software.\\\n",
    "  It aggregates a table of data by one or more keys, arranging\\\n",
    "  the data in a rectangle with some of the group keys along the\\\n",
    "  rows and some along the columns.\n",
    "- Compute a table of group means (the default pivot_table aggregation type)\\\n",
    "  arranged by day and smoker on the rows "
   ]
  },
  {
   "cell_type": "code",
   "execution_count": null,
   "metadata": {},
   "outputs": [],
   "source": []
  }
 ],
 "metadata": {
  "kernelspec": {
   "display_name": "Python 3 (ipykernel)",
   "language": "python",
   "name": "python3"
  },
  "language_info": {
   "codemirror_mode": {
    "name": "ipython",
    "version": 3
   },
   "file_extension": ".py",
   "mimetype": "text/x-python",
   "name": "python",
   "nbconvert_exporter": "python",
   "pygments_lexer": "ipython3",
   "version": "3.11.4"
  }
 },
 "nbformat": 4,
 "nbformat_minor": 4
}
