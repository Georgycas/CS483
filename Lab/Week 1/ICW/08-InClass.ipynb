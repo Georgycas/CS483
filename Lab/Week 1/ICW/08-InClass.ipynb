{
 "cells": [
  {
   "cell_type": "markdown",
   "id": "9b763cee-0842-427b-8a72-d62eebc060fe",
   "metadata": {},
   "source": [
    "**Q1** Write a program that asks the user to enter an integer n.\\\n",
    "Then produce output that changes one letter at a time from a string\\\n",
    "of all As to a string of all Bs, starting at the back of the string.\\\n",
    "Shown below is the output with n = 4.\n",
    "\n",
    "AAAA\\\n",
    "AAAB\\\n",
    "AABB\\\n",
    "ABBB\\\n",
    "BBBB"
   ]
  },
  {
   "cell_type": "code",
   "execution_count": null,
   "id": "426a162d-f282-4159-986d-5359df61ee5d",
   "metadata": {},
   "outputs": [],
   "source": []
  },
  {
   "cell_type": "markdown",
   "id": "6949c67a-17ae-484e-bcd0-3caa3cc0ac2e",
   "metadata": {},
   "source": [
    "**Q2** Write a program that asks the user to enter a string of\\\n",
    "at least five characters. If the user enters a string that is not\\\n",
    "long enough, then a message should be printed and they should be\\\n",
    "asked again for the string. Keep doing this until they enter a long\\\n",
    "enough string. Then ask the user to enter an index in that string.\\\n",
    "If the user enters a negative or a number greater than or equal to \\\n",
    "the length of the string, then tell them to enter a valid index.\\\n",
    "Keep doing this until they enter a valid index and ask for\\\n",
    "the index again. Then print out the character of the user’s\\\n",
    "string at the index that they entered."
   ]
  },
  {
   "cell_type": "code",
   "execution_count": null,
   "id": "7943333a-dd98-44fa-ac8b-a63fc1b710f5",
   "metadata": {},
   "outputs": [],
   "source": []
  },
  {
   "cell_type": "markdown",
   "id": "e562f8a3-8baf-484f-b6a9-864d0cc00d9d",
   "metadata": {},
   "source": [
    "**Q3** Write a program that asks the user to enter a positive number\\\n",
    "between 20 and 100. Then repeatedly subtract random numbers in\\\n",
    "the range from 1 to 10 from that value until the number\\\n",
    "becomes negative. After each subtraction, print out the new value\\\n",
    "of the number. For instance, if the user enters 25, the program might\\\n",
    "print out something like 25, 18, 16, 7, 3, -2."
   ]
  },
  {
   "cell_type": "code",
   "execution_count": null,
   "id": "229579ad-63ce-4ad3-b397-b577e22e0f52",
   "metadata": {},
   "outputs": [],
   "source": []
  },
  {
   "cell_type": "markdown",
   "id": "8472e086-5be7-4da7-8e61-028f6020601f",
   "metadata": {},
   "source": [
    "**Q4** Write a program that asks the user to enter a\\\n",
    "string that consists of some letters and some non-letters.\\\n",
    "Print out the substring that consists of all the characters\\\n",
    "of the string from the first character up through, but\\\n",
    "not including, the first non-letter. For instance, if\\\n",
    "the string is abc#defg, the output would be abc. The output\\\n",
    "might end up being the empty string if the first character\\\n",
    "is not a letter."
   ]
  },
  {
   "cell_type": "code",
   "execution_count": null,
   "id": "728b8111-f7c2-423f-966b-3635af5966ab",
   "metadata": {},
   "outputs": [],
   "source": []
  },
  {
   "cell_type": "markdown",
   "id": "cdfdd42e-e0d2-4c64-861d-7604965cb689",
   "metadata": {},
   "source": [
    "**Q5** Write the following game. The player starts with 100 points.\\\n",
    "The program then picks a random number from 1 to 10 and asks\\\n",
    "the player to guess it. If they guess it right, they gain\\\n",
    "100 points. If their guess is less than the number,\\\n",
    "then they lose 10 points. If their guess is greater,\\\n",
    "they lose 20 points. After the guess, print out the result\\\n",
    "of the guess and the player’s amount of points. The computer\\\n",
    "then picks a new number and play continues in the same way\\\n",
    "until the player gets to 200 or more points (in which case they win)\\\n",
    "or 0 or less points (in which case they lose).\\\n",
    "Print out a message at the end indicating whether the player won or lost."
   ]
  },
  {
   "cell_type": "code",
   "execution_count": null,
   "id": "69236535-0306-49ef-b4a7-00e56ebadb83",
   "metadata": {},
   "outputs": [],
   "source": []
  },
  {
   "cell_type": "markdown",
   "id": "1e02e3ab-9113-42e0-a79d-754a2eb43b59",
   "metadata": {},
   "source": [
    "**Q6** Write a program that asks the user to enter a positive integer.\\\n",
    "Then generate and print random num- bers from 1 to n until a repeat\\\n",
    "is generated. Please also label the numbers in the order they are\\\n",
    "generated. The output should look something like this\\\n",
    "(stopping at 12 because of the repeat).\n",
    "\n",
    "1. 7\n",
    "2. 12\n",
    "3. 15\n",
    "4. 12"
   ]
  },
  {
   "cell_type": "code",
   "execution_count": null,
   "id": "b6ad53c4-ac57-49a7-91fd-bac561c50d6d",
   "metadata": {},
   "outputs": [],
   "source": []
  },
  {
   "cell_type": "markdown",
   "id": "1bb9f622-806a-46d6-8301-db3f120a9cdf",
   "metadata": {},
   "source": [
    "**Q7** Write a program that asks the user to enter\\\n",
    "several numbers separated by semicolons.\\\n",
    "Then print out the sum of all the numbers."
   ]
  },
  {
   "cell_type": "code",
   "execution_count": null,
   "id": "3c8bd3f7-b348-4900-ab98-e94a9a8ad3eb",
   "metadata": {},
   "outputs": [],
   "source": []
  },
  {
   "cell_type": "markdown",
   "id": "77221ca0-26cc-43b7-bb94-44041e89ab46",
   "metadata": {},
   "source": [
    "**Q8** Write a program that uses nested loops to print\\\n",
    "out all integer solutions to the equation 37x+14y=11\\\n",
    "with x and y both between -100 and 100."
   ]
  },
  {
   "cell_type": "code",
   "execution_count": null,
   "id": "d02e4203-dc38-401d-8073-a2804c6acf5a",
   "metadata": {},
   "outputs": [],
   "source": []
  },
  {
   "cell_type": "markdown",
   "id": "b1d244b8-7eee-4175-9e62-b922a2f11aa2",
   "metadata": {},
   "source": [
    "**Q9** Write a program that asks the user to enter a\\\n",
    "list of integers. Then use a while loop to read through\\\n",
    "the list and print the first index at which a consecutive repeat occurs\\\n",
    "and stop the loop. If there is no repeat in the list, then\\\n",
    "print a message indicating that."
   ]
  },
  {
   "cell_type": "code",
   "execution_count": null,
   "id": "e67de902-2e04-4334-8c44-68a920f45462",
   "metadata": {},
   "outputs": [],
   "source": []
  },
  {
   "cell_type": "markdown",
   "id": "8f3bd8f8-0140-40d8-bd58-db659437d8a1",
   "metadata": {},
   "source": [
    "**Q10** Write a program that creates and prints a\\\n",
    "6 × 6 list of random integers from 0 to 3. Then ask\\\n",
    "the user to enter a location in the list and print out\\\n",
    "the sum of all the neighbors of the value at that location.\\\n",
    "The neighbors of a cell are the up to eight cells that\\\n",
    "touch it horizontally, vertically, and diagonally.\\\n",
    "Be careful because cells at the edge of the list\\\n",
    "won’t have all eight neighbors."
   ]
  },
  {
   "cell_type": "code",
   "execution_count": null,
   "id": "07d0526f-9707-4ca5-b4ad-a9441d0949ec",
   "metadata": {},
   "outputs": [],
   "source": []
  }
 ],
 "metadata": {
  "kernelspec": {
   "display_name": "Python 3 (ipykernel)",
   "language": "python",
   "name": "python3"
  },
  "language_info": {
   "codemirror_mode": {
    "name": "ipython",
    "version": 3
   },
   "file_extension": ".py",
   "mimetype": "text/x-python",
   "name": "python",
   "nbconvert_exporter": "python",
   "pygments_lexer": "ipython3",
   "version": "3.11.4"
  }
 },
 "nbformat": 4,
 "nbformat_minor": 5
}
