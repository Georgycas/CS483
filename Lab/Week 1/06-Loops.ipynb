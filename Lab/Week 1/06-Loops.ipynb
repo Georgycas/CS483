{
 "cells": [
  {
   "cell_type": "markdown",
   "id": "13415a20-96f8-491a-bd69-1211e4bd5079",
   "metadata": {},
   "source": [
    "While Loops\n",
    "\n",
    "What if we really love Python and we want to print so 5 times:"
   ]
  },
  {
   "cell_type": "code",
   "execution_count": 1,
   "id": "ae946bba-d294-41dd-a0b1-7ee01fad2f30",
   "metadata": {
    "tags": []
   },
   "outputs": [
    {
     "name": "stdout",
     "output_type": "stream",
     "text": [
      "I love Python!\n",
      "I love Python!\n",
      "I love Python!\n",
      "I love Python!\n",
      "I love Python!\n"
     ]
    }
   ],
   "source": [
    "print(\"I love Python!\")\n",
    "print(\"I love Python!\")\n",
    "print(\"I love Python!\")\n",
    "print(\"I love Python!\")\n",
    "print(\"I love Python!\")"
   ]
  },
  {
   "cell_type": "markdown",
   "id": "b85b11dd-e933-42c3-af28-cb87c56fc060",
   "metadata": {},
   "source": [
    "The above code is sufficient. But is there a better way? \n",
    "\n",
    "Yes! We can use a `while` loop."
   ]
  },
  {
   "cell_type": "code",
   "execution_count": 2,
   "id": "694162da-6fa8-4fb3-bf96-07b5b3cd3278",
   "metadata": {
    "tags": []
   },
   "outputs": [
    {
     "name": "stdout",
     "output_type": "stream",
     "text": [
      "I love Python!\n",
      "I love Python!\n",
      "I love Python!\n",
      "I love Python!\n",
      "I love Python!\n"
     ]
    }
   ],
   "source": [
    "i = 0\n",
    "while i < 5:\n",
    "    print(\"I love Python!\")\n",
    "    i += 1\n"
   ]
  },
  {
   "cell_type": "markdown",
   "id": "8d66e1a8-cab6-4ed7-885c-e7b313ee92ad",
   "metadata": {},
   "source": [
    "Pay close attention to each line above. It's kind of like a\n",
    "repeating `if` statement. The code block under the `while`\n",
    "statement will run zero or more times, as long as the\n",
    "condition `i < 5` is `True`. The `i += 1` line is important\n",
    "because it increments the value of `i` by 1 each time the\n",
    "code block runs. If we didn't have this line, \n",
    "the loop would run forever!\n",
    "\n",
    "The variable `i` starts at 0, then is 1, then 2,\n",
    "then 3, then 4. When i is 5, the condition `i < 5`\n",
    "is no longer True, so the loop stops. \n",
    "The loop is executed 5 times.\n",
    "\n",
    "Also note that just like with if statements,\n",
    "whitespace matters. Make sure the code that belongs\n",
    "to the loops is indented."
   ]
  },
  {
   "cell_type": "markdown",
   "id": "7ec22ea9-e286-4440-a717-48a004259245",
   "metadata": {},
   "source": [
    "What is the scope of a while loop?\n",
    "\n",
    "The scope of a while loop is the same as an if\\\n",
    "statement, so just like if statements, loops\\\n",
    "do not create their own scope. All variables\\\n",
    "declared within the while loop are accessible\\\n",
    "outside of the loop. Loops share the same scope\\\n",
    "as the function they are in. Or the global scope\\\n",
    "if they are not in a function."
   ]
  },
  {
   "cell_type": "markdown",
   "id": "63c47a2b-3721-4f21-9ec5-957f4d9671ee",
   "metadata": {},
   "source": [
    "For Loops\n",
    "\n",
    "There is a second way of looping in Python,\\\n",
    "using the for keyword. This is called a `for` loop."
   ]
  },
  {
   "cell_type": "code",
   "execution_count": 3,
   "id": "7c9a3dc7-b95d-4c7b-ae57-1a1d0ffd0da0",
   "metadata": {
    "tags": []
   },
   "outputs": [
    {
     "name": "stdout",
     "output_type": "stream",
     "text": [
      "0\n",
      "1\n",
      "2\n",
      "3\n",
      "4\n",
      "5\n",
      "6\n",
      "7\n",
      "8\n",
      "9\n",
      "0\n",
      "1\n",
      "2\n",
      "3\n",
      "4\n",
      "5\n",
      "6\n",
      "7\n",
      "8\n",
      "9\n"
     ]
    }
   ],
   "source": [
    "i = 0\n",
    "while i < 10:\n",
    "    print(i)\n",
    "    i += 1\n",
    "\n",
    "for i in range(10):\n",
    "    print(i)\n"
   ]
  },
  {
   "cell_type": "markdown",
   "id": "5916dca5-f917-4fab-b85a-b865bd360ade",
   "metadata": {},
   "source": [
    "The above two loops are equivalent. The first loop uses\\\n",
    "a `while` loop and the second loop uses a `for` loop.\\\n",
    "Both loops will print the numbers 0 through 9.\\\n",
    "You can see that the `for` loop is more concise and easier to read.\n",
    "\n",
    "Let's explain the syntax of a `for` loop:\n",
    "\n",
    "The loop starts with the keyword `for`.\n",
    "- Next, you need to specify a variable name.\\\n",
    "  This variable will represent each item in the sequence.\n",
    "  In the example above, we used the variable name `i`.\n",
    "- After the variable name, you need to use the keyword `in`.\n",
    "- Finally, you need to specify the sequence you want to iterate over.\\\n",
    "  In the example above, we used the function `range(10)`. \n",
    "  This function generates a sequence of numbers from 0 to 9.\n",
    "  10 is not included in the sequence."
   ]
  },
  {
   "cell_type": "markdown",
   "id": "1f5515ef-2439-44af-8a5d-87476f697707",
   "metadata": {},
   "source": [
    "For Loops Start\n",
    "\n",
    "It would be very limiting if `for` loops could only\\\n",
    "start at 0. Well the good news is that they don't have to!\\\n",
    "You can start a `for` loop at any number you want.\\\n",
    "Simply pass two arguments in to the `range()` function."
   ]
  },
  {
   "cell_type": "code",
   "execution_count": 4,
   "id": "399f995b-b957-49aa-a19c-ab2b7f83518d",
   "metadata": {
    "tags": []
   },
   "outputs": [
    {
     "name": "stdout",
     "output_type": "stream",
     "text": [
      "2\n",
      "3\n",
      "4\n",
      "2\n",
      "3\n",
      "4\n"
     ]
    }
   ],
   "source": [
    "i = 2\n",
    "while i < 5:\n",
    "    print(i)\n",
    "    i += 1\n",
    "\n",
    "for i in range(2, 5):\n",
    "    print(i)\n"
   ]
  },
  {
   "cell_type": "markdown",
   "id": "a60d197b-87e9-44b1-ba93-9c005bfeeb3d",
   "metadata": {},
   "source": [
    "The above two loops are equivalent. The first parameter\\\n",
    "to the `range()` function is the starting number, and\\\n",
    "the second parameter is the ending number.\\\n",
    "The ending number is not included in the sequence.\\\n",
    "Each loops will print the numbers 2 through 4."
   ]
  },
  {
   "cell_type": "markdown",
   "id": "baba5486-a57a-446e-8cde-fcb8f4d8b833",
   "metadata": {},
   "source": [
    "For Loops Step\n",
    "\n",
    "With `for` loops we can also specify\\\n",
    "how much we want to increment the variable\\\n",
    "by on each iteration of the loop. This is called the `step`.\\\n",
    "By default, the step is 1. If we want to increment\\\n",
    "by a different number, we can add a third parameter to the `range()` function."
   ]
  },
  {
   "cell_type": "code",
   "execution_count": 5,
   "id": "59dca034-8b8d-45bb-b5ae-b55d1ddb2725",
   "metadata": {
    "tags": []
   },
   "outputs": [
    {
     "name": "stdout",
     "output_type": "stream",
     "text": [
      "0\n",
      "2\n",
      "4\n",
      "6\n",
      "8\n",
      "0\n",
      "2\n",
      "4\n",
      "6\n",
      "8\n"
     ]
    }
   ],
   "source": [
    "i = 0\n",
    "while i < 10:\n",
    "    print(i)\n",
    "    i += 2\n",
    "\n",
    "for i in range(0, 10, 2):\n",
    "    print(i)\n"
   ]
  },
  {
   "cell_type": "markdown",
   "id": "10db437c-4b7b-4b84-b5ab-a877c385c70d",
   "metadata": {},
   "source": [
    "The above two loops are equivalent. Each loop will print the numbers 0, 2, 4, 6 and 8.\\\n",
    "\n",
    "- The 0 passed into the range() function is the starting number.\n",
    "- The 10 passed into the range() function is the ending number.\\\n",
    "  The loop will stop once it reaches or exceeds this number.\\\n",
    "  Meaning that the number 10 is not included in the sequence.\n",
    "- The 2 passed into the range() function is the step.\\\n",
    "  This is how much the variable will increment by on each\\\n",
    "  iteration of the loop."
   ]
  },
  {
   "cell_type": "markdown",
   "id": "21b6a392-5e8b-4a8d-8a0c-eaee44e51519",
   "metadata": {},
   "source": [
    "For Loops Reverse\n",
    "\n",
    "We can also use a `for` loop to iterate through\\\n",
    "a sequence of numbers in reverse order. To do this,\\\n",
    "we can pass a negative number as the third parameter\\\n",
    "to the `range()` function. This number will be the step,\\\n",
    "and it will determine how much the variable will decrement\\\n",
    "by on each iteration of the loop."
   ]
  },
  {
   "cell_type": "code",
   "execution_count": 6,
   "id": "90da22be-19e2-49b7-a46e-fc2f98ba698e",
   "metadata": {
    "tags": []
   },
   "outputs": [
    {
     "name": "stdout",
     "output_type": "stream",
     "text": [
      "10\n",
      "9\n",
      "8\n",
      "7\n",
      "6\n",
      "5\n",
      "4\n",
      "3\n",
      "2\n",
      "1\n",
      "10\n",
      "9\n",
      "8\n",
      "7\n",
      "6\n",
      "5\n",
      "4\n",
      "3\n",
      "2\n",
      "1\n"
     ]
    }
   ],
   "source": [
    "i = 10\n",
    "while i > 0:\n",
    "    print(i)\n",
    "    i -= 1\n",
    "\n",
    "for i in range(10, 0, -1):\n",
    "    print(i)\n"
   ]
  },
  {
   "cell_type": "markdown",
   "id": "074aba63-5c2c-43a9-a943-89b245db270a",
   "metadata": {},
   "source": [
    "The above two loops are equivalent. Each loop will print the numbers 10 through 1.\n",
    "\n",
    "- The 10 passed into the `range()` function is the starting number.\n",
    "- The 0 passed into the `range()` function is the ending number.\\\n",
    "  The loop will stop once it reaches or is less than this number.\\\n",
    "  Meaning that the number 0 is not included in the sequence.\n",
    "- The -1 passed into the `range()` function is the step. This\\\n",
    "  is how much the variable will decrement by on each iteration of the loop."
   ]
  },
  {
   "cell_type": "markdown",
   "id": "a98f9e08-b8eb-4cf6-93ff-6a0ff4e99b97",
   "metadata": {},
   "source": [
    "Nested Loops\n",
    "\n",
    "Suppose we wanted to print all possible pairs\\\n",
    "from the following set of integers 1, 2, 3, where\\\n",
    "the order of the pairs matters. \n",
    "\n",
    "This can be accomplished by placing a loop inside\\\n",
    "of another loop. This is called a nested loop."
   ]
  },
  {
   "cell_type": "code",
   "execution_count": 7,
   "id": "f066a347-092d-4155-b15e-3e2d0d8edba8",
   "metadata": {
    "tags": []
   },
   "outputs": [
    {
     "name": "stdout",
     "output_type": "stream",
     "text": [
      "1 1\n",
      "1 2\n",
      "1 3\n",
      "2 1\n",
      "2 2\n",
      "2 3\n",
      "3 1\n",
      "3 2\n",
      "3 3\n"
     ]
    }
   ],
   "source": [
    "for i in range(1, 4):\n",
    "    for j in range(1, 4):\n",
    "        print(i, j)\n"
   ]
  },
  {
   "cell_type": "markdown",
   "id": "d783b420-8a4d-4027-8493-383167fc9c00",
   "metadata": {},
   "source": [
    "A few things to notice:\n",
    "\n",
    "- Remember loops do not create their own scope. So we must\n",
    "  use different variable names for the nested loops.\n",
    "- The inner loop must be indented to show that it is inside the outer loop.\n",
    "- We are printing two variables at the same time, which is why\\\n",
    "  we place a comma between them. This means that each value\\\n",
    "  is a separate argument to the print function.\n",
    "- The outer loop will run 3 times total.\n",
    "- The inner loop will run 3 times, for each iteration of the outer loop.\\\n",
    "  This will result in the print statement being executed 9 times.\\\n",
    "  The inner loop will run to completion before the outer loop continues."
   ]
  },
  {
   "cell_type": "markdown",
   "id": "80a8d044-7c1f-4e68-9dde-ad4ddfbcc8a6",
   "metadata": {},
   "source": [
    "Control Flow\n",
    "\n",
    "Python provides control statements to alter the execution of loops.\n",
    "\n",
    "- `break`: Exits the loop immediately.\n",
    "- `continue`: Skips the remaining code inside\\\n",
    "   the loop for the current iteration and moves to the next iteration.\n",
    "- `pass`: Acts as a placeholder and does nothing. We cannot\\\n",
    "   have empty loops, so we use pass to avoid errors. It can also be used in conditional statements and functions."
   ]
  },
  {
   "cell_type": "code",
   "execution_count": 8,
   "id": "7aca64b9-f549-468c-bf8f-aadedeb0a057",
   "metadata": {
    "tags": []
   },
   "outputs": [],
   "source": [
    "for i in range(1, 8):\n",
    "    pass\n",
    "\n",
    "if True:\n",
    "    pass\n",
    "\n",
    "def unfinsished_function():\n",
    "    pass\n"
   ]
  },
  {
   "cell_type": "markdown",
   "id": "bbd7c252-9661-4434-8a78-c2788b7caaae",
   "metadata": {},
   "source": [
    "None of the above code will actually do anything, but it also won't cause an error.\n",
    "\n",
    "Here's an example demonstrating the break and continue control statements:"
   ]
  },
  {
   "cell_type": "code",
   "execution_count": 9,
   "id": "8ba03458-2f07-4e54-a4d4-fabc6e65a58a",
   "metadata": {
    "tags": []
   },
   "outputs": [
    {
     "name": "stdout",
     "output_type": "stream",
     "text": [
      "1\n",
      "2\n",
      "4\n",
      "5\n"
     ]
    }
   ],
   "source": [
    "for i in range(1, 8):\n",
    "    if i == 3:\n",
    "        continue  \n",
    "    elif i == 6 :\n",
    "        break  \n",
    "    print(i)\n"
   ]
  },
  {
   "cell_type": "markdown",
   "id": "4397b40a-42ed-460d-99a9-5334ae80732c",
   "metadata": {},
   "source": [
    "Notice that the output is missing some numbers?\n",
    "\n",
    "Thats because when `i` was equal to `3` the `if`\\\n",
    "statements block of code executed causing the loop\\\n",
    "to `continue` to the next iteration of the loop,\\\n",
    "before reaching the `print(i)` line.\n",
    "\n",
    "When `number` was equal to `6` the loop exited,\\\n",
    "because the `break` statement executed.\n",
    "\n",
    "For the numbers where neither condition executed,\\\n",
    "the `print(i)` line was reached.\n",
    "\n",
    "Control flow statements are commonly used, but they\\\n",
    "are not usually required. They are generally used to \\\n",
    "make code more readable."
   ]
  },
  {
   "cell_type": "code",
   "execution_count": null,
   "id": "cfdd8c9a-bb0d-4827-a106-83d186e8fa8e",
   "metadata": {},
   "outputs": [],
   "source": []
  }
 ],
 "metadata": {
  "kernelspec": {
   "display_name": "Python 3 (ipykernel)",
   "language": "python",
   "name": "python3"
  },
  "language_info": {
   "codemirror_mode": {
    "name": "ipython",
    "version": 3
   },
   "file_extension": ".py",
   "mimetype": "text/x-python",
   "name": "python",
   "nbconvert_exporter": "python",
   "pygments_lexer": "ipython3",
   "version": "3.11.4"
  }
 },
 "nbformat": 4,
 "nbformat_minor": 5
}
